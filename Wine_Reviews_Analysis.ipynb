{
 "cells": [
  {
   "cell_type": "markdown",
   "metadata": {},
   "source": [
    "# Data Analysis: Wine Reviews"
   ]
  },
  {
   "cell_type": "markdown",
   "metadata": {},
   "source": [
    "Goal: Predict the price of a bottle of wine based on attributes such as: where it is from, what type of wine, and the description.\n",
    "\n",
    "Data source is from Kaggle: https://www.kaggle.com/zynicide/wine-reviews/data\n",
    "\n",
    "Subgoals:\n",
    "1. Regression: Predict a wine's price only using the text in the `description` column.\n",
    "2. Classification: Predict whether a wine costs more than 42 dollars only using the `description` column.\n",
    "\n",
    "3. Regression: Predict a wine's price using any column _except_ for the `description` column.\n",
    "4. Classification: Predict whether a wine costs more than 42 dollars using any column _except_ for the `description` column."
   ]
  },
  {
   "cell_type": "markdown",
   "metadata": {},
   "source": [
    "## Clean and Explore data"
   ]
  },
  {
   "cell_type": "markdown",
   "metadata": {},
   "source": [
    "### Import data"
   ]
  },
  {
   "cell_type": "code",
   "execution_count": 1,
   "metadata": {},
   "outputs": [],
   "source": [
    "import pandas as pd\n",
    "import numpy as np"
   ]
  },
  {
   "cell_type": "code",
   "execution_count": 2,
   "metadata": {},
   "outputs": [],
   "source": [
    "wines_csv = 'winemag-data-130k-v2.csv'"
   ]
  },
  {
   "cell_type": "code",
   "execution_count": 3,
   "metadata": {},
   "outputs": [],
   "source": [
    "wines = pd.read_csv(wines_csv)"
   ]
  },
  {
   "cell_type": "code",
   "execution_count": 4,
   "metadata": {
    "scrolled": true
   },
   "outputs": [
    {
     "data": {
      "text/html": [
       "<div>\n",
       "<style>\n",
       "    .dataframe thead tr:only-child th {\n",
       "        text-align: right;\n",
       "    }\n",
       "\n",
       "    .dataframe thead th {\n",
       "        text-align: left;\n",
       "    }\n",
       "\n",
       "    .dataframe tbody tr th {\n",
       "        vertical-align: top;\n",
       "    }\n",
       "</style>\n",
       "<table border=\"1\" class=\"dataframe\">\n",
       "  <thead>\n",
       "    <tr style=\"text-align: right;\">\n",
       "      <th></th>\n",
       "      <th>Unnamed: 0</th>\n",
       "      <th>country</th>\n",
       "      <th>description</th>\n",
       "      <th>designation</th>\n",
       "      <th>points</th>\n",
       "      <th>price</th>\n",
       "      <th>province</th>\n",
       "      <th>region_1</th>\n",
       "      <th>region_2</th>\n",
       "      <th>taster_name</th>\n",
       "      <th>taster_twitter_handle</th>\n",
       "      <th>title</th>\n",
       "      <th>variety</th>\n",
       "      <th>winery</th>\n",
       "    </tr>\n",
       "  </thead>\n",
       "  <tbody>\n",
       "    <tr>\n",
       "      <th>0</th>\n",
       "      <td>0</td>\n",
       "      <td>Italy</td>\n",
       "      <td>Aromas include tropical fruit, broom, brimston...</td>\n",
       "      <td>Vulkà Bianco</td>\n",
       "      <td>87</td>\n",
       "      <td>NaN</td>\n",
       "      <td>Sicily &amp; Sardinia</td>\n",
       "      <td>Etna</td>\n",
       "      <td>NaN</td>\n",
       "      <td>Kerin O’Keefe</td>\n",
       "      <td>@kerinokeefe</td>\n",
       "      <td>Nicosia 2013 Vulkà Bianco  (Etna)</td>\n",
       "      <td>White Blend</td>\n",
       "      <td>Nicosia</td>\n",
       "    </tr>\n",
       "    <tr>\n",
       "      <th>1</th>\n",
       "      <td>1</td>\n",
       "      <td>Portugal</td>\n",
       "      <td>This is ripe and fruity, a wine that is smooth...</td>\n",
       "      <td>Avidagos</td>\n",
       "      <td>87</td>\n",
       "      <td>15.0</td>\n",
       "      <td>Douro</td>\n",
       "      <td>NaN</td>\n",
       "      <td>NaN</td>\n",
       "      <td>Roger Voss</td>\n",
       "      <td>@vossroger</td>\n",
       "      <td>Quinta dos Avidagos 2011 Avidagos Red (Douro)</td>\n",
       "      <td>Portuguese Red</td>\n",
       "      <td>Quinta dos Avidagos</td>\n",
       "    </tr>\n",
       "    <tr>\n",
       "      <th>2</th>\n",
       "      <td>2</td>\n",
       "      <td>US</td>\n",
       "      <td>Tart and snappy, the flavors of lime flesh and...</td>\n",
       "      <td>NaN</td>\n",
       "      <td>87</td>\n",
       "      <td>14.0</td>\n",
       "      <td>Oregon</td>\n",
       "      <td>Willamette Valley</td>\n",
       "      <td>Willamette Valley</td>\n",
       "      <td>Paul Gregutt</td>\n",
       "      <td>@paulgwine</td>\n",
       "      <td>Rainstorm 2013 Pinot Gris (Willamette Valley)</td>\n",
       "      <td>Pinot Gris</td>\n",
       "      <td>Rainstorm</td>\n",
       "    </tr>\n",
       "    <tr>\n",
       "      <th>3</th>\n",
       "      <td>3</td>\n",
       "      <td>US</td>\n",
       "      <td>Pineapple rind, lemon pith and orange blossom ...</td>\n",
       "      <td>Reserve Late Harvest</td>\n",
       "      <td>87</td>\n",
       "      <td>13.0</td>\n",
       "      <td>Michigan</td>\n",
       "      <td>Lake Michigan Shore</td>\n",
       "      <td>NaN</td>\n",
       "      <td>Alexander Peartree</td>\n",
       "      <td>NaN</td>\n",
       "      <td>St. Julian 2013 Reserve Late Harvest Riesling ...</td>\n",
       "      <td>Riesling</td>\n",
       "      <td>St. Julian</td>\n",
       "    </tr>\n",
       "    <tr>\n",
       "      <th>4</th>\n",
       "      <td>4</td>\n",
       "      <td>US</td>\n",
       "      <td>Much like the regular bottling from 2012, this...</td>\n",
       "      <td>Vintner's Reserve Wild Child Block</td>\n",
       "      <td>87</td>\n",
       "      <td>65.0</td>\n",
       "      <td>Oregon</td>\n",
       "      <td>Willamette Valley</td>\n",
       "      <td>Willamette Valley</td>\n",
       "      <td>Paul Gregutt</td>\n",
       "      <td>@paulgwine</td>\n",
       "      <td>Sweet Cheeks 2012 Vintner's Reserve Wild Child...</td>\n",
       "      <td>Pinot Noir</td>\n",
       "      <td>Sweet Cheeks</td>\n",
       "    </tr>\n",
       "  </tbody>\n",
       "</table>\n",
       "</div>"
      ],
      "text/plain": [
       "   Unnamed: 0   country                                        description  \\\n",
       "0           0     Italy  Aromas include tropical fruit, broom, brimston...   \n",
       "1           1  Portugal  This is ripe and fruity, a wine that is smooth...   \n",
       "2           2        US  Tart and snappy, the flavors of lime flesh and...   \n",
       "3           3        US  Pineapple rind, lemon pith and orange blossom ...   \n",
       "4           4        US  Much like the regular bottling from 2012, this...   \n",
       "\n",
       "                          designation  points  price           province  \\\n",
       "0                        Vulkà Bianco      87    NaN  Sicily & Sardinia   \n",
       "1                            Avidagos      87   15.0              Douro   \n",
       "2                                 NaN      87   14.0             Oregon   \n",
       "3                Reserve Late Harvest      87   13.0           Michigan   \n",
       "4  Vintner's Reserve Wild Child Block      87   65.0             Oregon   \n",
       "\n",
       "              region_1           region_2         taster_name  \\\n",
       "0                 Etna                NaN       Kerin O’Keefe   \n",
       "1                  NaN                NaN          Roger Voss   \n",
       "2    Willamette Valley  Willamette Valley        Paul Gregutt   \n",
       "3  Lake Michigan Shore                NaN  Alexander Peartree   \n",
       "4    Willamette Valley  Willamette Valley        Paul Gregutt   \n",
       "\n",
       "  taster_twitter_handle                                              title  \\\n",
       "0          @kerinokeefe                  Nicosia 2013 Vulkà Bianco  (Etna)   \n",
       "1            @vossroger      Quinta dos Avidagos 2011 Avidagos Red (Douro)   \n",
       "2           @paulgwine       Rainstorm 2013 Pinot Gris (Willamette Valley)   \n",
       "3                   NaN  St. Julian 2013 Reserve Late Harvest Riesling ...   \n",
       "4           @paulgwine   Sweet Cheeks 2012 Vintner's Reserve Wild Child...   \n",
       "\n",
       "          variety               winery  \n",
       "0     White Blend              Nicosia  \n",
       "1  Portuguese Red  Quinta dos Avidagos  \n",
       "2      Pinot Gris            Rainstorm  \n",
       "3        Riesling           St. Julian  \n",
       "4      Pinot Noir         Sweet Cheeks  "
      ]
     },
     "execution_count": 4,
     "metadata": {},
     "output_type": "execute_result"
    }
   ],
   "source": [
    "wines.head()"
   ]
  },
  {
   "cell_type": "code",
   "execution_count": 5,
   "metadata": {
    "scrolled": true
   },
   "outputs": [
    {
     "data": {
      "text/html": [
       "<div>\n",
       "<style>\n",
       "    .dataframe thead tr:only-child th {\n",
       "        text-align: right;\n",
       "    }\n",
       "\n",
       "    .dataframe thead th {\n",
       "        text-align: left;\n",
       "    }\n",
       "\n",
       "    .dataframe tbody tr th {\n",
       "        vertical-align: top;\n",
       "    }\n",
       "</style>\n",
       "<table border=\"1\" class=\"dataframe\">\n",
       "  <thead>\n",
       "    <tr style=\"text-align: right;\">\n",
       "      <th></th>\n",
       "      <th>Unnamed: 0</th>\n",
       "      <th>points</th>\n",
       "      <th>price</th>\n",
       "    </tr>\n",
       "  </thead>\n",
       "  <tbody>\n",
       "    <tr>\n",
       "      <th>count</th>\n",
       "      <td>129971.000000</td>\n",
       "      <td>129971.000000</td>\n",
       "      <td>120975.000000</td>\n",
       "    </tr>\n",
       "    <tr>\n",
       "      <th>mean</th>\n",
       "      <td>64985.000000</td>\n",
       "      <td>88.447138</td>\n",
       "      <td>35.363389</td>\n",
       "    </tr>\n",
       "    <tr>\n",
       "      <th>std</th>\n",
       "      <td>37519.540256</td>\n",
       "      <td>3.039730</td>\n",
       "      <td>41.022218</td>\n",
       "    </tr>\n",
       "    <tr>\n",
       "      <th>min</th>\n",
       "      <td>0.000000</td>\n",
       "      <td>80.000000</td>\n",
       "      <td>4.000000</td>\n",
       "    </tr>\n",
       "    <tr>\n",
       "      <th>25%</th>\n",
       "      <td>32492.500000</td>\n",
       "      <td>86.000000</td>\n",
       "      <td>17.000000</td>\n",
       "    </tr>\n",
       "    <tr>\n",
       "      <th>50%</th>\n",
       "      <td>64985.000000</td>\n",
       "      <td>88.000000</td>\n",
       "      <td>25.000000</td>\n",
       "    </tr>\n",
       "    <tr>\n",
       "      <th>75%</th>\n",
       "      <td>97477.500000</td>\n",
       "      <td>91.000000</td>\n",
       "      <td>42.000000</td>\n",
       "    </tr>\n",
       "    <tr>\n",
       "      <th>max</th>\n",
       "      <td>129970.000000</td>\n",
       "      <td>100.000000</td>\n",
       "      <td>3300.000000</td>\n",
       "    </tr>\n",
       "  </tbody>\n",
       "</table>\n",
       "</div>"
      ],
      "text/plain": [
       "          Unnamed: 0         points          price\n",
       "count  129971.000000  129971.000000  120975.000000\n",
       "mean    64985.000000      88.447138      35.363389\n",
       "std     37519.540256       3.039730      41.022218\n",
       "min         0.000000      80.000000       4.000000\n",
       "25%     32492.500000      86.000000      17.000000\n",
       "50%     64985.000000      88.000000      25.000000\n",
       "75%     97477.500000      91.000000      42.000000\n",
       "max    129970.000000     100.000000    3300.000000"
      ]
     },
     "execution_count": 5,
     "metadata": {},
     "output_type": "execute_result"
    }
   ],
   "source": [
    "wines.describe()"
   ]
  },
  {
   "cell_type": "markdown",
   "metadata": {},
   "source": [
    "Notes: Looking through the csv file, it looks like: \n",
    "- `Unnamed` is just an ID. \n",
    "- `twitter_handle` seems to be a subset of `taster_name`. \n",
    "- The `title`s of a wine tends for follow a general format of: `winery` + year + `designation` + `variety` + (`region` or `province`). So most of it seems to capture repeat information, except for the year. We could likely extract the year and discard the rest of the title without losing too much information.\n",
    "- `region_1` seems more specific than `region_2`, because wines with the same `region_2` may have the same `region_1`, but according to the data dictionary on Kaggle, supposedly `region_2` should be more specific than `region_1`.\n",
    "- It appears that all of these wines have a `points` score of at least 80."
   ]
  },
  {
   "cell_type": "markdown",
   "metadata": {},
   "source": [
    "In terms of price, it seems that the average price is 35 dollars. The cheapest wine is 4 dollars. The most expensive wine is 3,300 dollars (and it is, somewhat unsurprisingly, from France)."
   ]
  },
  {
   "cell_type": "code",
   "execution_count": 4,
   "metadata": {},
   "outputs": [],
   "source": [
    "value_wines = wines['description'].str.contains('value')"
   ]
  },
  {
   "cell_type": "code",
   "execution_count": 7,
   "metadata": {},
   "outputs": [
    {
     "data": {
      "text/html": [
       "<div>\n",
       "<style>\n",
       "    .dataframe thead tr:only-child th {\n",
       "        text-align: right;\n",
       "    }\n",
       "\n",
       "    .dataframe thead th {\n",
       "        text-align: left;\n",
       "    }\n",
       "\n",
       "    .dataframe tbody tr th {\n",
       "        vertical-align: top;\n",
       "    }\n",
       "</style>\n",
       "<table border=\"1\" class=\"dataframe\">\n",
       "  <thead>\n",
       "    <tr style=\"text-align: right;\">\n",
       "      <th></th>\n",
       "      <th>Unnamed: 0</th>\n",
       "      <th>country</th>\n",
       "      <th>description</th>\n",
       "      <th>designation</th>\n",
       "      <th>points</th>\n",
       "      <th>price</th>\n",
       "      <th>province</th>\n",
       "      <th>region_1</th>\n",
       "      <th>region_2</th>\n",
       "      <th>taster_name</th>\n",
       "      <th>taster_twitter_handle</th>\n",
       "      <th>title</th>\n",
       "      <th>variety</th>\n",
       "      <th>winery</th>\n",
       "    </tr>\n",
       "  </thead>\n",
       "  <tbody>\n",
       "    <tr>\n",
       "      <th>10</th>\n",
       "      <td>10</td>\n",
       "      <td>US</td>\n",
       "      <td>Soft, supple plum envelopes an oaky structure ...</td>\n",
       "      <td>Mountain Cuvée</td>\n",
       "      <td>87</td>\n",
       "      <td>19.0</td>\n",
       "      <td>California</td>\n",
       "      <td>Napa Valley</td>\n",
       "      <td>Napa</td>\n",
       "      <td>Virginie Boone</td>\n",
       "      <td>@vboone</td>\n",
       "      <td>Kirkland Signature 2011 Mountain Cuvée Caberne...</td>\n",
       "      <td>Cabernet Sauvignon</td>\n",
       "      <td>Kirkland Signature</td>\n",
       "    </tr>\n",
       "    <tr>\n",
       "      <th>21</th>\n",
       "      <td>21</td>\n",
       "      <td>US</td>\n",
       "      <td>A sleek mix of tart berry, stem and herb, alon...</td>\n",
       "      <td>NaN</td>\n",
       "      <td>87</td>\n",
       "      <td>20.0</td>\n",
       "      <td>Oregon</td>\n",
       "      <td>Oregon</td>\n",
       "      <td>Oregon Other</td>\n",
       "      <td>Paul Gregutt</td>\n",
       "      <td>@paulgwine</td>\n",
       "      <td>Acrobat 2013 Pinot Noir (Oregon)</td>\n",
       "      <td>Pinot Noir</td>\n",
       "      <td>Acrobat</td>\n",
       "    </tr>\n",
       "    <tr>\n",
       "      <th>156</th>\n",
       "      <td>156</td>\n",
       "      <td>Germany</td>\n",
       "      <td>Approachably fruity yet nuanced and electrifyi...</td>\n",
       "      <td>Graacher Himmelreich Spätlese</td>\n",
       "      <td>91</td>\n",
       "      <td>14.0</td>\n",
       "      <td>Mosel</td>\n",
       "      <td>NaN</td>\n",
       "      <td>NaN</td>\n",
       "      <td>Anna Lee C. Iijima</td>\n",
       "      <td>NaN</td>\n",
       "      <td>Carl Graff 2014 Graacher Himmelreich Spätlese ...</td>\n",
       "      <td>Riesling</td>\n",
       "      <td>Carl Graff</td>\n",
       "    </tr>\n",
       "    <tr>\n",
       "      <th>188</th>\n",
       "      <td>188</td>\n",
       "      <td>Chile</td>\n",
       "      <td>Bisquertt usually does well with its value-pri...</td>\n",
       "      <td>Casa La Joya Reserve</td>\n",
       "      <td>88</td>\n",
       "      <td>11.0</td>\n",
       "      <td>Colchagua Valley</td>\n",
       "      <td>NaN</td>\n",
       "      <td>NaN</td>\n",
       "      <td>Michael Schachner</td>\n",
       "      <td>@wineschach</td>\n",
       "      <td>Viña Bisquertt 2007 Casa La Joya Reserve Merlo...</td>\n",
       "      <td>Merlot</td>\n",
       "      <td>Viña Bisquertt</td>\n",
       "    </tr>\n",
       "    <tr>\n",
       "      <th>189</th>\n",
       "      <td>189</td>\n",
       "      <td>Chile</td>\n",
       "      <td>Clean and honest up front, with moderate richn...</td>\n",
       "      <td>Natura</td>\n",
       "      <td>87</td>\n",
       "      <td>11.0</td>\n",
       "      <td>Casablanca Valley</td>\n",
       "      <td>NaN</td>\n",
       "      <td>NaN</td>\n",
       "      <td>Michael Schachner</td>\n",
       "      <td>@wineschach</td>\n",
       "      <td>Emiliana 2008 Natura Chardonnay (Casablanca Va...</td>\n",
       "      <td>Chardonnay</td>\n",
       "      <td>Emiliana</td>\n",
       "    </tr>\n",
       "    <tr>\n",
       "      <th>256</th>\n",
       "      <td>256</td>\n",
       "      <td>South Africa</td>\n",
       "      <td>A good value, this is an easy-pleasing Syrah w...</td>\n",
       "      <td>Goat-Roti</td>\n",
       "      <td>89</td>\n",
       "      <td>20.0</td>\n",
       "      <td>Coastal Region</td>\n",
       "      <td>NaN</td>\n",
       "      <td>NaN</td>\n",
       "      <td>Lauren Buzzeo</td>\n",
       "      <td>@laurbuzz</td>\n",
       "      <td>Goats do Roam Wine Co. 2008 Goat-Roti Syrah-Vi...</td>\n",
       "      <td>Syrah-Viognier</td>\n",
       "      <td>Goats do Roam Wine Co.</td>\n",
       "    </tr>\n",
       "    <tr>\n",
       "      <th>392</th>\n",
       "      <td>392</td>\n",
       "      <td>US</td>\n",
       "      <td>A lovely wine, made even more attractive by th...</td>\n",
       "      <td>NaN</td>\n",
       "      <td>87</td>\n",
       "      <td>12.0</td>\n",
       "      <td>California</td>\n",
       "      <td>Santa Ynez Valley</td>\n",
       "      <td>Central Coast</td>\n",
       "      <td>NaN</td>\n",
       "      <td>NaN</td>\n",
       "      <td>Bridlewood 2000 Sauvignon Blanc (Santa Ynez Va...</td>\n",
       "      <td>Sauvignon Blanc</td>\n",
       "      <td>Bridlewood</td>\n",
       "    </tr>\n",
       "    <tr>\n",
       "      <th>670</th>\n",
       "      <td>670</td>\n",
       "      <td>US</td>\n",
       "      <td>Dark berry, herb and fig aromas lead to dense,...</td>\n",
       "      <td>Eco Made with Organic Grapes</td>\n",
       "      <td>90</td>\n",
       "      <td>13.0</td>\n",
       "      <td>Washington</td>\n",
       "      <td>Columbia Valley (WA)</td>\n",
       "      <td>Columbia Valley</td>\n",
       "      <td>Sean P. Sullivan</td>\n",
       "      <td>@wawinereport</td>\n",
       "      <td>Snoqualmie 2013 Eco Made with Organic Grapes C...</td>\n",
       "      <td>Cabernet Sauvignon</td>\n",
       "      <td>Snoqualmie</td>\n",
       "    </tr>\n",
       "    <tr>\n",
       "      <th>768</th>\n",
       "      <td>768</td>\n",
       "      <td>Australia</td>\n",
       "      <td>A good value in easy-to-drink Cabernet, McWill...</td>\n",
       "      <td>NaN</td>\n",
       "      <td>87</td>\n",
       "      <td>11.0</td>\n",
       "      <td>Australia Other</td>\n",
       "      <td>South Eastern Australia</td>\n",
       "      <td>NaN</td>\n",
       "      <td>Joe Czerwinski</td>\n",
       "      <td>@JoeCz</td>\n",
       "      <td>McWilliam's Hanwood Estate 2008 Cabernet Sauvi...</td>\n",
       "      <td>Cabernet Sauvignon</td>\n",
       "      <td>McWilliam's Hanwood Estate</td>\n",
       "    </tr>\n",
       "    <tr>\n",
       "      <th>1008</th>\n",
       "      <td>1008</td>\n",
       "      <td>Australia</td>\n",
       "      <td>Intense and focused, this good value Coonawarr...</td>\n",
       "      <td>NaN</td>\n",
       "      <td>88</td>\n",
       "      <td>14.0</td>\n",
       "      <td>South Australia</td>\n",
       "      <td>Coonawarra</td>\n",
       "      <td>NaN</td>\n",
       "      <td>NaN</td>\n",
       "      <td>NaN</td>\n",
       "      <td>Nick Faldo 2005 Shiraz (Coonawarra)</td>\n",
       "      <td>Shiraz</td>\n",
       "      <td>Nick Faldo</td>\n",
       "    </tr>\n",
       "    <tr>\n",
       "      <th>1050</th>\n",
       "      <td>1050</td>\n",
       "      <td>US</td>\n",
       "      <td>Shows plenty of lush, ripe fruit, wrapped in s...</td>\n",
       "      <td>NaN</td>\n",
       "      <td>85</td>\n",
       "      <td>10.0</td>\n",
       "      <td>California</td>\n",
       "      <td>California</td>\n",
       "      <td>California Other</td>\n",
       "      <td>NaN</td>\n",
       "      <td>NaN</td>\n",
       "      <td>Little Black Dress 2006 Merlot (California)</td>\n",
       "      <td>Merlot</td>\n",
       "      <td>Little Black Dress</td>\n",
       "    </tr>\n",
       "    <tr>\n",
       "      <th>1116</th>\n",
       "      <td>1116</td>\n",
       "      <td>US</td>\n",
       "      <td>One of a string of great values made at Terrav...</td>\n",
       "      <td>NaN</td>\n",
       "      <td>90</td>\n",
       "      <td>10.0</td>\n",
       "      <td>California</td>\n",
       "      <td>California</td>\n",
       "      <td>California Other</td>\n",
       "      <td>Jim Gordon</td>\n",
       "      <td>@gordone_cellars</td>\n",
       "      <td>Cookies &amp; Cream 2010 Merlot (California)</td>\n",
       "      <td>Merlot</td>\n",
       "      <td>Cookies &amp; Cream</td>\n",
       "    </tr>\n",
       "    <tr>\n",
       "      <th>1174</th>\n",
       "      <td>1174</td>\n",
       "      <td>Argentina</td>\n",
       "      <td>Toast and char sit atop the bouquet like a hea...</td>\n",
       "      <td>Trumpeter</td>\n",
       "      <td>86</td>\n",
       "      <td>12.0</td>\n",
       "      <td>Mendoza Province</td>\n",
       "      <td>Mendoza</td>\n",
       "      <td>NaN</td>\n",
       "      <td>Michael Schachner</td>\n",
       "      <td>@wineschach</td>\n",
       "      <td>Rutini 2006 Trumpeter Merlot (Mendoza)</td>\n",
       "      <td>Merlot</td>\n",
       "      <td>Rutini</td>\n",
       "    </tr>\n",
       "    <tr>\n",
       "      <th>1292</th>\n",
       "      <td>1292</td>\n",
       "      <td>Italy</td>\n",
       "      <td>This vibrant wine opens with varietal aromas o...</td>\n",
       "      <td>NaN</td>\n",
       "      <td>89</td>\n",
       "      <td>13.0</td>\n",
       "      <td>Northeastern Italy</td>\n",
       "      <td>Trentino</td>\n",
       "      <td>NaN</td>\n",
       "      <td>Kerin O’Keefe</td>\n",
       "      <td>@kerinokeefe</td>\n",
       "      <td>Cembra 2013 Sauvignon (Trentino)</td>\n",
       "      <td>Sauvignon</td>\n",
       "      <td>Cembra</td>\n",
       "    </tr>\n",
       "    <tr>\n",
       "      <th>1478</th>\n",
       "      <td>1478</td>\n",
       "      <td>Australia</td>\n",
       "      <td>This 60-40 blend features gentle aromas of van...</td>\n",
       "      <td>Yellow Label</td>\n",
       "      <td>85</td>\n",
       "      <td>12.0</td>\n",
       "      <td>South Australia</td>\n",
       "      <td>South Australia</td>\n",
       "      <td>NaN</td>\n",
       "      <td>Joe Czerwinski</td>\n",
       "      <td>@JoeCz</td>\n",
       "      <td>Wolf Blass 2005 Yellow Label Shiraz-Cabernet S...</td>\n",
       "      <td>Shiraz-Cabernet Sauvignon</td>\n",
       "      <td>Wolf Blass</td>\n",
       "    </tr>\n",
       "    <tr>\n",
       "      <th>1548</th>\n",
       "      <td>1548</td>\n",
       "      <td>Chile</td>\n",
       "      <td>Wiry currant and plum aromas show a touch of o...</td>\n",
       "      <td>120 Reserva Especial</td>\n",
       "      <td>85</td>\n",
       "      <td>8.0</td>\n",
       "      <td>Central Valley</td>\n",
       "      <td>NaN</td>\n",
       "      <td>NaN</td>\n",
       "      <td>Michael Schachner</td>\n",
       "      <td>@wineschach</td>\n",
       "      <td>Santa Rita 2016 120 Reserva Especial Carmenère...</td>\n",
       "      <td>Carmenère</td>\n",
       "      <td>Santa Rita</td>\n",
       "    </tr>\n",
       "    <tr>\n",
       "      <th>1607</th>\n",
       "      <td>1607</td>\n",
       "      <td>US</td>\n",
       "      <td>This has value written all over it, offering f...</td>\n",
       "      <td>NaN</td>\n",
       "      <td>87</td>\n",
       "      <td>12.0</td>\n",
       "      <td>California</td>\n",
       "      <td>Sonoma Coast</td>\n",
       "      <td>Sonoma</td>\n",
       "      <td>Virginie Boone</td>\n",
       "      <td>@vboone</td>\n",
       "      <td>Broken Clouds 2014 Chardonnay (Sonoma Coast)</td>\n",
       "      <td>Chardonnay</td>\n",
       "      <td>Broken Clouds</td>\n",
       "    </tr>\n",
       "    <tr>\n",
       "      <th>1695</th>\n",
       "      <td>1695</td>\n",
       "      <td>Argentina</td>\n",
       "      <td>Solid and smooth from the beginning, with cola...</td>\n",
       "      <td>Torcidas</td>\n",
       "      <td>90</td>\n",
       "      <td>15.0</td>\n",
       "      <td>Mendoza Province</td>\n",
       "      <td>Mendoza</td>\n",
       "      <td>NaN</td>\n",
       "      <td>Michael Schachner</td>\n",
       "      <td>@wineschach</td>\n",
       "      <td>Finca Vides 2009 Torcidas Malbec (Mendoza)</td>\n",
       "      <td>Malbec</td>\n",
       "      <td>Finca Vides</td>\n",
       "    </tr>\n",
       "    <tr>\n",
       "      <th>1706</th>\n",
       "      <td>1706</td>\n",
       "      <td>Australia</td>\n",
       "      <td>This medium-bodied Chardonnay features ample a...</td>\n",
       "      <td>Lost Block</td>\n",
       "      <td>86</td>\n",
       "      <td>14.0</td>\n",
       "      <td>Australia Other</td>\n",
       "      <td>South Eastern Australia</td>\n",
       "      <td>NaN</td>\n",
       "      <td>Joe Czerwinski</td>\n",
       "      <td>@JoeCz</td>\n",
       "      <td>Tyrrell's 2006 Lost Block Chardonnay (South Ea...</td>\n",
       "      <td>Chardonnay</td>\n",
       "      <td>Tyrrell's</td>\n",
       "    </tr>\n",
       "    <tr>\n",
       "      <th>1747</th>\n",
       "      <td>1747</td>\n",
       "      <td>France</td>\n",
       "      <td>One of the few great values from Pauillac, thi...</td>\n",
       "      <td>NaN</td>\n",
       "      <td>92</td>\n",
       "      <td>49.0</td>\n",
       "      <td>Bordeaux</td>\n",
       "      <td>Pauillac</td>\n",
       "      <td>NaN</td>\n",
       "      <td>Roger Voss</td>\n",
       "      <td>@vossroger</td>\n",
       "      <td>Château Gaudin 2011  Pauillac</td>\n",
       "      <td>Bordeaux-style Red Blend</td>\n",
       "      <td>Château Gaudin</td>\n",
       "    </tr>\n",
       "    <tr>\n",
       "      <th>1879</th>\n",
       "      <td>1879</td>\n",
       "      <td>France</td>\n",
       "      <td>A wine that continues the impressive rise of d...</td>\n",
       "      <td>NaN</td>\n",
       "      <td>93</td>\n",
       "      <td>47.0</td>\n",
       "      <td>Bordeaux</td>\n",
       "      <td>Margaux</td>\n",
       "      <td>NaN</td>\n",
       "      <td>Roger Voss</td>\n",
       "      <td>@vossroger</td>\n",
       "      <td>Château du Tertre 2009  Margaux</td>\n",
       "      <td>Bordeaux-style Red Blend</td>\n",
       "      <td>Château du Tertre</td>\n",
       "    </tr>\n",
       "    <tr>\n",
       "      <th>1897</th>\n",
       "      <td>1897</td>\n",
       "      <td>Australia</td>\n",
       "      <td>A very good effort, this may be among the last...</td>\n",
       "      <td>NaN</td>\n",
       "      <td>89</td>\n",
       "      <td>12.0</td>\n",
       "      <td>South Australia</td>\n",
       "      <td>McLaren Vale</td>\n",
       "      <td>NaN</td>\n",
       "      <td>Joe Czerwinski</td>\n",
       "      <td>@JoeCz</td>\n",
       "      <td>Razor's Edge 2006 Cabernet Sauvignon (McLaren ...</td>\n",
       "      <td>Cabernet Sauvignon</td>\n",
       "      <td>Razor's Edge</td>\n",
       "    </tr>\n",
       "    <tr>\n",
       "      <th>1944</th>\n",
       "      <td>1944</td>\n",
       "      <td>France</td>\n",
       "      <td>Great value, simple and fruity, this is a ripe...</td>\n",
       "      <td>K-nom</td>\n",
       "      <td>87</td>\n",
       "      <td>13.0</td>\n",
       "      <td>Southwest France</td>\n",
       "      <td>Cahors</td>\n",
       "      <td>NaN</td>\n",
       "      <td>Roger Voss</td>\n",
       "      <td>@vossroger</td>\n",
       "      <td>Clos Troteligotte 2011 K-nom Malbec-Merlot (Ca...</td>\n",
       "      <td>Malbec-Merlot</td>\n",
       "      <td>Clos Troteligotte</td>\n",
       "    </tr>\n",
       "    <tr>\n",
       "      <th>1950</th>\n",
       "      <td>1950</td>\n",
       "      <td>US</td>\n",
       "      <td>This Bordeaux-style blend remains a fair value...</td>\n",
       "      <td>NaN</td>\n",
       "      <td>86</td>\n",
       "      <td>15.0</td>\n",
       "      <td>Washington</td>\n",
       "      <td>Columbia Valley (WA)</td>\n",
       "      <td>Columbia Valley</td>\n",
       "      <td>Paul Gregutt</td>\n",
       "      <td>@paulgwine</td>\n",
       "      <td>O•S Winery 2009 Red (Columbia Valley (WA))</td>\n",
       "      <td>Bordeaux-style Red Blend</td>\n",
       "      <td>O•S Winery</td>\n",
       "    </tr>\n",
       "    <tr>\n",
       "      <th>2126</th>\n",
       "      <td>2126</td>\n",
       "      <td>US</td>\n",
       "      <td>Easily as good as Chardonnays costing two or t...</td>\n",
       "      <td>NaN</td>\n",
       "      <td>88</td>\n",
       "      <td>13.0</td>\n",
       "      <td>California</td>\n",
       "      <td>California</td>\n",
       "      <td>California Other</td>\n",
       "      <td>NaN</td>\n",
       "      <td>NaN</td>\n",
       "      <td>Leese-Fitch 2010 Chardonnay (California)</td>\n",
       "      <td>Chardonnay</td>\n",
       "      <td>Leese-Fitch</td>\n",
       "    </tr>\n",
       "    <tr>\n",
       "      <th>2357</th>\n",
       "      <td>2357</td>\n",
       "      <td>US</td>\n",
       "      <td>Perfumed in cinnamon-flowery aromatics, this w...</td>\n",
       "      <td>Ancient Vine</td>\n",
       "      <td>88</td>\n",
       "      <td>15.0</td>\n",
       "      <td>California</td>\n",
       "      <td>Contra Costa County</td>\n",
       "      <td>Central Coast</td>\n",
       "      <td>Virginie Boone</td>\n",
       "      <td>@vboone</td>\n",
       "      <td>Cline 2012 Ancient Vine Zinfandel (Contra Cost...</td>\n",
       "      <td>Zinfandel</td>\n",
       "      <td>Cline</td>\n",
       "    </tr>\n",
       "    <tr>\n",
       "      <th>2425</th>\n",
       "      <td>2425</td>\n",
       "      <td>Italy</td>\n",
       "      <td>One of the simple pleasures from southern Ital...</td>\n",
       "      <td>Bianco</td>\n",
       "      <td>85</td>\n",
       "      <td>NaN</td>\n",
       "      <td>Sicily &amp; Sardinia</td>\n",
       "      <td>Sicilia</td>\n",
       "      <td>NaN</td>\n",
       "      <td>NaN</td>\n",
       "      <td>NaN</td>\n",
       "      <td>Corvo 2011 Bianco White (Sicilia)</td>\n",
       "      <td>White Blend</td>\n",
       "      <td>Corvo</td>\n",
       "    </tr>\n",
       "    <tr>\n",
       "      <th>2611</th>\n",
       "      <td>2611</td>\n",
       "      <td>Australia</td>\n",
       "      <td>This is a solid value in the world of Cabernet...</td>\n",
       "      <td>Book Ends</td>\n",
       "      <td>90</td>\n",
       "      <td>21.0</td>\n",
       "      <td>Western Australia</td>\n",
       "      <td>Western Australia</td>\n",
       "      <td>NaN</td>\n",
       "      <td>Joe Czerwinski</td>\n",
       "      <td>@JoeCz</td>\n",
       "      <td>West Cape Howe 2009 Book Ends Cabernet Sauvign...</td>\n",
       "      <td>Cabernet Sauvignon</td>\n",
       "      <td>West Cape Howe</td>\n",
       "    </tr>\n",
       "    <tr>\n",
       "      <th>2645</th>\n",
       "      <td>2645</td>\n",
       "      <td>US</td>\n",
       "      <td>A really good value in a California Chardonnay...</td>\n",
       "      <td>NaN</td>\n",
       "      <td>89</td>\n",
       "      <td>12.0</td>\n",
       "      <td>California</td>\n",
       "      <td>Central Coast</td>\n",
       "      <td>Central Coast</td>\n",
       "      <td>NaN</td>\n",
       "      <td>NaN</td>\n",
       "      <td>Liberty School 2010 Chardonnay (Central Coast)</td>\n",
       "      <td>Chardonnay</td>\n",
       "      <td>Liberty School</td>\n",
       "    </tr>\n",
       "    <tr>\n",
       "      <th>2682</th>\n",
       "      <td>2682</td>\n",
       "      <td>France</td>\n",
       "      <td>Givry is one of the unsung values in Burgundy....</td>\n",
       "      <td>NaN</td>\n",
       "      <td>90</td>\n",
       "      <td>35.0</td>\n",
       "      <td>Burgundy</td>\n",
       "      <td>Givry</td>\n",
       "      <td>NaN</td>\n",
       "      <td>Roger Voss</td>\n",
       "      <td>@vossroger</td>\n",
       "      <td>Antonin Rodet 2010  Givry</td>\n",
       "      <td>Pinot Noir</td>\n",
       "      <td>Antonin Rodet</td>\n",
       "    </tr>\n",
       "    <tr>\n",
       "      <th>...</th>\n",
       "      <td>...</td>\n",
       "      <td>...</td>\n",
       "      <td>...</td>\n",
       "      <td>...</td>\n",
       "      <td>...</td>\n",
       "      <td>...</td>\n",
       "      <td>...</td>\n",
       "      <td>...</td>\n",
       "      <td>...</td>\n",
       "      <td>...</td>\n",
       "      <td>...</td>\n",
       "      <td>...</td>\n",
       "      <td>...</td>\n",
       "      <td>...</td>\n",
       "    </tr>\n",
       "    <tr>\n",
       "      <th>126126</th>\n",
       "      <td>126126</td>\n",
       "      <td>US</td>\n",
       "      <td>A rosé of Tempranillo, with Syrah and Malbec b...</td>\n",
       "      <td>Estate Bottled</td>\n",
       "      <td>84</td>\n",
       "      <td>12.0</td>\n",
       "      <td>California</td>\n",
       "      <td>Dunnigan Hills</td>\n",
       "      <td>Central Valley</td>\n",
       "      <td>Virginie Boone</td>\n",
       "      <td>@vboone</td>\n",
       "      <td>Matchbook 2012 Estate Bottled Rosé (Dunnigan H...</td>\n",
       "      <td>Rosé</td>\n",
       "      <td>Matchbook</td>\n",
       "    </tr>\n",
       "    <tr>\n",
       "      <th>126128</th>\n",
       "      <td>126128</td>\n",
       "      <td>Italy</td>\n",
       "      <td>Here's a steady value wine from Northern Italy...</td>\n",
       "      <td>NaN</td>\n",
       "      <td>84</td>\n",
       "      <td>10.0</td>\n",
       "      <td>Northeastern Italy</td>\n",
       "      <td>Delle Venezie</td>\n",
       "      <td>NaN</td>\n",
       "      <td>NaN</td>\n",
       "      <td>NaN</td>\n",
       "      <td>My Moon 2011 Pinot Grigio (Delle Venezie)</td>\n",
       "      <td>Pinot Grigio</td>\n",
       "      <td>My Moon</td>\n",
       "    </tr>\n",
       "    <tr>\n",
       "      <th>126199</th>\n",
       "      <td>126199</td>\n",
       "      <td>US</td>\n",
       "      <td>This is a light, pleasant, balanced Syrah that...</td>\n",
       "      <td>NaN</td>\n",
       "      <td>88</td>\n",
       "      <td>30.0</td>\n",
       "      <td>Oregon</td>\n",
       "      <td>Rogue Valley</td>\n",
       "      <td>Southern Oregon</td>\n",
       "      <td>Paul Gregutt</td>\n",
       "      <td>@paulgwine</td>\n",
       "      <td>Folin Cellars 2007 Syrah (Rogue Valley)</td>\n",
       "      <td>Syrah</td>\n",
       "      <td>Folin Cellars</td>\n",
       "    </tr>\n",
       "    <tr>\n",
       "      <th>126340</th>\n",
       "      <td>126340</td>\n",
       "      <td>US</td>\n",
       "      <td>This value-priced low-alcohol wine has all the...</td>\n",
       "      <td>Dry</td>\n",
       "      <td>87</td>\n",
       "      <td>25.0</td>\n",
       "      <td>California</td>\n",
       "      <td>California</td>\n",
       "      <td>California Other</td>\n",
       "      <td>Jim Gordon</td>\n",
       "      <td>@gordone_cellars</td>\n",
       "      <td>Bota Box 2016 Dry Rosé (California)</td>\n",
       "      <td>Rosé</td>\n",
       "      <td>Bota Box</td>\n",
       "    </tr>\n",
       "    <tr>\n",
       "      <th>126427</th>\n",
       "      <td>126427</td>\n",
       "      <td>US</td>\n",
       "      <td>A value Gewurztraminer made from good fruit, t...</td>\n",
       "      <td>NaN</td>\n",
       "      <td>88</td>\n",
       "      <td>14.0</td>\n",
       "      <td>California</td>\n",
       "      <td>Anderson Valley</td>\n",
       "      <td>NaN</td>\n",
       "      <td>Virginie Boone</td>\n",
       "      <td>@vboone</td>\n",
       "      <td>Husch 2012 Gewurztraminer (Anderson Valley)</td>\n",
       "      <td>Gewürztraminer</td>\n",
       "      <td>Husch</td>\n",
       "    </tr>\n",
       "    <tr>\n",
       "      <th>126491</th>\n",
       "      <td>126491</td>\n",
       "      <td>US</td>\n",
       "      <td>Fruity and tasting of lemon, melon and pineapp...</td>\n",
       "      <td>Caleb Knorr</td>\n",
       "      <td>86</td>\n",
       "      <td>12.0</td>\n",
       "      <td>Oregon</td>\n",
       "      <td>Willamette Valley</td>\n",
       "      <td>Willamette Valley</td>\n",
       "      <td>Paul Gregutt</td>\n",
       "      <td>@paulgwine</td>\n",
       "      <td>Abiqua Wind 2011 Caleb Knorr Pinot Gris (Willa...</td>\n",
       "      <td>Pinot Gris</td>\n",
       "      <td>Abiqua Wind</td>\n",
       "    </tr>\n",
       "    <tr>\n",
       "      <th>126556</th>\n",
       "      <td>126556</td>\n",
       "      <td>US</td>\n",
       "      <td>Juicy black fruit stars in this lush, expansiv...</td>\n",
       "      <td>Limited Release</td>\n",
       "      <td>91</td>\n",
       "      <td>60.0</td>\n",
       "      <td>California</td>\n",
       "      <td>Napa Valley</td>\n",
       "      <td>Napa</td>\n",
       "      <td>Virginie Boone</td>\n",
       "      <td>@vboone</td>\n",
       "      <td>Black Stallion 2013 Limited Release Cabernet S...</td>\n",
       "      <td>Cabernet Sauvignon</td>\n",
       "      <td>Black Stallion</td>\n",
       "    </tr>\n",
       "    <tr>\n",
       "      <th>126883</th>\n",
       "      <td>126883</td>\n",
       "      <td>US</td>\n",
       "      <td>$10 for this very drinkable Cab? That's crazy....</td>\n",
       "      <td>NaN</td>\n",
       "      <td>87</td>\n",
       "      <td>10.0</td>\n",
       "      <td>California</td>\n",
       "      <td>North Coast</td>\n",
       "      <td>North Coast</td>\n",
       "      <td>Virginie Boone</td>\n",
       "      <td>@vboone</td>\n",
       "      <td>Line 39 2009 Cabernet Sauvignon (North Coast)</td>\n",
       "      <td>Cabernet Sauvignon</td>\n",
       "      <td>Line 39</td>\n",
       "    </tr>\n",
       "    <tr>\n",
       "      <th>126988</th>\n",
       "      <td>126988</td>\n",
       "      <td>Italy</td>\n",
       "      <td>Albera is a very well-valued Barbera d'Asti wi...</td>\n",
       "      <td>Albera</td>\n",
       "      <td>86</td>\n",
       "      <td>12.0</td>\n",
       "      <td>Piedmont</td>\n",
       "      <td>Barbera d'Asti</td>\n",
       "      <td>NaN</td>\n",
       "      <td>NaN</td>\n",
       "      <td>NaN</td>\n",
       "      <td>Araldica 2007 Albera  (Barbera d'Asti)</td>\n",
       "      <td>Barbera</td>\n",
       "      <td>Araldica</td>\n",
       "    </tr>\n",
       "    <tr>\n",
       "      <th>127251</th>\n",
       "      <td>127251</td>\n",
       "      <td>Chile</td>\n",
       "      <td>Asphalt, animal hide, olive and herbal berry a...</td>\n",
       "      <td>Enco Reserve</td>\n",
       "      <td>87</td>\n",
       "      <td>12.0</td>\n",
       "      <td>Cachapoal Valley</td>\n",
       "      <td>NaN</td>\n",
       "      <td>NaN</td>\n",
       "      <td>Michael Schachner</td>\n",
       "      <td>@wineschach</td>\n",
       "      <td>Anakena 2013 Enco Reserve Carmenère (Cachapoal...</td>\n",
       "      <td>Carmenère</td>\n",
       "      <td>Anakena</td>\n",
       "    </tr>\n",
       "    <tr>\n",
       "      <th>127689</th>\n",
       "      <td>127689</td>\n",
       "      <td>Italy</td>\n",
       "      <td>Hearty Aglianico is blended with a small perce...</td>\n",
       "      <td>Guaglione</td>\n",
       "      <td>87</td>\n",
       "      <td>13.0</td>\n",
       "      <td>Southern Italy</td>\n",
       "      <td>Irpinia</td>\n",
       "      <td>NaN</td>\n",
       "      <td>NaN</td>\n",
       "      <td>NaN</td>\n",
       "      <td>I Capitani 2010 Guaglione Aglianico (Irpinia)</td>\n",
       "      <td>Aglianico</td>\n",
       "      <td>I Capitani</td>\n",
       "    </tr>\n",
       "    <tr>\n",
       "      <th>127690</th>\n",
       "      <td>127690</td>\n",
       "      <td>US</td>\n",
       "      <td>A great value Cabernet that's earthy and direc...</td>\n",
       "      <td>NaN</td>\n",
       "      <td>87</td>\n",
       "      <td>15.0</td>\n",
       "      <td>California</td>\n",
       "      <td>Lodi</td>\n",
       "      <td>Central Valley</td>\n",
       "      <td>Virginie Boone</td>\n",
       "      <td>@vboone</td>\n",
       "      <td>James Mitchell 2009 Cabernet Sauvignon (Lodi)</td>\n",
       "      <td>Cabernet Sauvignon</td>\n",
       "      <td>James Mitchell</td>\n",
       "    </tr>\n",
       "    <tr>\n",
       "      <th>127742</th>\n",
       "      <td>127742</td>\n",
       "      <td>US</td>\n",
       "      <td>The winery's value bottling, this was vinified...</td>\n",
       "      <td>Three Otters</td>\n",
       "      <td>88</td>\n",
       "      <td>20.0</td>\n",
       "      <td>Oregon</td>\n",
       "      <td>Willamette Valley</td>\n",
       "      <td>Willamette Valley</td>\n",
       "      <td>Paul Gregutt</td>\n",
       "      <td>@paulgwine</td>\n",
       "      <td>Fullerton 2015 Three Otters Pinot Noir (Willam...</td>\n",
       "      <td>Pinot Noir</td>\n",
       "      <td>Fullerton</td>\n",
       "    </tr>\n",
       "    <tr>\n",
       "      <th>127834</th>\n",
       "      <td>127834</td>\n",
       "      <td>US</td>\n",
       "      <td>Minty and bright, this is a well-distributed P...</td>\n",
       "      <td>NaN</td>\n",
       "      <td>87</td>\n",
       "      <td>19.0</td>\n",
       "      <td>California</td>\n",
       "      <td>Sonoma Coast</td>\n",
       "      <td>Sonoma</td>\n",
       "      <td>Virginie Boone</td>\n",
       "      <td>@vboone</td>\n",
       "      <td>Sebastiani 2012 Pinot Noir (Sonoma Coast)</td>\n",
       "      <td>Pinot Noir</td>\n",
       "      <td>Sebastiani</td>\n",
       "    </tr>\n",
       "    <tr>\n",
       "      <th>127963</th>\n",
       "      <td>127963</td>\n",
       "      <td>Spain</td>\n",
       "      <td>Years ago Rívola was one of Spain's standout v...</td>\n",
       "      <td>Rívola</td>\n",
       "      <td>83</td>\n",
       "      <td>17.0</td>\n",
       "      <td>Northern Spain</td>\n",
       "      <td>Vino de la Tierra de Castilla y León</td>\n",
       "      <td>NaN</td>\n",
       "      <td>Michael Schachner</td>\n",
       "      <td>@wineschach</td>\n",
       "      <td>Abadia Retuerta 2006 Rívola Red (Vino de la Ti...</td>\n",
       "      <td>Red Blend</td>\n",
       "      <td>Abadia Retuerta</td>\n",
       "    </tr>\n",
       "    <tr>\n",
       "      <th>128224</th>\n",
       "      <td>128224</td>\n",
       "      <td>Spain</td>\n",
       "      <td>Earthy black cherry and plum flavors are solid...</td>\n",
       "      <td>Viña Temprana Old Vines</td>\n",
       "      <td>87</td>\n",
       "      <td>8.0</td>\n",
       "      <td>Northern Spain</td>\n",
       "      <td>Campo de Borja</td>\n",
       "      <td>NaN</td>\n",
       "      <td>Michael Schachner</td>\n",
       "      <td>@wineschach</td>\n",
       "      <td>Bodegas Aragonesas 2015 Viña Temprana Old Vine...</td>\n",
       "      <td>Garnacha</td>\n",
       "      <td>Bodegas Aragonesas</td>\n",
       "    </tr>\n",
       "    <tr>\n",
       "      <th>128712</th>\n",
       "      <td>128712</td>\n",
       "      <td>US</td>\n",
       "      <td>This is a good value for a Sonoma Coast Pinot ...</td>\n",
       "      <td>NaN</td>\n",
       "      <td>90</td>\n",
       "      <td>35.0</td>\n",
       "      <td>California</td>\n",
       "      <td>Sonoma Coast</td>\n",
       "      <td>Sonoma</td>\n",
       "      <td>NaN</td>\n",
       "      <td>NaN</td>\n",
       "      <td>The Gardener 2012 Pinot Noir (Sonoma Coast)</td>\n",
       "      <td>Pinot Noir</td>\n",
       "      <td>The Gardener</td>\n",
       "    </tr>\n",
       "    <tr>\n",
       "      <th>128716</th>\n",
       "      <td>128716</td>\n",
       "      <td>US</td>\n",
       "      <td>All the parts are here to make a good Cabernet...</td>\n",
       "      <td>Crazy Creek</td>\n",
       "      <td>90</td>\n",
       "      <td>20.0</td>\n",
       "      <td>California</td>\n",
       "      <td>Alexander Valley</td>\n",
       "      <td>Sonoma</td>\n",
       "      <td>NaN</td>\n",
       "      <td>NaN</td>\n",
       "      <td>Katherine Goldschmidt 2011 Crazy Creek Caberne...</td>\n",
       "      <td>Cabernet Sauvignon</td>\n",
       "      <td>Katherine Goldschmidt</td>\n",
       "    </tr>\n",
       "    <tr>\n",
       "      <th>128866</th>\n",
       "      <td>128866</td>\n",
       "      <td>France</td>\n",
       "      <td>Named after one of the Three Musketeers, this ...</td>\n",
       "      <td>Aramis Tannat Cabernet</td>\n",
       "      <td>86</td>\n",
       "      <td>9.0</td>\n",
       "      <td>Southwest France</td>\n",
       "      <td>Vin de Pays du Comté Tolosan</td>\n",
       "      <td>NaN</td>\n",
       "      <td>Roger Voss</td>\n",
       "      <td>@vossroger</td>\n",
       "      <td>Château d'Aydie 2006 Aramis Tannat Cabernet Re...</td>\n",
       "      <td>Red Blend</td>\n",
       "      <td>Château d'Aydie</td>\n",
       "    </tr>\n",
       "    <tr>\n",
       "      <th>128978</th>\n",
       "      <td>128978</td>\n",
       "      <td>US</td>\n",
       "      <td>Cabernet Sauvignon and Merlot make up the majo...</td>\n",
       "      <td>NaN</td>\n",
       "      <td>91</td>\n",
       "      <td>25.0</td>\n",
       "      <td>Washington</td>\n",
       "      <td>Columbia Valley (WA)</td>\n",
       "      <td>Columbia Valley</td>\n",
       "      <td>Sean P. Sullivan</td>\n",
       "      <td>@wawinereport</td>\n",
       "      <td>Nine Hats 2012 Red (Columbia Valley (WA))</td>\n",
       "      <td>Red Blend</td>\n",
       "      <td>Nine Hats</td>\n",
       "    </tr>\n",
       "    <tr>\n",
       "      <th>128983</th>\n",
       "      <td>128983</td>\n",
       "      <td>Australia</td>\n",
       "      <td>Of all the Clarendon Hills 2008 Syrahs, the Mo...</td>\n",
       "      <td>Moritz</td>\n",
       "      <td>93</td>\n",
       "      <td>60.0</td>\n",
       "      <td>South Australia</td>\n",
       "      <td>Clarendon</td>\n",
       "      <td>NaN</td>\n",
       "      <td>Joe Czerwinski</td>\n",
       "      <td>@JoeCz</td>\n",
       "      <td>Clarendon Hills 2008 Moritz Syrah (Clarendon)</td>\n",
       "      <td>Syrah</td>\n",
       "      <td>Clarendon Hills</td>\n",
       "    </tr>\n",
       "    <tr>\n",
       "      <th>129230</th>\n",
       "      <td>129230</td>\n",
       "      <td>Australia</td>\n",
       "      <td>Gen Yers and Baby Boomers will remember when R...</td>\n",
       "      <td>Diamond Label</td>\n",
       "      <td>86</td>\n",
       "      <td>10.0</td>\n",
       "      <td>Australia Other</td>\n",
       "      <td>South Eastern Australia</td>\n",
       "      <td>NaN</td>\n",
       "      <td>Joe Czerwinski</td>\n",
       "      <td>@JoeCz</td>\n",
       "      <td>Rosemount 2009 Diamond Label Cabernet Sauvigno...</td>\n",
       "      <td>Cabernet Sauvignon</td>\n",
       "      <td>Rosemount</td>\n",
       "    </tr>\n",
       "    <tr>\n",
       "      <th>129232</th>\n",
       "      <td>129232</td>\n",
       "      <td>France</td>\n",
       "      <td>Benefiting from the ripe 2009 fruit, this show...</td>\n",
       "      <td>NaN</td>\n",
       "      <td>86</td>\n",
       "      <td>14.0</td>\n",
       "      <td>Bordeaux</td>\n",
       "      <td>Bordeaux</td>\n",
       "      <td>NaN</td>\n",
       "      <td>Roger Voss</td>\n",
       "      <td>@vossroger</td>\n",
       "      <td>Château des Combes 2009  Bordeaux</td>\n",
       "      <td>Bordeaux-style Red Blend</td>\n",
       "      <td>Château des Combes</td>\n",
       "    </tr>\n",
       "    <tr>\n",
       "      <th>129339</th>\n",
       "      <td>129339</td>\n",
       "      <td>France</td>\n",
       "      <td>Laurent Miquel has built a solid reputation ma...</td>\n",
       "      <td>Père et Fils</td>\n",
       "      <td>86</td>\n",
       "      <td>10.0</td>\n",
       "      <td>Languedoc-Roussillon</td>\n",
       "      <td>Vin de Pays d'Oc</td>\n",
       "      <td>NaN</td>\n",
       "      <td>Lauren Buzzeo</td>\n",
       "      <td>@laurbuzz</td>\n",
       "      <td>Laurent Miquel 2010 Père et Fils Chardonnay-Vi...</td>\n",
       "      <td>Chardonnay-Viognier</td>\n",
       "      <td>Laurent Miquel</td>\n",
       "    </tr>\n",
       "    <tr>\n",
       "      <th>129389</th>\n",
       "      <td>129389</td>\n",
       "      <td>Australia</td>\n",
       "      <td>Banrock Station's 2006 Shiraz is a throwback t...</td>\n",
       "      <td>NaN</td>\n",
       "      <td>85</td>\n",
       "      <td>5.0</td>\n",
       "      <td>Australia Other</td>\n",
       "      <td>South Eastern Australia</td>\n",
       "      <td>NaN</td>\n",
       "      <td>Joe Czerwinski</td>\n",
       "      <td>@JoeCz</td>\n",
       "      <td>Banrock Station 2006 Shiraz (South Eastern Aus...</td>\n",
       "      <td>Shiraz</td>\n",
       "      <td>Banrock Station</td>\n",
       "    </tr>\n",
       "    <tr>\n",
       "      <th>129409</th>\n",
       "      <td>129409</td>\n",
       "      <td>US</td>\n",
       "      <td>This exuberant and friendly wine has delicious...</td>\n",
       "      <td>NaN</td>\n",
       "      <td>89</td>\n",
       "      <td>19.0</td>\n",
       "      <td>California</td>\n",
       "      <td>Mendocino County</td>\n",
       "      <td>NaN</td>\n",
       "      <td>Jim Gordon</td>\n",
       "      <td>@gordone_cellars</td>\n",
       "      <td>Enotria 2013 Dolcetto (Mendocino County)</td>\n",
       "      <td>Dolcetto</td>\n",
       "      <td>Enotria</td>\n",
       "    </tr>\n",
       "    <tr>\n",
       "      <th>129449</th>\n",
       "      <td>129449</td>\n",
       "      <td>US</td>\n",
       "      <td>This well-oaked, smoky wine is a great value. ...</td>\n",
       "      <td>Family Reserve</td>\n",
       "      <td>87</td>\n",
       "      <td>9.0</td>\n",
       "      <td>California</td>\n",
       "      <td>California</td>\n",
       "      <td>California Other</td>\n",
       "      <td>Jim Gordon</td>\n",
       "      <td>@gordone_cellars</td>\n",
       "      <td>Oak Grove 2016 Family Reserve Chardonnay (Cali...</td>\n",
       "      <td>Chardonnay</td>\n",
       "      <td>Oak Grove</td>\n",
       "    </tr>\n",
       "    <tr>\n",
       "      <th>129636</th>\n",
       "      <td>129636</td>\n",
       "      <td>US</td>\n",
       "      <td>This might be the best value Pinot out there. ...</td>\n",
       "      <td>NaN</td>\n",
       "      <td>90</td>\n",
       "      <td>16.0</td>\n",
       "      <td>California</td>\n",
       "      <td>Mendocino County</td>\n",
       "      <td>NaN</td>\n",
       "      <td>Virginie Boone</td>\n",
       "      <td>@vboone</td>\n",
       "      <td>Bonterra 2011 Pinot Noir (Mendocino County)</td>\n",
       "      <td>Pinot Noir</td>\n",
       "      <td>Bonterra</td>\n",
       "    </tr>\n",
       "    <tr>\n",
       "      <th>129736</th>\n",
       "      <td>129736</td>\n",
       "      <td>US</td>\n",
       "      <td>This has the pretty slightly candied flavors o...</td>\n",
       "      <td>NaN</td>\n",
       "      <td>90</td>\n",
       "      <td>22.0</td>\n",
       "      <td>Oregon</td>\n",
       "      <td>Willamette Valley</td>\n",
       "      <td>Willamette Valley</td>\n",
       "      <td>Paul Gregutt</td>\n",
       "      <td>@paulgwine</td>\n",
       "      <td>Black Magnolia 2015 Pinot Noir (Willamette Val...</td>\n",
       "      <td>Pinot Noir</td>\n",
       "      <td>Black Magnolia</td>\n",
       "    </tr>\n",
       "    <tr>\n",
       "      <th>129903</th>\n",
       "      <td>129903</td>\n",
       "      <td>France</td>\n",
       "      <td>A fine value for a northern Rhône of this qual...</td>\n",
       "      <td>Grand Classique</td>\n",
       "      <td>91</td>\n",
       "      <td>27.0</td>\n",
       "      <td>Rhône Valley</td>\n",
       "      <td>Saint-Péray</td>\n",
       "      <td>NaN</td>\n",
       "      <td>Joe Czerwinski</td>\n",
       "      <td>@JoeCz</td>\n",
       "      <td>Cave de Tain 2015 Grand Classique Marsanne (Sa...</td>\n",
       "      <td>Marsanne</td>\n",
       "      <td>Cave de Tain</td>\n",
       "    </tr>\n",
       "  </tbody>\n",
       "</table>\n",
       "<p>1138 rows × 14 columns</p>\n",
       "</div>"
      ],
      "text/plain": [
       "        Unnamed: 0       country  \\\n",
       "10              10            US   \n",
       "21              21            US   \n",
       "156            156       Germany   \n",
       "188            188         Chile   \n",
       "189            189         Chile   \n",
       "256            256  South Africa   \n",
       "392            392            US   \n",
       "670            670            US   \n",
       "768            768     Australia   \n",
       "1008          1008     Australia   \n",
       "1050          1050            US   \n",
       "1116          1116            US   \n",
       "1174          1174     Argentina   \n",
       "1292          1292         Italy   \n",
       "1478          1478     Australia   \n",
       "1548          1548         Chile   \n",
       "1607          1607            US   \n",
       "1695          1695     Argentina   \n",
       "1706          1706     Australia   \n",
       "1747          1747        France   \n",
       "1879          1879        France   \n",
       "1897          1897     Australia   \n",
       "1944          1944        France   \n",
       "1950          1950            US   \n",
       "2126          2126            US   \n",
       "2357          2357            US   \n",
       "2425          2425         Italy   \n",
       "2611          2611     Australia   \n",
       "2645          2645            US   \n",
       "2682          2682        France   \n",
       "...            ...           ...   \n",
       "126126      126126            US   \n",
       "126128      126128         Italy   \n",
       "126199      126199            US   \n",
       "126340      126340            US   \n",
       "126427      126427            US   \n",
       "126491      126491            US   \n",
       "126556      126556            US   \n",
       "126883      126883            US   \n",
       "126988      126988         Italy   \n",
       "127251      127251         Chile   \n",
       "127689      127689         Italy   \n",
       "127690      127690            US   \n",
       "127742      127742            US   \n",
       "127834      127834            US   \n",
       "127963      127963         Spain   \n",
       "128224      128224         Spain   \n",
       "128712      128712            US   \n",
       "128716      128716            US   \n",
       "128866      128866        France   \n",
       "128978      128978            US   \n",
       "128983      128983     Australia   \n",
       "129230      129230     Australia   \n",
       "129232      129232        France   \n",
       "129339      129339        France   \n",
       "129389      129389     Australia   \n",
       "129409      129409            US   \n",
       "129449      129449            US   \n",
       "129636      129636            US   \n",
       "129736      129736            US   \n",
       "129903      129903        France   \n",
       "\n",
       "                                              description  \\\n",
       "10      Soft, supple plum envelopes an oaky structure ...   \n",
       "21      A sleek mix of tart berry, stem and herb, alon...   \n",
       "156     Approachably fruity yet nuanced and electrifyi...   \n",
       "188     Bisquertt usually does well with its value-pri...   \n",
       "189     Clean and honest up front, with moderate richn...   \n",
       "256     A good value, this is an easy-pleasing Syrah w...   \n",
       "392     A lovely wine, made even more attractive by th...   \n",
       "670     Dark berry, herb and fig aromas lead to dense,...   \n",
       "768     A good value in easy-to-drink Cabernet, McWill...   \n",
       "1008    Intense and focused, this good value Coonawarr...   \n",
       "1050    Shows plenty of lush, ripe fruit, wrapped in s...   \n",
       "1116    One of a string of great values made at Terrav...   \n",
       "1174    Toast and char sit atop the bouquet like a hea...   \n",
       "1292    This vibrant wine opens with varietal aromas o...   \n",
       "1478    This 60-40 blend features gentle aromas of van...   \n",
       "1548    Wiry currant and plum aromas show a touch of o...   \n",
       "1607    This has value written all over it, offering f...   \n",
       "1695    Solid and smooth from the beginning, with cola...   \n",
       "1706    This medium-bodied Chardonnay features ample a...   \n",
       "1747    One of the few great values from Pauillac, thi...   \n",
       "1879    A wine that continues the impressive rise of d...   \n",
       "1897    A very good effort, this may be among the last...   \n",
       "1944    Great value, simple and fruity, this is a ripe...   \n",
       "1950    This Bordeaux-style blend remains a fair value...   \n",
       "2126    Easily as good as Chardonnays costing two or t...   \n",
       "2357    Perfumed in cinnamon-flowery aromatics, this w...   \n",
       "2425    One of the simple pleasures from southern Ital...   \n",
       "2611    This is a solid value in the world of Cabernet...   \n",
       "2645    A really good value in a California Chardonnay...   \n",
       "2682    Givry is one of the unsung values in Burgundy....   \n",
       "...                                                   ...   \n",
       "126126  A rosé of Tempranillo, with Syrah and Malbec b...   \n",
       "126128  Here's a steady value wine from Northern Italy...   \n",
       "126199  This is a light, pleasant, balanced Syrah that...   \n",
       "126340  This value-priced low-alcohol wine has all the...   \n",
       "126427  A value Gewurztraminer made from good fruit, t...   \n",
       "126491  Fruity and tasting of lemon, melon and pineapp...   \n",
       "126556  Juicy black fruit stars in this lush, expansiv...   \n",
       "126883  $10 for this very drinkable Cab? That's crazy....   \n",
       "126988  Albera is a very well-valued Barbera d'Asti wi...   \n",
       "127251  Asphalt, animal hide, olive and herbal berry a...   \n",
       "127689  Hearty Aglianico is blended with a small perce...   \n",
       "127690  A great value Cabernet that's earthy and direc...   \n",
       "127742  The winery's value bottling, this was vinified...   \n",
       "127834  Minty and bright, this is a well-distributed P...   \n",
       "127963  Years ago Rívola was one of Spain's standout v...   \n",
       "128224  Earthy black cherry and plum flavors are solid...   \n",
       "128712  This is a good value for a Sonoma Coast Pinot ...   \n",
       "128716  All the parts are here to make a good Cabernet...   \n",
       "128866  Named after one of the Three Musketeers, this ...   \n",
       "128978  Cabernet Sauvignon and Merlot make up the majo...   \n",
       "128983  Of all the Clarendon Hills 2008 Syrahs, the Mo...   \n",
       "129230  Gen Yers and Baby Boomers will remember when R...   \n",
       "129232  Benefiting from the ripe 2009 fruit, this show...   \n",
       "129339  Laurent Miquel has built a solid reputation ma...   \n",
       "129389  Banrock Station's 2006 Shiraz is a throwback t...   \n",
       "129409  This exuberant and friendly wine has delicious...   \n",
       "129449  This well-oaked, smoky wine is a great value. ...   \n",
       "129636  This might be the best value Pinot out there. ...   \n",
       "129736  This has the pretty slightly candied flavors o...   \n",
       "129903  A fine value for a northern Rhône of this qual...   \n",
       "\n",
       "                          designation  points  price              province  \\\n",
       "10                     Mountain Cuvée      87   19.0            California   \n",
       "21                                NaN      87   20.0                Oregon   \n",
       "156     Graacher Himmelreich Spätlese      91   14.0                 Mosel   \n",
       "188              Casa La Joya Reserve      88   11.0      Colchagua Valley   \n",
       "189                            Natura      87   11.0     Casablanca Valley   \n",
       "256                         Goat-Roti      89   20.0        Coastal Region   \n",
       "392                               NaN      87   12.0            California   \n",
       "670      Eco Made with Organic Grapes      90   13.0            Washington   \n",
       "768                               NaN      87   11.0       Australia Other   \n",
       "1008                              NaN      88   14.0       South Australia   \n",
       "1050                              NaN      85   10.0            California   \n",
       "1116                              NaN      90   10.0            California   \n",
       "1174                        Trumpeter      86   12.0      Mendoza Province   \n",
       "1292                              NaN      89   13.0    Northeastern Italy   \n",
       "1478                     Yellow Label      85   12.0       South Australia   \n",
       "1548             120 Reserva Especial      85    8.0        Central Valley   \n",
       "1607                              NaN      87   12.0            California   \n",
       "1695                         Torcidas      90   15.0      Mendoza Province   \n",
       "1706                       Lost Block      86   14.0       Australia Other   \n",
       "1747                              NaN      92   49.0              Bordeaux   \n",
       "1879                              NaN      93   47.0              Bordeaux   \n",
       "1897                              NaN      89   12.0       South Australia   \n",
       "1944                            K-nom      87   13.0      Southwest France   \n",
       "1950                              NaN      86   15.0            Washington   \n",
       "2126                              NaN      88   13.0            California   \n",
       "2357                     Ancient Vine      88   15.0            California   \n",
       "2425                           Bianco      85    NaN     Sicily & Sardinia   \n",
       "2611                        Book Ends      90   21.0     Western Australia   \n",
       "2645                              NaN      89   12.0            California   \n",
       "2682                              NaN      90   35.0              Burgundy   \n",
       "...                               ...     ...    ...                   ...   \n",
       "126126                 Estate Bottled      84   12.0            California   \n",
       "126128                            NaN      84   10.0    Northeastern Italy   \n",
       "126199                            NaN      88   30.0                Oregon   \n",
       "126340                            Dry      87   25.0            California   \n",
       "126427                            NaN      88   14.0            California   \n",
       "126491                    Caleb Knorr      86   12.0                Oregon   \n",
       "126556                Limited Release      91   60.0            California   \n",
       "126883                            NaN      87   10.0            California   \n",
       "126988                         Albera      86   12.0              Piedmont   \n",
       "127251                   Enco Reserve      87   12.0      Cachapoal Valley   \n",
       "127689                      Guaglione      87   13.0        Southern Italy   \n",
       "127690                            NaN      87   15.0            California   \n",
       "127742                   Three Otters      88   20.0                Oregon   \n",
       "127834                            NaN      87   19.0            California   \n",
       "127963                         Rívola      83   17.0        Northern Spain   \n",
       "128224        Viña Temprana Old Vines      87    8.0        Northern Spain   \n",
       "128712                            NaN      90   35.0            California   \n",
       "128716                    Crazy Creek      90   20.0            California   \n",
       "128866         Aramis Tannat Cabernet      86    9.0      Southwest France   \n",
       "128978                            NaN      91   25.0            Washington   \n",
       "128983                         Moritz      93   60.0       South Australia   \n",
       "129230                  Diamond Label      86   10.0       Australia Other   \n",
       "129232                            NaN      86   14.0              Bordeaux   \n",
       "129339                   Père et Fils      86   10.0  Languedoc-Roussillon   \n",
       "129389                            NaN      85    5.0       Australia Other   \n",
       "129409                            NaN      89   19.0            California   \n",
       "129449                 Family Reserve      87    9.0            California   \n",
       "129636                            NaN      90   16.0            California   \n",
       "129736                            NaN      90   22.0                Oregon   \n",
       "129903                Grand Classique      91   27.0          Rhône Valley   \n",
       "\n",
       "                                    region_1           region_2  \\\n",
       "10                               Napa Valley               Napa   \n",
       "21                                    Oregon       Oregon Other   \n",
       "156                                      NaN                NaN   \n",
       "188                                      NaN                NaN   \n",
       "189                                      NaN                NaN   \n",
       "256                                      NaN                NaN   \n",
       "392                        Santa Ynez Valley      Central Coast   \n",
       "670                     Columbia Valley (WA)    Columbia Valley   \n",
       "768                  South Eastern Australia                NaN   \n",
       "1008                              Coonawarra                NaN   \n",
       "1050                              California   California Other   \n",
       "1116                              California   California Other   \n",
       "1174                                 Mendoza                NaN   \n",
       "1292                                Trentino                NaN   \n",
       "1478                         South Australia                NaN   \n",
       "1548                                     NaN                NaN   \n",
       "1607                            Sonoma Coast             Sonoma   \n",
       "1695                                 Mendoza                NaN   \n",
       "1706                 South Eastern Australia                NaN   \n",
       "1747                                Pauillac                NaN   \n",
       "1879                                 Margaux                NaN   \n",
       "1897                            McLaren Vale                NaN   \n",
       "1944                                  Cahors                NaN   \n",
       "1950                    Columbia Valley (WA)    Columbia Valley   \n",
       "2126                              California   California Other   \n",
       "2357                     Contra Costa County      Central Coast   \n",
       "2425                                 Sicilia                NaN   \n",
       "2611                       Western Australia                NaN   \n",
       "2645                           Central Coast      Central Coast   \n",
       "2682                                   Givry                NaN   \n",
       "...                                      ...                ...   \n",
       "126126                        Dunnigan Hills     Central Valley   \n",
       "126128                         Delle Venezie                NaN   \n",
       "126199                          Rogue Valley    Southern Oregon   \n",
       "126340                            California   California Other   \n",
       "126427                       Anderson Valley                NaN   \n",
       "126491                     Willamette Valley  Willamette Valley   \n",
       "126556                           Napa Valley               Napa   \n",
       "126883                           North Coast        North Coast   \n",
       "126988                        Barbera d'Asti                NaN   \n",
       "127251                                   NaN                NaN   \n",
       "127689                               Irpinia                NaN   \n",
       "127690                                  Lodi     Central Valley   \n",
       "127742                     Willamette Valley  Willamette Valley   \n",
       "127834                          Sonoma Coast             Sonoma   \n",
       "127963  Vino de la Tierra de Castilla y León                NaN   \n",
       "128224                        Campo de Borja                NaN   \n",
       "128712                          Sonoma Coast             Sonoma   \n",
       "128716                      Alexander Valley             Sonoma   \n",
       "128866          Vin de Pays du Comté Tolosan                NaN   \n",
       "128978                  Columbia Valley (WA)    Columbia Valley   \n",
       "128983                             Clarendon                NaN   \n",
       "129230               South Eastern Australia                NaN   \n",
       "129232                              Bordeaux                NaN   \n",
       "129339                      Vin de Pays d'Oc                NaN   \n",
       "129389               South Eastern Australia                NaN   \n",
       "129409                      Mendocino County                NaN   \n",
       "129449                            California   California Other   \n",
       "129636                      Mendocino County                NaN   \n",
       "129736                     Willamette Valley  Willamette Valley   \n",
       "129903                           Saint-Péray                NaN   \n",
       "\n",
       "               taster_name taster_twitter_handle  \\\n",
       "10          Virginie Boone               @vboone   \n",
       "21            Paul Gregutt           @paulgwine    \n",
       "156     Anna Lee C. Iijima                   NaN   \n",
       "188      Michael Schachner           @wineschach   \n",
       "189      Michael Schachner           @wineschach   \n",
       "256          Lauren Buzzeo             @laurbuzz   \n",
       "392                    NaN                   NaN   \n",
       "670       Sean P. Sullivan         @wawinereport   \n",
       "768         Joe Czerwinski                @JoeCz   \n",
       "1008                   NaN                   NaN   \n",
       "1050                   NaN                   NaN   \n",
       "1116            Jim Gordon      @gordone_cellars   \n",
       "1174     Michael Schachner           @wineschach   \n",
       "1292         Kerin O’Keefe          @kerinokeefe   \n",
       "1478        Joe Czerwinski                @JoeCz   \n",
       "1548     Michael Schachner           @wineschach   \n",
       "1607        Virginie Boone               @vboone   \n",
       "1695     Michael Schachner           @wineschach   \n",
       "1706        Joe Czerwinski                @JoeCz   \n",
       "1747            Roger Voss            @vossroger   \n",
       "1879            Roger Voss            @vossroger   \n",
       "1897        Joe Czerwinski                @JoeCz   \n",
       "1944            Roger Voss            @vossroger   \n",
       "1950          Paul Gregutt           @paulgwine    \n",
       "2126                   NaN                   NaN   \n",
       "2357        Virginie Boone               @vboone   \n",
       "2425                   NaN                   NaN   \n",
       "2611        Joe Czerwinski                @JoeCz   \n",
       "2645                   NaN                   NaN   \n",
       "2682            Roger Voss            @vossroger   \n",
       "...                    ...                   ...   \n",
       "126126      Virginie Boone               @vboone   \n",
       "126128                 NaN                   NaN   \n",
       "126199        Paul Gregutt           @paulgwine    \n",
       "126340          Jim Gordon      @gordone_cellars   \n",
       "126427      Virginie Boone               @vboone   \n",
       "126491        Paul Gregutt           @paulgwine    \n",
       "126556      Virginie Boone               @vboone   \n",
       "126883      Virginie Boone               @vboone   \n",
       "126988                 NaN                   NaN   \n",
       "127251   Michael Schachner           @wineschach   \n",
       "127689                 NaN                   NaN   \n",
       "127690      Virginie Boone               @vboone   \n",
       "127742        Paul Gregutt           @paulgwine    \n",
       "127834      Virginie Boone               @vboone   \n",
       "127963   Michael Schachner           @wineschach   \n",
       "128224   Michael Schachner           @wineschach   \n",
       "128712                 NaN                   NaN   \n",
       "128716                 NaN                   NaN   \n",
       "128866          Roger Voss            @vossroger   \n",
       "128978    Sean P. Sullivan         @wawinereport   \n",
       "128983      Joe Czerwinski                @JoeCz   \n",
       "129230      Joe Czerwinski                @JoeCz   \n",
       "129232          Roger Voss            @vossroger   \n",
       "129339       Lauren Buzzeo             @laurbuzz   \n",
       "129389      Joe Czerwinski                @JoeCz   \n",
       "129409          Jim Gordon      @gordone_cellars   \n",
       "129449          Jim Gordon      @gordone_cellars   \n",
       "129636      Virginie Boone               @vboone   \n",
       "129736        Paul Gregutt           @paulgwine    \n",
       "129903      Joe Czerwinski                @JoeCz   \n",
       "\n",
       "                                                    title  \\\n",
       "10      Kirkland Signature 2011 Mountain Cuvée Caberne...   \n",
       "21                       Acrobat 2013 Pinot Noir (Oregon)   \n",
       "156     Carl Graff 2014 Graacher Himmelreich Spätlese ...   \n",
       "188     Viña Bisquertt 2007 Casa La Joya Reserve Merlo...   \n",
       "189     Emiliana 2008 Natura Chardonnay (Casablanca Va...   \n",
       "256     Goats do Roam Wine Co. 2008 Goat-Roti Syrah-Vi...   \n",
       "392     Bridlewood 2000 Sauvignon Blanc (Santa Ynez Va...   \n",
       "670     Snoqualmie 2013 Eco Made with Organic Grapes C...   \n",
       "768     McWilliam's Hanwood Estate 2008 Cabernet Sauvi...   \n",
       "1008                  Nick Faldo 2005 Shiraz (Coonawarra)   \n",
       "1050          Little Black Dress 2006 Merlot (California)   \n",
       "1116             Cookies & Cream 2010 Merlot (California)   \n",
       "1174               Rutini 2006 Trumpeter Merlot (Mendoza)   \n",
       "1292                     Cembra 2013 Sauvignon (Trentino)   \n",
       "1478    Wolf Blass 2005 Yellow Label Shiraz-Cabernet S...   \n",
       "1548    Santa Rita 2016 120 Reserva Especial Carmenère...   \n",
       "1607         Broken Clouds 2014 Chardonnay (Sonoma Coast)   \n",
       "1695           Finca Vides 2009 Torcidas Malbec (Mendoza)   \n",
       "1706    Tyrrell's 2006 Lost Block Chardonnay (South Ea...   \n",
       "1747                        Château Gaudin 2011  Pauillac   \n",
       "1879                      Château du Tertre 2009  Margaux   \n",
       "1897    Razor's Edge 2006 Cabernet Sauvignon (McLaren ...   \n",
       "1944    Clos Troteligotte 2011 K-nom Malbec-Merlot (Ca...   \n",
       "1950           O•S Winery 2009 Red (Columbia Valley (WA))   \n",
       "2126             Leese-Fitch 2010 Chardonnay (California)   \n",
       "2357    Cline 2012 Ancient Vine Zinfandel (Contra Cost...   \n",
       "2425                    Corvo 2011 Bianco White (Sicilia)   \n",
       "2611    West Cape Howe 2009 Book Ends Cabernet Sauvign...   \n",
       "2645       Liberty School 2010 Chardonnay (Central Coast)   \n",
       "2682                            Antonin Rodet 2010  Givry   \n",
       "...                                                   ...   \n",
       "126126  Matchbook 2012 Estate Bottled Rosé (Dunnigan H...   \n",
       "126128          My Moon 2011 Pinot Grigio (Delle Venezie)   \n",
       "126199            Folin Cellars 2007 Syrah (Rogue Valley)   \n",
       "126340                Bota Box 2016 Dry Rosé (California)   \n",
       "126427        Husch 2012 Gewurztraminer (Anderson Valley)   \n",
       "126491  Abiqua Wind 2011 Caleb Knorr Pinot Gris (Willa...   \n",
       "126556  Black Stallion 2013 Limited Release Cabernet S...   \n",
       "126883      Line 39 2009 Cabernet Sauvignon (North Coast)   \n",
       "126988             Araldica 2007 Albera  (Barbera d'Asti)   \n",
       "127251  Anakena 2013 Enco Reserve Carmenère (Cachapoal...   \n",
       "127689      I Capitani 2010 Guaglione Aglianico (Irpinia)   \n",
       "127690      James Mitchell 2009 Cabernet Sauvignon (Lodi)   \n",
       "127742  Fullerton 2015 Three Otters Pinot Noir (Willam...   \n",
       "127834          Sebastiani 2012 Pinot Noir (Sonoma Coast)   \n",
       "127963  Abadia Retuerta 2006 Rívola Red (Vino de la Ti...   \n",
       "128224  Bodegas Aragonesas 2015 Viña Temprana Old Vine...   \n",
       "128712        The Gardener 2012 Pinot Noir (Sonoma Coast)   \n",
       "128716  Katherine Goldschmidt 2011 Crazy Creek Caberne...   \n",
       "128866  Château d'Aydie 2006 Aramis Tannat Cabernet Re...   \n",
       "128978          Nine Hats 2012 Red (Columbia Valley (WA))   \n",
       "128983      Clarendon Hills 2008 Moritz Syrah (Clarendon)   \n",
       "129230  Rosemount 2009 Diamond Label Cabernet Sauvigno...   \n",
       "129232                  Château des Combes 2009  Bordeaux   \n",
       "129339  Laurent Miquel 2010 Père et Fils Chardonnay-Vi...   \n",
       "129389  Banrock Station 2006 Shiraz (South Eastern Aus...   \n",
       "129409           Enotria 2013 Dolcetto (Mendocino County)   \n",
       "129449  Oak Grove 2016 Family Reserve Chardonnay (Cali...   \n",
       "129636        Bonterra 2011 Pinot Noir (Mendocino County)   \n",
       "129736  Black Magnolia 2015 Pinot Noir (Willamette Val...   \n",
       "129903  Cave de Tain 2015 Grand Classique Marsanne (Sa...   \n",
       "\n",
       "                          variety                      winery  \n",
       "10             Cabernet Sauvignon          Kirkland Signature  \n",
       "21                     Pinot Noir                     Acrobat  \n",
       "156                      Riesling                  Carl Graff  \n",
       "188                        Merlot              Viña Bisquertt  \n",
       "189                    Chardonnay                    Emiliana  \n",
       "256                Syrah-Viognier      Goats do Roam Wine Co.  \n",
       "392               Sauvignon Blanc                  Bridlewood  \n",
       "670            Cabernet Sauvignon                  Snoqualmie  \n",
       "768            Cabernet Sauvignon  McWilliam's Hanwood Estate  \n",
       "1008                       Shiraz                  Nick Faldo  \n",
       "1050                       Merlot          Little Black Dress  \n",
       "1116                       Merlot             Cookies & Cream  \n",
       "1174                       Merlot                      Rutini  \n",
       "1292                    Sauvignon                      Cembra  \n",
       "1478    Shiraz-Cabernet Sauvignon                  Wolf Blass  \n",
       "1548                    Carmenère                  Santa Rita  \n",
       "1607                   Chardonnay               Broken Clouds  \n",
       "1695                       Malbec                 Finca Vides  \n",
       "1706                   Chardonnay                   Tyrrell's  \n",
       "1747     Bordeaux-style Red Blend              Château Gaudin  \n",
       "1879     Bordeaux-style Red Blend           Château du Tertre  \n",
       "1897           Cabernet Sauvignon                Razor's Edge  \n",
       "1944                Malbec-Merlot           Clos Troteligotte  \n",
       "1950     Bordeaux-style Red Blend                  O•S Winery  \n",
       "2126                   Chardonnay                 Leese-Fitch  \n",
       "2357                    Zinfandel                       Cline  \n",
       "2425                  White Blend                       Corvo  \n",
       "2611           Cabernet Sauvignon              West Cape Howe  \n",
       "2645                   Chardonnay              Liberty School  \n",
       "2682                   Pinot Noir               Antonin Rodet  \n",
       "...                           ...                         ...  \n",
       "126126                       Rosé                   Matchbook  \n",
       "126128               Pinot Grigio                     My Moon  \n",
       "126199                      Syrah               Folin Cellars  \n",
       "126340                       Rosé                    Bota Box  \n",
       "126427             Gewürztraminer                       Husch  \n",
       "126491                 Pinot Gris                 Abiqua Wind  \n",
       "126556         Cabernet Sauvignon              Black Stallion  \n",
       "126883         Cabernet Sauvignon                     Line 39  \n",
       "126988                    Barbera                    Araldica  \n",
       "127251                  Carmenère                     Anakena  \n",
       "127689                  Aglianico                  I Capitani  \n",
       "127690         Cabernet Sauvignon              James Mitchell  \n",
       "127742                 Pinot Noir                   Fullerton  \n",
       "127834                 Pinot Noir                  Sebastiani  \n",
       "127963                  Red Blend             Abadia Retuerta  \n",
       "128224                   Garnacha          Bodegas Aragonesas  \n",
       "128712                 Pinot Noir                The Gardener  \n",
       "128716         Cabernet Sauvignon       Katherine Goldschmidt  \n",
       "128866                  Red Blend             Château d'Aydie  \n",
       "128978                  Red Blend                   Nine Hats  \n",
       "128983                      Syrah             Clarendon Hills  \n",
       "129230         Cabernet Sauvignon                   Rosemount  \n",
       "129232   Bordeaux-style Red Blend          Château des Combes  \n",
       "129339        Chardonnay-Viognier              Laurent Miquel  \n",
       "129389                     Shiraz             Banrock Station  \n",
       "129409                   Dolcetto                     Enotria  \n",
       "129449                 Chardonnay                   Oak Grove  \n",
       "129636                 Pinot Noir                    Bonterra  \n",
       "129736                 Pinot Noir              Black Magnolia  \n",
       "129903                   Marsanne                Cave de Tain  \n",
       "\n",
       "[1138 rows x 14 columns]"
      ]
     },
     "execution_count": 7,
     "metadata": {},
     "output_type": "execute_result"
    }
   ],
   "source": [
    "wines[value_wines]"
   ]
  },
  {
   "cell_type": "code",
   "execution_count": 8,
   "metadata": {},
   "outputs": [
    {
     "data": {
      "text/html": [
       "<div>\n",
       "<style>\n",
       "    .dataframe thead tr:only-child th {\n",
       "        text-align: right;\n",
       "    }\n",
       "\n",
       "    .dataframe thead th {\n",
       "        text-align: left;\n",
       "    }\n",
       "\n",
       "    .dataframe tbody tr th {\n",
       "        vertical-align: top;\n",
       "    }\n",
       "</style>\n",
       "<table border=\"1\" class=\"dataframe\">\n",
       "  <thead>\n",
       "    <tr style=\"text-align: right;\">\n",
       "      <th></th>\n",
       "      <th>Unnamed: 0</th>\n",
       "      <th>points</th>\n",
       "      <th>price</th>\n",
       "    </tr>\n",
       "  </thead>\n",
       "  <tbody>\n",
       "    <tr>\n",
       "      <th>count</th>\n",
       "      <td>1138.000000</td>\n",
       "      <td>1138.000000</td>\n",
       "      <td>1129.000000</td>\n",
       "    </tr>\n",
       "    <tr>\n",
       "      <th>mean</th>\n",
       "      <td>63278.936731</td>\n",
       "      <td>88.146749</td>\n",
       "      <td>17.807795</td>\n",
       "    </tr>\n",
       "    <tr>\n",
       "      <th>std</th>\n",
       "      <td>37878.221087</td>\n",
       "      <td>2.447782</td>\n",
       "      <td>11.610603</td>\n",
       "    </tr>\n",
       "    <tr>\n",
       "      <th>min</th>\n",
       "      <td>10.000000</td>\n",
       "      <td>80.000000</td>\n",
       "      <td>5.000000</td>\n",
       "    </tr>\n",
       "    <tr>\n",
       "      <th>25%</th>\n",
       "      <td>30050.500000</td>\n",
       "      <td>86.000000</td>\n",
       "      <td>11.000000</td>\n",
       "    </tr>\n",
       "    <tr>\n",
       "      <th>50%</th>\n",
       "      <td>63049.000000</td>\n",
       "      <td>88.000000</td>\n",
       "      <td>15.000000</td>\n",
       "    </tr>\n",
       "    <tr>\n",
       "      <th>75%</th>\n",
       "      <td>96779.500000</td>\n",
       "      <td>90.000000</td>\n",
       "      <td>20.000000</td>\n",
       "    </tr>\n",
       "    <tr>\n",
       "      <th>max</th>\n",
       "      <td>129903.000000</td>\n",
       "      <td>97.000000</td>\n",
       "      <td>195.000000</td>\n",
       "    </tr>\n",
       "  </tbody>\n",
       "</table>\n",
       "</div>"
      ],
      "text/plain": [
       "          Unnamed: 0       points        price\n",
       "count    1138.000000  1138.000000  1129.000000\n",
       "mean    63278.936731    88.146749    17.807795\n",
       "std     37878.221087     2.447782    11.610603\n",
       "min        10.000000    80.000000     5.000000\n",
       "25%     30050.500000    86.000000    11.000000\n",
       "50%     63049.000000    88.000000    15.000000\n",
       "75%     96779.500000    90.000000    20.000000\n",
       "max    129903.000000    97.000000   195.000000"
      ]
     },
     "execution_count": 8,
     "metadata": {},
     "output_type": "execute_result"
    }
   ],
   "source": [
    "wines[value_wines].describe()"
   ]
  },
  {
   "cell_type": "markdown",
   "metadata": {},
   "source": [
    "I noticed that some of the descriptions of wines contained the word 'value,' as in, \"This wine is a good value.\" I'm curious of this can be indicative of a cheaper price point. Manually looking through, sometimes there are false cases where value refers to the winery's values, rather than a good price for the wine. This potentially could be useful, so let's add it as a column to our dataframe."
   ]
  },
  {
   "cell_type": "code",
   "execution_count": 5,
   "metadata": {},
   "outputs": [],
   "source": [
    "wines['contains_word_value'] = value_wines"
   ]
  },
  {
   "cell_type": "code",
   "execution_count": 10,
   "metadata": {
    "scrolled": true
   },
   "outputs": [
    {
     "data": {
      "text/plain": [
       "['Unnamed: 0',\n",
       " 'country',\n",
       " 'description',\n",
       " 'designation',\n",
       " 'points',\n",
       " 'price',\n",
       " 'province',\n",
       " 'region_1',\n",
       " 'region_2',\n",
       " 'taster_name',\n",
       " 'taster_twitter_handle',\n",
       " 'title',\n",
       " 'variety',\n",
       " 'winery',\n",
       " 'contains_word_value']"
      ]
     },
     "execution_count": 10,
     "metadata": {},
     "output_type": "execute_result"
    }
   ],
   "source": [
    "list(wines)"
   ]
  },
  {
   "cell_type": "markdown",
   "metadata": {},
   "source": [
    "### Extract if price > 42 or not"
   ]
  },
  {
   "cell_type": "markdown",
   "metadata": {},
   "source": [
    "Since one of our goals is to predict if a wine costs more than 42, we can add a column for that as well."
   ]
  },
  {
   "cell_type": "code",
   "execution_count": 6,
   "metadata": {},
   "outputs": [],
   "source": [
    "wines['price_over_42'] = np.where(wines['price'] > 42, 1, 0)"
   ]
  },
  {
   "cell_type": "code",
   "execution_count": 12,
   "metadata": {
    "scrolled": true
   },
   "outputs": [
    {
     "data": {
      "text/html": [
       "<div>\n",
       "<style>\n",
       "    .dataframe thead tr:only-child th {\n",
       "        text-align: right;\n",
       "    }\n",
       "\n",
       "    .dataframe thead th {\n",
       "        text-align: left;\n",
       "    }\n",
       "\n",
       "    .dataframe tbody tr th {\n",
       "        vertical-align: top;\n",
       "    }\n",
       "</style>\n",
       "<table border=\"1\" class=\"dataframe\">\n",
       "  <thead>\n",
       "    <tr style=\"text-align: right;\">\n",
       "      <th></th>\n",
       "      <th>Unnamed: 0</th>\n",
       "      <th>country</th>\n",
       "      <th>description</th>\n",
       "      <th>designation</th>\n",
       "      <th>points</th>\n",
       "      <th>price</th>\n",
       "      <th>province</th>\n",
       "      <th>region_1</th>\n",
       "      <th>region_2</th>\n",
       "      <th>taster_name</th>\n",
       "      <th>taster_twitter_handle</th>\n",
       "      <th>title</th>\n",
       "      <th>variety</th>\n",
       "      <th>winery</th>\n",
       "      <th>contains_word_value</th>\n",
       "      <th>price_over_42</th>\n",
       "    </tr>\n",
       "  </thead>\n",
       "  <tbody>\n",
       "    <tr>\n",
       "      <th>0</th>\n",
       "      <td>0</td>\n",
       "      <td>Italy</td>\n",
       "      <td>Aromas include tropical fruit, broom, brimston...</td>\n",
       "      <td>Vulkà Bianco</td>\n",
       "      <td>87</td>\n",
       "      <td>NaN</td>\n",
       "      <td>Sicily &amp; Sardinia</td>\n",
       "      <td>Etna</td>\n",
       "      <td>NaN</td>\n",
       "      <td>Kerin O’Keefe</td>\n",
       "      <td>@kerinokeefe</td>\n",
       "      <td>Nicosia 2013 Vulkà Bianco  (Etna)</td>\n",
       "      <td>White Blend</td>\n",
       "      <td>Nicosia</td>\n",
       "      <td>False</td>\n",
       "      <td>0</td>\n",
       "    </tr>\n",
       "    <tr>\n",
       "      <th>1</th>\n",
       "      <td>1</td>\n",
       "      <td>Portugal</td>\n",
       "      <td>This is ripe and fruity, a wine that is smooth...</td>\n",
       "      <td>Avidagos</td>\n",
       "      <td>87</td>\n",
       "      <td>15.0</td>\n",
       "      <td>Douro</td>\n",
       "      <td>NaN</td>\n",
       "      <td>NaN</td>\n",
       "      <td>Roger Voss</td>\n",
       "      <td>@vossroger</td>\n",
       "      <td>Quinta dos Avidagos 2011 Avidagos Red (Douro)</td>\n",
       "      <td>Portuguese Red</td>\n",
       "      <td>Quinta dos Avidagos</td>\n",
       "      <td>False</td>\n",
       "      <td>0</td>\n",
       "    </tr>\n",
       "    <tr>\n",
       "      <th>2</th>\n",
       "      <td>2</td>\n",
       "      <td>US</td>\n",
       "      <td>Tart and snappy, the flavors of lime flesh and...</td>\n",
       "      <td>NaN</td>\n",
       "      <td>87</td>\n",
       "      <td>14.0</td>\n",
       "      <td>Oregon</td>\n",
       "      <td>Willamette Valley</td>\n",
       "      <td>Willamette Valley</td>\n",
       "      <td>Paul Gregutt</td>\n",
       "      <td>@paulgwine</td>\n",
       "      <td>Rainstorm 2013 Pinot Gris (Willamette Valley)</td>\n",
       "      <td>Pinot Gris</td>\n",
       "      <td>Rainstorm</td>\n",
       "      <td>False</td>\n",
       "      <td>0</td>\n",
       "    </tr>\n",
       "    <tr>\n",
       "      <th>3</th>\n",
       "      <td>3</td>\n",
       "      <td>US</td>\n",
       "      <td>Pineapple rind, lemon pith and orange blossom ...</td>\n",
       "      <td>Reserve Late Harvest</td>\n",
       "      <td>87</td>\n",
       "      <td>13.0</td>\n",
       "      <td>Michigan</td>\n",
       "      <td>Lake Michigan Shore</td>\n",
       "      <td>NaN</td>\n",
       "      <td>Alexander Peartree</td>\n",
       "      <td>NaN</td>\n",
       "      <td>St. Julian 2013 Reserve Late Harvest Riesling ...</td>\n",
       "      <td>Riesling</td>\n",
       "      <td>St. Julian</td>\n",
       "      <td>False</td>\n",
       "      <td>0</td>\n",
       "    </tr>\n",
       "    <tr>\n",
       "      <th>4</th>\n",
       "      <td>4</td>\n",
       "      <td>US</td>\n",
       "      <td>Much like the regular bottling from 2012, this...</td>\n",
       "      <td>Vintner's Reserve Wild Child Block</td>\n",
       "      <td>87</td>\n",
       "      <td>65.0</td>\n",
       "      <td>Oregon</td>\n",
       "      <td>Willamette Valley</td>\n",
       "      <td>Willamette Valley</td>\n",
       "      <td>Paul Gregutt</td>\n",
       "      <td>@paulgwine</td>\n",
       "      <td>Sweet Cheeks 2012 Vintner's Reserve Wild Child...</td>\n",
       "      <td>Pinot Noir</td>\n",
       "      <td>Sweet Cheeks</td>\n",
       "      <td>False</td>\n",
       "      <td>1</td>\n",
       "    </tr>\n",
       "  </tbody>\n",
       "</table>\n",
       "</div>"
      ],
      "text/plain": [
       "   Unnamed: 0   country                                        description  \\\n",
       "0           0     Italy  Aromas include tropical fruit, broom, brimston...   \n",
       "1           1  Portugal  This is ripe and fruity, a wine that is smooth...   \n",
       "2           2        US  Tart and snappy, the flavors of lime flesh and...   \n",
       "3           3        US  Pineapple rind, lemon pith and orange blossom ...   \n",
       "4           4        US  Much like the regular bottling from 2012, this...   \n",
       "\n",
       "                          designation  points  price           province  \\\n",
       "0                        Vulkà Bianco      87    NaN  Sicily & Sardinia   \n",
       "1                            Avidagos      87   15.0              Douro   \n",
       "2                                 NaN      87   14.0             Oregon   \n",
       "3                Reserve Late Harvest      87   13.0           Michigan   \n",
       "4  Vintner's Reserve Wild Child Block      87   65.0             Oregon   \n",
       "\n",
       "              region_1           region_2         taster_name  \\\n",
       "0                 Etna                NaN       Kerin O’Keefe   \n",
       "1                  NaN                NaN          Roger Voss   \n",
       "2    Willamette Valley  Willamette Valley        Paul Gregutt   \n",
       "3  Lake Michigan Shore                NaN  Alexander Peartree   \n",
       "4    Willamette Valley  Willamette Valley        Paul Gregutt   \n",
       "\n",
       "  taster_twitter_handle                                              title  \\\n",
       "0          @kerinokeefe                  Nicosia 2013 Vulkà Bianco  (Etna)   \n",
       "1            @vossroger      Quinta dos Avidagos 2011 Avidagos Red (Douro)   \n",
       "2           @paulgwine       Rainstorm 2013 Pinot Gris (Willamette Valley)   \n",
       "3                   NaN  St. Julian 2013 Reserve Late Harvest Riesling ...   \n",
       "4           @paulgwine   Sweet Cheeks 2012 Vintner's Reserve Wild Child...   \n",
       "\n",
       "          variety               winery  contains_word_value  price_over_42  \n",
       "0     White Blend              Nicosia                False              0  \n",
       "1  Portuguese Red  Quinta dos Avidagos                False              0  \n",
       "2      Pinot Gris            Rainstorm                False              0  \n",
       "3        Riesling           St. Julian                False              0  \n",
       "4      Pinot Noir         Sweet Cheeks                False              1  "
      ]
     },
     "execution_count": 12,
     "metadata": {},
     "output_type": "execute_result"
    }
   ],
   "source": [
    "wines.head() # Double check the selection worked"
   ]
  },
  {
   "cell_type": "markdown",
   "metadata": {},
   "source": [
    "### Extract year"
   ]
  },
  {
   "cell_type": "markdown",
   "metadata": {},
   "source": [
    "Next, let's extract the year from the title and add it as a column to the dataset. (Q1) It appears that the years in the title column are consistently 4 digit numbers, e.g. `19**` or `20**`. Not too bad -- all we'd have to do is extract the 4 digits from the title column in each row."
   ]
  },
  {
   "cell_type": "markdown",
   "metadata": {},
   "source": [
    "I used https://regex101.com/ to test out this regex on a random sampling of `title` columns and it seems to do the job: `\\d{4}`. Four consecutive digits."
   ]
  },
  {
   "cell_type": "code",
   "execution_count": 7,
   "metadata": {},
   "outputs": [
    {
     "name": "stderr",
     "output_type": "stream",
     "text": [
      "/Users/nancywong/miniconda3/lib/python3.6/site-packages/ipykernel_launcher.py:1: FutureWarning: currently extract(expand=None) means expand=False (return Index/Series/DataFrame) but in a future version of pandas this will be changed to expand=True (return DataFrame)\n",
      "  \"\"\"Entry point for launching an IPython kernel.\n"
     ]
    }
   ],
   "source": [
    "wines['year'] = wines['title'].str.extract('(\\d{4})')"
   ]
  },
  {
   "cell_type": "code",
   "execution_count": 14,
   "metadata": {
    "scrolled": true
   },
   "outputs": [
    {
     "data": {
      "text/html": [
       "<div>\n",
       "<style>\n",
       "    .dataframe thead tr:only-child th {\n",
       "        text-align: right;\n",
       "    }\n",
       "\n",
       "    .dataframe thead th {\n",
       "        text-align: left;\n",
       "    }\n",
       "\n",
       "    .dataframe tbody tr th {\n",
       "        vertical-align: top;\n",
       "    }\n",
       "</style>\n",
       "<table border=\"1\" class=\"dataframe\">\n",
       "  <thead>\n",
       "    <tr style=\"text-align: right;\">\n",
       "      <th></th>\n",
       "      <th>Unnamed: 0</th>\n",
       "      <th>country</th>\n",
       "      <th>description</th>\n",
       "      <th>designation</th>\n",
       "      <th>points</th>\n",
       "      <th>price</th>\n",
       "      <th>province</th>\n",
       "      <th>region_1</th>\n",
       "      <th>region_2</th>\n",
       "      <th>taster_name</th>\n",
       "      <th>taster_twitter_handle</th>\n",
       "      <th>title</th>\n",
       "      <th>variety</th>\n",
       "      <th>winery</th>\n",
       "      <th>contains_word_value</th>\n",
       "      <th>price_over_42</th>\n",
       "      <th>year</th>\n",
       "    </tr>\n",
       "  </thead>\n",
       "  <tbody>\n",
       "    <tr>\n",
       "      <th>0</th>\n",
       "      <td>0</td>\n",
       "      <td>Italy</td>\n",
       "      <td>Aromas include tropical fruit, broom, brimston...</td>\n",
       "      <td>Vulkà Bianco</td>\n",
       "      <td>87</td>\n",
       "      <td>NaN</td>\n",
       "      <td>Sicily &amp; Sardinia</td>\n",
       "      <td>Etna</td>\n",
       "      <td>NaN</td>\n",
       "      <td>Kerin O’Keefe</td>\n",
       "      <td>@kerinokeefe</td>\n",
       "      <td>Nicosia 2013 Vulkà Bianco  (Etna)</td>\n",
       "      <td>White Blend</td>\n",
       "      <td>Nicosia</td>\n",
       "      <td>False</td>\n",
       "      <td>0</td>\n",
       "      <td>2013</td>\n",
       "    </tr>\n",
       "    <tr>\n",
       "      <th>1</th>\n",
       "      <td>1</td>\n",
       "      <td>Portugal</td>\n",
       "      <td>This is ripe and fruity, a wine that is smooth...</td>\n",
       "      <td>Avidagos</td>\n",
       "      <td>87</td>\n",
       "      <td>15.0</td>\n",
       "      <td>Douro</td>\n",
       "      <td>NaN</td>\n",
       "      <td>NaN</td>\n",
       "      <td>Roger Voss</td>\n",
       "      <td>@vossroger</td>\n",
       "      <td>Quinta dos Avidagos 2011 Avidagos Red (Douro)</td>\n",
       "      <td>Portuguese Red</td>\n",
       "      <td>Quinta dos Avidagos</td>\n",
       "      <td>False</td>\n",
       "      <td>0</td>\n",
       "      <td>2011</td>\n",
       "    </tr>\n",
       "    <tr>\n",
       "      <th>2</th>\n",
       "      <td>2</td>\n",
       "      <td>US</td>\n",
       "      <td>Tart and snappy, the flavors of lime flesh and...</td>\n",
       "      <td>NaN</td>\n",
       "      <td>87</td>\n",
       "      <td>14.0</td>\n",
       "      <td>Oregon</td>\n",
       "      <td>Willamette Valley</td>\n",
       "      <td>Willamette Valley</td>\n",
       "      <td>Paul Gregutt</td>\n",
       "      <td>@paulgwine</td>\n",
       "      <td>Rainstorm 2013 Pinot Gris (Willamette Valley)</td>\n",
       "      <td>Pinot Gris</td>\n",
       "      <td>Rainstorm</td>\n",
       "      <td>False</td>\n",
       "      <td>0</td>\n",
       "      <td>2013</td>\n",
       "    </tr>\n",
       "    <tr>\n",
       "      <th>3</th>\n",
       "      <td>3</td>\n",
       "      <td>US</td>\n",
       "      <td>Pineapple rind, lemon pith and orange blossom ...</td>\n",
       "      <td>Reserve Late Harvest</td>\n",
       "      <td>87</td>\n",
       "      <td>13.0</td>\n",
       "      <td>Michigan</td>\n",
       "      <td>Lake Michigan Shore</td>\n",
       "      <td>NaN</td>\n",
       "      <td>Alexander Peartree</td>\n",
       "      <td>NaN</td>\n",
       "      <td>St. Julian 2013 Reserve Late Harvest Riesling ...</td>\n",
       "      <td>Riesling</td>\n",
       "      <td>St. Julian</td>\n",
       "      <td>False</td>\n",
       "      <td>0</td>\n",
       "      <td>2013</td>\n",
       "    </tr>\n",
       "    <tr>\n",
       "      <th>4</th>\n",
       "      <td>4</td>\n",
       "      <td>US</td>\n",
       "      <td>Much like the regular bottling from 2012, this...</td>\n",
       "      <td>Vintner's Reserve Wild Child Block</td>\n",
       "      <td>87</td>\n",
       "      <td>65.0</td>\n",
       "      <td>Oregon</td>\n",
       "      <td>Willamette Valley</td>\n",
       "      <td>Willamette Valley</td>\n",
       "      <td>Paul Gregutt</td>\n",
       "      <td>@paulgwine</td>\n",
       "      <td>Sweet Cheeks 2012 Vintner's Reserve Wild Child...</td>\n",
       "      <td>Pinot Noir</td>\n",
       "      <td>Sweet Cheeks</td>\n",
       "      <td>False</td>\n",
       "      <td>1</td>\n",
       "      <td>2012</td>\n",
       "    </tr>\n",
       "  </tbody>\n",
       "</table>\n",
       "</div>"
      ],
      "text/plain": [
       "   Unnamed: 0   country                                        description  \\\n",
       "0           0     Italy  Aromas include tropical fruit, broom, brimston...   \n",
       "1           1  Portugal  This is ripe and fruity, a wine that is smooth...   \n",
       "2           2        US  Tart and snappy, the flavors of lime flesh and...   \n",
       "3           3        US  Pineapple rind, lemon pith and orange blossom ...   \n",
       "4           4        US  Much like the regular bottling from 2012, this...   \n",
       "\n",
       "                          designation  points  price           province  \\\n",
       "0                        Vulkà Bianco      87    NaN  Sicily & Sardinia   \n",
       "1                            Avidagos      87   15.0              Douro   \n",
       "2                                 NaN      87   14.0             Oregon   \n",
       "3                Reserve Late Harvest      87   13.0           Michigan   \n",
       "4  Vintner's Reserve Wild Child Block      87   65.0             Oregon   \n",
       "\n",
       "              region_1           region_2         taster_name  \\\n",
       "0                 Etna                NaN       Kerin O’Keefe   \n",
       "1                  NaN                NaN          Roger Voss   \n",
       "2    Willamette Valley  Willamette Valley        Paul Gregutt   \n",
       "3  Lake Michigan Shore                NaN  Alexander Peartree   \n",
       "4    Willamette Valley  Willamette Valley        Paul Gregutt   \n",
       "\n",
       "  taster_twitter_handle                                              title  \\\n",
       "0          @kerinokeefe                  Nicosia 2013 Vulkà Bianco  (Etna)   \n",
       "1            @vossroger      Quinta dos Avidagos 2011 Avidagos Red (Douro)   \n",
       "2           @paulgwine       Rainstorm 2013 Pinot Gris (Willamette Valley)   \n",
       "3                   NaN  St. Julian 2013 Reserve Late Harvest Riesling ...   \n",
       "4           @paulgwine   Sweet Cheeks 2012 Vintner's Reserve Wild Child...   \n",
       "\n",
       "          variety               winery  contains_word_value  price_over_42  \\\n",
       "0     White Blend              Nicosia                False              0   \n",
       "1  Portuguese Red  Quinta dos Avidagos                False              0   \n",
       "2      Pinot Gris            Rainstorm                False              0   \n",
       "3        Riesling           St. Julian                False              0   \n",
       "4      Pinot Noir         Sweet Cheeks                False              1   \n",
       "\n",
       "   year  \n",
       "0  2013  \n",
       "1  2011  \n",
       "2  2013  \n",
       "3  2013  \n",
       "4  2012  "
      ]
     },
     "execution_count": 14,
     "metadata": {},
     "output_type": "execute_result"
    }
   ],
   "source": [
    "wines.head() # Check if it worked"
   ]
  },
  {
   "cell_type": "markdown",
   "metadata": {},
   "source": [
    "### Categorical Variables"
   ]
  },
  {
   "cell_type": "code",
   "execution_count": 15,
   "metadata": {
    "scrolled": true
   },
   "outputs": [
    {
     "data": {
      "text/plain": [
       "country\n",
       "Argentina                  3800\n",
       "Armenia                       2\n",
       "Australia                  2329\n",
       "Austria                    3345\n",
       "Bosnia and Herzegovina        2\n",
       "Brazil                       52\n",
       "Bulgaria                    141\n",
       "Canada                      257\n",
       "Chile                      4472\n",
       "China                         1\n",
       "Croatia                      73\n",
       "Cyprus                       11\n",
       "Czech Republic               12\n",
       "Egypt                         1\n",
       "England                      74\n",
       "France                    22093\n",
       "Georgia                      86\n",
       "Germany                    2165\n",
       "Greece                      466\n",
       "Hungary                     146\n",
       "India                         9\n",
       "Israel                      505\n",
       "Italy                     19540\n",
       "Lebanon                      35\n",
       "Luxembourg                    6\n",
       "Macedonia                    12\n",
       "Mexico                       70\n",
       "Moldova                      59\n",
       "Morocco                      28\n",
       "New Zealand                1419\n",
       "Peru                         16\n",
       "Portugal                   5691\n",
       "Romania                     120\n",
       "Serbia                       12\n",
       "Slovakia                      1\n",
       "Slovenia                     87\n",
       "South Africa               1401\n",
       "Spain                      6645\n",
       "Switzerland                   7\n",
       "Turkey                       90\n",
       "US                        54504\n",
       "Ukraine                      14\n",
       "Uruguay                     109\n",
       "dtype: int64"
      ]
     },
     "execution_count": 15,
     "metadata": {},
     "output_type": "execute_result"
    }
   ],
   "source": [
    "wines.groupby(['country']).size()"
   ]
  },
  {
   "cell_type": "markdown",
   "metadata": {},
   "source": [
    "Ideally, I would have the time to convert categorical variables using one-hot encoding. However, it does take a lot of memory and time. An alternative would be to use label encoding, where we replace categories with integers, i.e. Argentina=1, Armenia=2, etc., but we risk creating a false ordering. Given more time, we could manually group some of these categories, e.g. by continent, to better make use of these columns."
   ]
  },
  {
   "cell_type": "code",
   "execution_count": 16,
   "metadata": {},
   "outputs": [
    {
     "data": {
      "text/plain": [
       "Unnamed: 0                 int64\n",
       "country                   object\n",
       "description               object\n",
       "designation               object\n",
       "points                     int64\n",
       "price                    float64\n",
       "province                  object\n",
       "region_1                  object\n",
       "region_2                  object\n",
       "taster_name               object\n",
       "taster_twitter_handle     object\n",
       "title                     object\n",
       "variety                   object\n",
       "winery                    object\n",
       "contains_word_value         bool\n",
       "price_over_42              int64\n",
       "year                      object\n",
       "dtype: object"
      ]
     },
     "execution_count": 16,
     "metadata": {},
     "output_type": "execute_result"
    }
   ],
   "source": [
    "wines.dtypes"
   ]
  },
  {
   "cell_type": "code",
   "execution_count": 12,
   "metadata": {},
   "outputs": [],
   "source": [
    "categorical_cols = ['country', 'designation', 'province', 'region_1', 'region_2', 'taster_name', 'variety', 'winery']"
   ]
  },
  {
   "cell_type": "code",
   "execution_count": 11,
   "metadata": {},
   "outputs": [
    {
     "data": {
      "text/plain": [
       "<matplotlib.axes._subplots.AxesSubplot at 0x1163c8240>"
      ]
     },
     "execution_count": 11,
     "metadata": {},
     "output_type": "execute_result"
    },
    {
     "data": {
      "image/png": "[encoded data removed]",
      "text/plain": [
       "<matplotlib.figure.Figure at 0x11638da58>"
      ]
     },
     "metadata": {},
     "output_type": "display_data"
    }
   ],
   "source": [
    "wines['country'].value_counts().plot(kind='bar')"
   ]
  },
  {
   "cell_type": "code",
   "execution_count": 19,
   "metadata": {
    "scrolled": true
   },
   "outputs": [
    {
     "data": {
      "text/plain": [
       "Reserve                                          2009\n",
       "Estate                                           1322\n",
       "Reserva                                          1259\n",
       "Riserva                                           698\n",
       "Estate Grown                                      621\n",
       "Brut                                              513\n",
       "Dry                                               413\n",
       "Barrel sample                                     375\n",
       "Crianza                                           343\n",
       "Estate Bottled                                    342\n",
       "Vieilles Vignes                                   308\n",
       "Brut Rosé                                         276\n",
       "Gran Reserva                                      261\n",
       "Barrel Sample                                     252\n",
       "Tradition                                         238\n",
       "Old Vine                                          221\n",
       "Extra Dry                                         204\n",
       "Rosé of                                           172\n",
       "Rosé                                              166\n",
       "Réserve                                           153\n",
       "Single Vineyard                                   131\n",
       "Vintage                                           128\n",
       "Estate Reserve                                    125\n",
       "Bien Nacido Vineyard                              120\n",
       "Late Harvest                                      112\n",
       "Classic                                           111\n",
       "Unoaked                                           110\n",
       "Barrel Select                                     106\n",
       "Late Bottled Vintage                               99\n",
       "Blanc de Blancs Brut                               96\n",
       "                                                 ... \n",
       "Leveroni Vineyard                                   1\n",
       "Obsidian Block Reserve                              1\n",
       "Estate Grown Skyline                                1\n",
       "Amatus Dulce                                        1\n",
       "Bradford Mountain Vineyard Gravity Flow Block       1\n",
       "Archineri                                           1\n",
       "Il Cucchetto                                        1\n",
       "Cordon Rouge                                        1\n",
       "Cuvee de Fume                                       1\n",
       "Leonardini Estate                                   1\n",
       "Lila's Cuvée Estate Vineyard                        1\n",
       "Éclat Vigno Old Vine Blend                          1\n",
       "Vigna S. Caterina                                   1\n",
       "The League of Shadows Clare Ranch Vineyards         1\n",
       "A&D Vineyard Wild Ferment                           1\n",
       "Crianza Selected Harvest                            1\n",
       "Giancarlo Ceci Parco Grande                         1\n",
       "Tambè                                               1\n",
       "Vintner's Collection Aromatic                       1\n",
       "Quinta do Valdoeiro Colheita                        1\n",
       "Cuvée Marie                                         1\n",
       "Saulheimer Hölle Unfiltreirt Trocken                1\n",
       "Combination                                         1\n",
       "Jovis Italic Blend                                  1\n",
       "Vigna Castel Ringberg Riserva                       1\n",
       "Pioneer Block #3 43 Degrees                         1\n",
       "Cuvee 128                                           1\n",
       "Le Terre Foss                                       1\n",
       "Lieu-dit Harth Cuvée Caroline                       1\n",
       "Quipu Blend                                         1\n",
       "Name: designation, Length: 37979, dtype: int64"
      ]
     },
     "execution_count": 19,
     "metadata": {},
     "output_type": "execute_result"
    }
   ],
   "source": [
    "wines['designation'].value_counts()"
   ]
  },
  {
   "cell_type": "code",
   "execution_count": 20,
   "metadata": {
    "scrolled": true
   },
   "outputs": [
    {
     "data": {
      "text/plain": [
       "California                  36247\n",
       "Washington                   8639\n",
       "Bordeaux                     5941\n",
       "Tuscany                      5897\n",
       "Oregon                       5373\n",
       "Burgundy                     3980\n",
       "Northern Spain               3851\n",
       "Piedmont                     3729\n",
       "Mendoza Province             3264\n",
       "Veneto                       2716\n",
       "New York                     2688\n",
       "Alsace                       2440\n",
       "Northeastern Italy           2138\n",
       "Loire Valley                 1856\n",
       "Sicily & Sardinia            1797\n",
       "Champagne                    1613\n",
       "Southwest France             1503\n",
       "Southern Italy               1349\n",
       "South Australia              1349\n",
       "Provence                     1346\n",
       "Douro                        1281\n",
       "Central Italy                1233\n",
       "Catalonia                    1164\n",
       "Rhône Valley                 1081\n",
       "Beaujolais                   1044\n",
       "Mosel                        1039\n",
       "Alentejano                    937\n",
       "Colchagua Valley              830\n",
       "Marlborough                   798\n",
       "Virginia                      777\n",
       "                            ...  \n",
       "Kathikas                        1\n",
       "Rhode Island                    1\n",
       "Vlootenburg                     1\n",
       "Beotia                          1\n",
       "Markopoulo                      1\n",
       "Alenteo                         1\n",
       "Croatia                         1\n",
       "Messinia                        1\n",
       "Urla-Thrace                     1\n",
       "Table wine                      1\n",
       "Arcadia                         1\n",
       "Serra do Sudeste                1\n",
       "Dealurile Hușilor               1\n",
       "Ceres Plateau                   1\n",
       "Muzla                           1\n",
       "Cape Agulhas                    1\n",
       "Pitsilia Mountains              1\n",
       "Paardeberg                      1\n",
       "Hawaii                          1\n",
       "Piekenierskloof                 1\n",
       "Viile Timis                     1\n",
       "Casablanca-Curicó Valley        1\n",
       "Sterea Ellada                   1\n",
       "Monemvasia                      1\n",
       "Muscat of Kefallonian           1\n",
       "Dingač                          1\n",
       "Pocerina                        1\n",
       "Lesbos                          1\n",
       "Corinthia                       1\n",
       "Hrvatsko Primorje               1\n",
       "Name: province, Length: 425, dtype: int64"
      ]
     },
     "execution_count": 20,
     "metadata": {},
     "output_type": "execute_result"
    }
   ],
   "source": [
    "wines['province'].value_counts()"
   ]
  },
  {
   "cell_type": "code",
   "execution_count": 21,
   "metadata": {
    "scrolled": true
   },
   "outputs": [
    {
     "data": {
      "text/plain": [
       "Napa Valley                               4480\n",
       "Columbia Valley (WA)                      4124\n",
       "Russian River Valley                      3091\n",
       "California                                2629\n",
       "Paso Robles                               2350\n",
       "Willamette Valley                         2301\n",
       "Mendoza                                   2301\n",
       "Alsace                                    2163\n",
       "Champagne                                 1613\n",
       "Barolo                                    1599\n",
       "Finger Lakes                              1565\n",
       "Sonoma Coast                              1474\n",
       "Brunello di Montalcino                    1470\n",
       "Rioja                                     1469\n",
       "Sonoma County                             1246\n",
       "Toscana                                   1197\n",
       "Walla Walla Valley (WA)                   1066\n",
       "Chianti Classico                          1062\n",
       "Santa Barbara County                      1000\n",
       "Carneros                                   999\n",
       "Yakima Valley                              997\n",
       "Sta. Rita Hills                            975\n",
       "Dry Creek Valley                           939\n",
       "Sicilia                                    925\n",
       "Côtes de Provence                          859\n",
       "Santa Ynez Valley                          812\n",
       "Santa Lucia Highlands                      806\n",
       "Lodi                                       803\n",
       "Barbaresco                                 794\n",
       "Alexander Valley                           784\n",
       "                                          ... \n",
       "Vino de la Tierra de Zamora                  1\n",
       "Sonoma-Napa-Monterey                         1\n",
       "Chignin-Bergeron                             1\n",
       "San Martino della Battaglia                  1\n",
       "Australia-New Zealand                        1\n",
       "Del Veneto                                   1\n",
       "Monterey-San Luis Obispo-Santa Barbara       1\n",
       "Geographe                                    1\n",
       "Sonoma County-Santa Barbara County           1\n",
       "Cabernet de Saumur                           1\n",
       "Vino de Calidad de Tierras de León           1\n",
       "Primitivo del Tarantino                      1\n",
       "Coteaux du Languedoc-Pézenas                 1\n",
       "Sonoma-Napa-Mendocino                        1\n",
       "Assisi                                       1\n",
       "Custoza Superiore                            1\n",
       "Paso Robles Highlands District               1\n",
       "Toledo                                       1\n",
       "Brindisi                                     1\n",
       "Vin de Pays de l'Atlantique                  1\n",
       "Tehama County                                1\n",
       "Valpolicella Valpantena Superiore            1\n",
       "Sonoma-Mendocino                             1\n",
       "Dolcetto d'Alba Superiore                    1\n",
       "Napa County-Lake County                      1\n",
       "Altos de Mendoza                             1\n",
       "Catalanesca del Monte Somma                  1\n",
       "Ohio                                         1\n",
       "Prince Edward County                         1\n",
       "Todi                                         1\n",
       "Name: region_1, Length: 1229, dtype: int64"
      ]
     },
     "execution_count": 21,
     "metadata": {},
     "output_type": "execute_result"
    }
   ],
   "source": [
    "wines['region_1'].value_counts()"
   ]
  },
  {
   "cell_type": "code",
   "execution_count": 22,
   "metadata": {
    "scrolled": false
   },
   "outputs": [
    {
     "data": {
      "text/plain": [
       "Central Coast        11065\n",
       "Sonoma                9028\n",
       "Columbia Valley       8103\n",
       "Napa                  6814\n",
       "Willamette Valley     3423\n",
       "California Other      2663\n",
       "Finger Lakes          1777\n",
       "Sierra Foothills      1462\n",
       "Napa-Sonoma           1169\n",
       "Central Valley        1062\n",
       "Southern Oregon        917\n",
       "Oregon Other           727\n",
       "Long Island            680\n",
       "North Coast            584\n",
       "Washington Other       534\n",
       "South Coast            272\n",
       "New York Other         231\n",
       "Name: region_2, dtype: int64"
      ]
     },
     "execution_count": 22,
     "metadata": {},
     "output_type": "execute_result"
    }
   ],
   "source": [
    "wines['region_2'].value_counts()"
   ]
  },
  {
   "cell_type": "code",
   "execution_count": 23,
   "metadata": {
    "scrolled": true
   },
   "outputs": [
    {
     "data": {
      "text/plain": [
       "Pinot Noir                        13272\n",
       "Chardonnay                        11753\n",
       "Cabernet Sauvignon                 9472\n",
       "Red Blend                          8946\n",
       "Bordeaux-style Red Blend           6915\n",
       "Riesling                           5189\n",
       "Sauvignon Blanc                    4967\n",
       "Syrah                              4142\n",
       "Rosé                               3564\n",
       "Merlot                             3102\n",
       "Nebbiolo                           2804\n",
       "Zinfandel                          2714\n",
       "Sangiovese                         2707\n",
       "Malbec                             2652\n",
       "Portuguese Red                     2466\n",
       "White Blend                        2360\n",
       "Sparkling Blend                    2153\n",
       "Tempranillo                        1810\n",
       "Rhône-style Red Blend              1471\n",
       "Pinot Gris                         1455\n",
       "Champagne Blend                    1396\n",
       "Cabernet Franc                     1353\n",
       "Grüner Veltliner                   1345\n",
       "Portuguese White                   1159\n",
       "Bordeaux-style White Blend         1066\n",
       "Pinot Grigio                       1052\n",
       "Gamay                              1025\n",
       "Gewürztraminer                     1012\n",
       "Viognier                            996\n",
       "Shiraz                              836\n",
       "                                  ...  \n",
       "Syrah-Malbec                          1\n",
       "Chardonel                             1\n",
       "Centesimino                           1\n",
       "Molinara                              1\n",
       "Moschofilero-Chardonnay               1\n",
       "Petit Meslier                         1\n",
       "Picapoll                              1\n",
       "Merlot-Grenache                       1\n",
       "Tamianka                              1\n",
       "Moscato di Noto                       1\n",
       "Carcajolu                             1\n",
       "Riesling-Chardonnay                   1\n",
       "Ramisco                               1\n",
       "Tokay Pinot Gris                      1\n",
       "Cercial                               1\n",
       "Pinot Gris-Gewürztraminer             1\n",
       "Paralleda                             1\n",
       "Otskhanuri Sapere                     1\n",
       "Kuntra                                1\n",
       "Kinali Yapincak                       1\n",
       "Ondenc                                1\n",
       "Trajadura                             1\n",
       "Merlot-Shiraz                         1\n",
       "Prunelard                             1\n",
       "St. Vincent                           1\n",
       "Sauvignon Blanc-Sauvignon Gris        1\n",
       "Piquepoul Blanc                       1\n",
       "Gros Plant                            1\n",
       "Petit Courbu                          1\n",
       "Roscetto                              1\n",
       "Name: variety, Length: 707, dtype: int64"
      ]
     },
     "execution_count": 23,
     "metadata": {},
     "output_type": "execute_result"
    }
   ],
   "source": [
    "wines['variety'].value_counts()"
   ]
  },
  {
   "cell_type": "code",
   "execution_count": 24,
   "metadata": {
    "scrolled": true
   },
   "outputs": [
    {
     "data": {
      "text/plain": [
       "Wines & Winemakers            222\n",
       "Testarossa                    218\n",
       "DFJ Vinhos                    215\n",
       "Williams Selyem               211\n",
       "Louis Latour                  199\n",
       "Georges Duboeuf               196\n",
       "Chateau Ste. Michelle         194\n",
       "Concha y Toro                 164\n",
       "Columbia Crest                159\n",
       "Kendall-Jackson               130\n",
       "Siduri                        126\n",
       "Gary Farrell                  125\n",
       "Lynmar                        118\n",
       "Albert Bichot                 117\n",
       "Montes                        117\n",
       "Trapiche                      113\n",
       "Undurraga                     113\n",
       "Casa Santos Lima              113\n",
       "Jean-Luc and Paul Aegerter    113\n",
       "Santa Ema                     112\n",
       "Robert Mondavi                112\n",
       "Chanson Père et Fils          109\n",
       "Fess Parker                   108\n",
       "V. Sattui                     107\n",
       "Iron Horse                    106\n",
       "Foxen                         105\n",
       "Louis Jadot                   104\n",
       "Feudi di San Gregorio         102\n",
       "Chehalem                      102\n",
       "Maryhill                      102\n",
       "                             ... \n",
       "Château Lagrange Monbadon       1\n",
       "Hamlet                          1\n",
       "The Smuggler's Son              1\n",
       "Le Drunk Rooster                1\n",
       "Julia James                     1\n",
       "Vignobles André Lurton          1\n",
       "Tar & Roses                     1\n",
       "Bodegas Lozano                  1\n",
       "Spyros Hatziyiannis             1\n",
       "One And Done                    1\n",
       "Señorío de Cuzcurrita           1\n",
       "Château Haut Pougnan            1\n",
       "Château Lestrille               1\n",
       "Mohua                           1\n",
       "Slingshot                       1\n",
       "Glaetzer-Dixon                  1\n",
       "Source Napa                     1\n",
       "Capçanes                        1\n",
       "Bel Arbor                       1\n",
       "Schooler Nolan                  1\n",
       "Domaine Barraud                 1\n",
       "Le Prince                       1\n",
       "Waypoint                        1\n",
       "Sexy Wine Bomb                  1\n",
       "Fourteen Appellations           1\n",
       "Dog Tail                        1\n",
       "Land of Hope                    1\n",
       "Montevannos                     1\n",
       "Bartalotti                      1\n",
       "Château Aiguilhe Querre         1\n",
       "Name: winery, Length: 16757, dtype: int64"
      ]
     },
     "execution_count": 24,
     "metadata": {},
     "output_type": "execute_result"
    }
   ],
   "source": [
    "wines['winery'].value_counts()"
   ]
  },
  {
   "cell_type": "markdown",
   "metadata": {},
   "source": [
    "It looks like that, for a lot of these categorical variables, a large distribution falls on a few categories. There are many categories with only 1 wine that falls in that category."
   ]
  },
  {
   "cell_type": "markdown",
   "metadata": {},
   "source": [
    "For the sake of time, we can revisit label encoding as needed."
   ]
  },
  {
   "cell_type": "markdown",
   "metadata": {},
   "source": [
    "Given more time: One way to handle this is to add a mask such that we can only look at wines that fall under the first most common 50 categories in each column. e.g. There are 16,757 wineries. If we wanted to visualize the prices for the top 50 wineries, we could add a mask for the value_counts to be over 50, allowing us to see how price might correlate for each of these wineries. "
   ]
  },
  {
   "cell_type": "markdown",
   "metadata": {},
   "source": [
    "### Data visualization"
   ]
  },
  {
   "cell_type": "markdown",
   "metadata": {},
   "source": [
    "Let's visualize some of the distributions of these values."
   ]
  },
  {
   "cell_type": "code",
   "execution_count": 8,
   "metadata": {},
   "outputs": [],
   "source": [
    "% matplotlib inline\n",
    "\n",
    "import matplotlib.pyplot as plt\n",
    "import seaborn as sns"
   ]
  },
  {
   "cell_type": "code",
   "execution_count": 22,
   "metadata": {
    "scrolled": false
   },
   "outputs": [
    {
     "data": {
      "text/plain": [
       "['Unnamed: 0',\n",
       " 'country',\n",
       " 'description',\n",
       " 'designation',\n",
       " 'points',\n",
       " 'price',\n",
       " 'province',\n",
       " 'region_1',\n",
       " 'region_2',\n",
       " 'taster_name',\n",
       " 'taster_twitter_handle',\n",
       " 'title',\n",
       " 'variety',\n",
       " 'winery',\n",
       " 'contains_word_value',\n",
       " 'price_over_42',\n",
       " 'year']"
      ]
     },
     "execution_count": 22,
     "metadata": {},
     "output_type": "execute_result"
    }
   ],
   "source": [
    "list(wines)"
   ]
  },
  {
   "cell_type": "code",
   "execution_count": 9,
   "metadata": {},
   "outputs": [],
   "source": [
    "# As noted earlier, these columns can be dropped.\n",
    "drop_cols = ['Unnamed: 0', 'taster_twitter_handle'] "
   ]
  },
  {
   "cell_type": "code",
   "execution_count": 10,
   "metadata": {},
   "outputs": [],
   "source": [
    "wines = wines.drop(drop_cols, axis=1, inplace=False)"
   ]
  },
  {
   "cell_type": "markdown",
   "metadata": {},
   "source": [
    "Let's try a preliminary pairplot, as it may give us hints on what to explore next."
   ]
  },
  {
   "cell_type": "code",
   "execution_count": 33,
   "metadata": {},
   "outputs": [
    {
     "data": {
      "text/plain": [
       "<seaborn.axisgrid.PairGrid at 0x1189b4cc0>"
      ]
     },
     "execution_count": 33,
     "metadata": {},
     "output_type": "execute_result"
    },
    {
     "data": {
      "image/png": "[encoded data removed]",
      "text/plain": [
       "<matplotlib.figure.Figure at 0x11a1f6208>"
      ]
     },
     "metadata": {},
     "output_type": "display_data"
    }
   ],
   "source": [
    "sns.pairplot(wines.dropna(), hue='price_over_42')"
   ]
  },
  {
   "cell_type": "markdown",
   "metadata": {},
   "source": [
    "Looking just at these pairplots, it appears there are correlations between price and other variables. We might want to encode our categorical variables so that we can find more patterns and correlations."
   ]
  },
  {
   "cell_type": "code",
   "execution_count": 44,
   "metadata": {},
   "outputs": [
    {
     "data": {
      "text/plain": [
       "country                 object\n",
       "description             object\n",
       "designation             object\n",
       "points                   int64\n",
       "price                  float64\n",
       "province                object\n",
       "region_1                object\n",
       "region_2                object\n",
       "taster_name             object\n",
       "title                   object\n",
       "variety                 object\n",
       "winery                  object\n",
       "contains_word_value       bool\n",
       "price_over_42            int64\n",
       "year                    object\n",
       "dtype: object"
      ]
     },
     "execution_count": 44,
     "metadata": {},
     "output_type": "execute_result"
    }
   ],
   "source": [
    "wines.dtypes"
   ]
  },
  {
   "cell_type": "markdown",
   "metadata": {},
   "source": [
    "### Categorical Variables x Price"
   ]
  },
  {
   "cell_type": "code",
   "execution_count": 13,
   "metadata": {},
   "outputs": [
    {
     "data": {
      "text/plain": [
       "['country',\n",
       " 'designation',\n",
       " 'province',\n",
       " 'region_1',\n",
       " 'region_2',\n",
       " 'taster_name',\n",
       " 'variety',\n",
       " 'winery']"
      ]
     },
     "execution_count": 13,
     "metadata": {},
     "output_type": "execute_result"
    }
   ],
   "source": [
    "categorical_cols"
   ]
  },
  {
   "cell_type": "code",
   "execution_count": 14,
   "metadata": {},
   "outputs": [],
   "source": [
    "# Convert to category dtypes\n",
    "for col in categorical_cols:\n",
    "    wines[col] = wines[col].astype('category')"
   ]
  },
  {
   "cell_type": "code",
   "execution_count": 27,
   "metadata": {},
   "outputs": [
    {
     "data": {
      "text/plain": [
       "country                category\n",
       "description              object\n",
       "designation            category\n",
       "points                    int64\n",
       "price                   float64\n",
       "province               category\n",
       "region_1               category\n",
       "region_2               category\n",
       "taster_name            category\n",
       "title                    object\n",
       "variety                category\n",
       "winery                 category\n",
       "contains_word_value        bool\n",
       "price_over_42             int64\n",
       "year                     object\n",
       "dtype: object"
      ]
     },
     "execution_count": 27,
     "metadata": {},
     "output_type": "execute_result"
    }
   ],
   "source": [
    "wines.dtypes"
   ]
  },
  {
   "cell_type": "code",
   "execution_count": 60,
   "metadata": {
    "scrolled": true
   },
   "outputs": [
    {
     "data": {
      "text/plain": [
       "<matplotlib.axes._subplots.AxesSubplot at 0x136c8feb8>"
      ]
     },
     "execution_count": 60,
     "metadata": {},
     "output_type": "execute_result"
    },
    {
     "data": {
      "image/png": "[encoded data removed]",
      "text/plain": [
       "<matplotlib.figure.Figure at 0x1367b7550>"
      ]
     },
     "metadata": {},
     "output_type": "display_data"
    }
   ],
   "source": [
    "wines['designation'].value_counts().head(15).plot.bar()"
   ]
  },
  {
   "cell_type": "code",
   "execution_count": 63,
   "metadata": {},
   "outputs": [
    {
     "data": {
      "image/png": "[encoded data removed]",
      "text/plain": [
       "<matplotlib.figure.Figure at 0x135b90c50>"
      ]
     },
     "metadata": {},
     "output_type": "display_data"
    },
    {
     "data": {
      "image/png": "[encoded data removed]",
      "text/plain": [
       "<matplotlib.figure.Figure at 0x135a35c88>"
      ]
     },
     "metadata": {},
     "output_type": "display_data"
    },
    {
     "data": {
      "image/png": "[encoded data removed]",
      "text/plain": [
       "<matplotlib.figure.Figure at 0x1359dfa20>"
      ]
     },
     "metadata": {},
     "output_type": "display_data"
    },
    {
     "data": {
      "image/png": "[encoded data removed]",
      "text/plain": [
       "<matplotlib.figure.Figure at 0x135828e48>"
      ]
     },
     "metadata": {},
     "output_type": "display_data"
    },
    {
     "data": {
      "image/png": "[encoded data removed]",
      "text/plain": [
       "<matplotlib.figure.Figure at 0x135744630>"
      ]
     },
     "metadata": {},
     "output_type": "display_data"
    },
    {
     "data": {
      "image/png": "[encoded data removed]",
      "text/plain": [
       "<matplotlib.figure.Figure at 0x135622908>"
      ]
     },
     "metadata": {},
     "output_type": "display_data"
    },
    {
     "data": {
      "image/png": "[encoded data removed]",
      "text/plain": [
       "<matplotlib.figure.Figure at 0x135538cc0>"
      ]
     },
     "metadata": {},
     "output_type": "display_data"
    },
    {
     "data": {
      "image/png": "[encoded data removed]",
      "text/plain": [
       "<matplotlib.figure.Figure at 0x1353fcb00>"
      ]
     },
     "metadata": {},
     "output_type": "display_data"
    }
   ],
   "source": [
    "# Visualize distributions for top 20 categories in categorical columns\n",
    "for col in categorical_cols:\n",
    "    wines[col].value_counts().head(20).plot.bar()\n",
    "    plt.xlabel(col)\n",
    "    plt.show()"
   ]
  },
  {
   "cell_type": "markdown",
   "metadata": {},
   "source": [
    "Lastly, I want to visualize the correlation matrix. Let's use label encoding for now for the sake of time, knowing there is the shortcoming that these categories aren't inherently ordered."
   ]
  },
  {
   "cell_type": "code",
   "execution_count": 57,
   "metadata": {},
   "outputs": [
    {
     "data": {
      "text/plain": [
       "country                category\n",
       "description              object\n",
       "designation            category\n",
       "points                    int64\n",
       "price                   float64\n",
       "province               category\n",
       "region_1               category\n",
       "region_2               category\n",
       "taster_name            category\n",
       "title                    object\n",
       "variety                category\n",
       "winery                 category\n",
       "contains_word_value        bool\n",
       "price_over_42             int64\n",
       "year                     object\n",
       "dtype: object"
      ]
     },
     "execution_count": 57,
     "metadata": {},
     "output_type": "execute_result"
    }
   ],
   "source": [
    "wines.dtypes"
   ]
  },
  {
   "cell_type": "code",
   "execution_count": 56,
   "metadata": {
    "scrolled": true
   },
   "outputs": [
    {
     "data": {
      "text/plain": [
       "([0,\n",
       "  1,\n",
       "  2,\n",
       "  3,\n",
       "  4,\n",
       "  5,\n",
       "  6,\n",
       "  7,\n",
       "  8,\n",
       "  9,\n",
       "  10,\n",
       "  11,\n",
       "  12,\n",
       "  13,\n",
       "  14,\n",
       "  15,\n",
       "  16,\n",
       "  17,\n",
       "  18,\n",
       "  19,\n",
       "  20,\n",
       "  21,\n",
       "  22,\n",
       "  23,\n",
       "  24,\n",
       "  25,\n",
       "  26,\n",
       "  27,\n",
       "  28,\n",
       "  29,\n",
       "  30,\n",
       "  31,\n",
       "  32,\n",
       "  33,\n",
       "  34,\n",
       "  35,\n",
       "  36,\n",
       "  37,\n",
       "  38,\n",
       "  39,\n",
       "  40,\n",
       "  41,\n",
       "  42,\n",
       "  -1.0],\n",
       " <a list of 44 Text xticklabel objects>)"
      ]
     },
     "execution_count": 56,
     "metadata": {},
     "output_type": "execute_result"
    },
    {
     "data": {
      "image/png": "[encoded data removed]",
      "text/plain": [
       "<matplotlib.figure.Figure at 0x136a44cc0>"
      ]
     },
     "metadata": {},
     "output_type": "display_data"
    }
   ],
   "source": [
    "g = sns.pairplot(x_vars=['country'], y_vars=['price'], data=wines, hue='price_over_42')\n",
    "g.fig.set_size_inches(15,10)\n",
    "plt.xticks(rotation=70)"
   ]
  },
  {
   "cell_type": "markdown",
   "metadata": {},
   "source": [
    "Note: Looks like French wines can get... really expensive."
   ]
  },
  {
   "cell_type": "markdown",
   "metadata": {},
   "source": [
    "Given more time, I would plot the above chart across the top 20 categories for each of the categorical columns. I could select the top categories via the value_counts().head() function, select the rows containing those category values, and plot the price against those."
   ]
  },
  {
   "cell_type": "markdown",
   "metadata": {},
   "source": [
    "### Pearson correlation"
   ]
  },
  {
   "cell_type": "code",
   "execution_count": 65,
   "metadata": {},
   "outputs": [],
   "source": [
    "def plot_corr(df,size=10):\n",
    "    '''\n",
    "    Function plots a graphical correlation matrix for each pair of columns in the dataframe.\n",
    "    - Yellow: Positive correlations\n",
    "    - Navy: Negative correlations\n",
    "\n",
    "    Input:\n",
    "        df: pandas DataFrame\n",
    "        size: vertical and horizontal size of the plot\n",
    "    '''\n",
    "    corr = df.corr()\n",
    "    fig, ax = plt.subplots(figsize=(size, size))\n",
    "    ax.matshow(corr)\n",
    "    plt.xticks(range(len(corr.columns)), corr.columns, rotation=70);\n",
    "    plt.yticks(range(len(corr.columns)), corr.columns);    "
   ]
  },
  {
   "cell_type": "code",
   "execution_count": 66,
   "metadata": {
    "scrolled": true
   },
   "outputs": [
    {
     "data": {
      "image/png": "[encoded data removed]",
      "text/plain": [
       "<matplotlib.figure.Figure at 0x1353b5048>"
      ]
     },
     "metadata": {},
     "output_type": "display_data"
    }
   ],
   "source": [
    "plot_corr(wines)"
   ]
  },
  {
   "cell_type": "markdown",
   "metadata": {},
   "source": [
    "Notes:\n",
    "- Looks like the price doesn't have a strong correlation with the \"points.\" May seem unintuitive at first, but I think is reasonable given what I know about wine, which is that a lot of times the \"rating\" and the price point can be a bit arbitrary.\n",
    "- Price does seem correlated with whether or not the description contains the word \"value,\" confirming my hypothesis from earlier.\n",
    "- Price naturally is a bit correlated with whether or not the price is over 42 dollars. However, since so many of the wines are well over 42 dollars, the cut-off of 42 doesn't capture the correlation as well."
   ]
  },
  {
   "cell_type": "markdown",
   "metadata": {},
   "source": [
    "Ok, let's move on to modeling."
   ]
  },
  {
   "cell_type": "markdown",
   "metadata": {},
   "source": [
    "## Modeling from Description "
   ]
  },
  {
   "cell_type": "markdown",
   "metadata": {},
   "source": [
    "Q2: Build a model to predict the price of a bottle of wine using only the text in the 'description' column."
   ]
  },
  {
   "cell_type": "markdown",
   "metadata": {},
   "source": [
    "Just so we know, let's quickly visualize the price distribution so we can look for outliers."
   ]
  },
  {
   "cell_type": "code",
   "execution_count": 53,
   "metadata": {},
   "outputs": [
    {
     "data": {
      "text/plain": [
       "<matplotlib.axes._subplots.AxesSubplot at 0x13938d048>"
      ]
     },
     "execution_count": 53,
     "metadata": {},
     "output_type": "execute_result"
    },
    {
     "data": {
      "image/png": "[encoded data removed]",
      "text/plain": [
       "<matplotlib.figure.Figure at 0x10f6244e0>"
      ]
     },
     "metadata": {},
     "output_type": "display_data"
    }
   ],
   "source": [
    "sns.distplot(wines['price'].dropna(inplace=False))"
   ]
  },
  {
   "cell_type": "code",
   "execution_count": 59,
   "metadata": {},
   "outputs": [
    {
     "data": {
      "text/plain": [
       "(0, 100)"
      ]
     },
     "execution_count": 59,
     "metadata": {},
     "output_type": "execute_result"
    },
    {
     "data": {
      "image/png": "[encoded data removed]",
      "text/plain": [
       "<matplotlib.figure.Figure at 0x139356a20>"
      ]
     },
     "metadata": {},
     "output_type": "display_data"
    }
   ],
   "source": [
    "sns.distplot(wines['price'].dropna(inplace=False), bins=500)\n",
    "plt.xlim(0,100)"
   ]
  },
  {
   "cell_type": "markdown",
   "metadata": {},
   "source": [
    "#### Prepare data"
   ]
  },
  {
   "cell_type": "code",
   "execution_count": 15,
   "metadata": {},
   "outputs": [],
   "source": [
    "wines_desc = wines[['price', 'description']].dropna(inplace=False)"
   ]
  },
  {
   "cell_type": "code",
   "execution_count": 16,
   "metadata": {
    "scrolled": true
   },
   "outputs": [],
   "source": [
    "wines_desc = wines_desc.replace([np.inf, -np.inf], np.nan).dropna(axis=1)"
   ]
  },
  {
   "cell_type": "code",
   "execution_count": 19,
   "metadata": {},
   "outputs": [
    {
     "data": {
      "text/html": [
       "<div>\n",
       "<style>\n",
       "    .dataframe thead tr:only-child th {\n",
       "        text-align: right;\n",
       "    }\n",
       "\n",
       "    .dataframe thead th {\n",
       "        text-align: left;\n",
       "    }\n",
       "\n",
       "    .dataframe tbody tr th {\n",
       "        vertical-align: top;\n",
       "    }\n",
       "</style>\n",
       "<table border=\"1\" class=\"dataframe\">\n",
       "  <thead>\n",
       "    <tr style=\"text-align: right;\">\n",
       "      <th></th>\n",
       "      <th>price</th>\n",
       "      <th>description</th>\n",
       "    </tr>\n",
       "  </thead>\n",
       "  <tbody>\n",
       "    <tr>\n",
       "      <th>1</th>\n",
       "      <td>15.0</td>\n",
       "      <td>This is ripe and fruity, a wine that is smooth...</td>\n",
       "    </tr>\n",
       "    <tr>\n",
       "      <th>2</th>\n",
       "      <td>14.0</td>\n",
       "      <td>Tart and snappy, the flavors of lime flesh and...</td>\n",
       "    </tr>\n",
       "    <tr>\n",
       "      <th>3</th>\n",
       "      <td>13.0</td>\n",
       "      <td>Pineapple rind, lemon pith and orange blossom ...</td>\n",
       "    </tr>\n",
       "    <tr>\n",
       "      <th>4</th>\n",
       "      <td>65.0</td>\n",
       "      <td>Much like the regular bottling from 2012, this...</td>\n",
       "    </tr>\n",
       "    <tr>\n",
       "      <th>5</th>\n",
       "      <td>15.0</td>\n",
       "      <td>Blackberry and raspberry aromas show a typical...</td>\n",
       "    </tr>\n",
       "  </tbody>\n",
       "</table>\n",
       "</div>"
      ],
      "text/plain": [
       "   price                                        description\n",
       "1   15.0  This is ripe and fruity, a wine that is smooth...\n",
       "2   14.0  Tart and snappy, the flavors of lime flesh and...\n",
       "3   13.0  Pineapple rind, lemon pith and orange blossom ...\n",
       "4   65.0  Much like the regular bottling from 2012, this...\n",
       "5   15.0  Blackberry and raspberry aromas show a typical..."
      ]
     },
     "execution_count": 19,
     "metadata": {},
     "output_type": "execute_result"
    }
   ],
   "source": [
    "wines_desc.head()"
   ]
  },
  {
   "cell_type": "code",
   "execution_count": 17,
   "metadata": {},
   "outputs": [],
   "source": [
    "from sklearn.model_selection import train_test_split"
   ]
  },
  {
   "cell_type": "code",
   "execution_count": 18,
   "metadata": {},
   "outputs": [],
   "source": [
    "X = wines_desc['description']"
   ]
  },
  {
   "cell_type": "code",
   "execution_count": 19,
   "metadata": {},
   "outputs": [],
   "source": [
    "y = wines_desc['price']"
   ]
  },
  {
   "cell_type": "markdown",
   "metadata": {},
   "source": [
    "Since most of the descriptions are about the same length, we can use a simple count vectorizer. (TdIdf vectorizer would be more useful if the descriptions are of different lengths. Hashing vectorizer wouldn't allow use to compute the inverse transform from feature indices to string feature names.)"
   ]
  },
  {
   "cell_type": "code",
   "execution_count": 20,
   "metadata": {},
   "outputs": [],
   "source": [
    "from sklearn.feature_extraction.text import CountVectorizer"
   ]
  },
  {
   "cell_type": "code",
   "execution_count": 21,
   "metadata": {},
   "outputs": [],
   "source": [
    "count_vect = CountVectorizer(stop_words='english', analyzer='word')"
   ]
  },
  {
   "cell_type": "markdown",
   "metadata": {},
   "source": [
    "Note: Given more time, we can tokenize our words first."
   ]
  },
  {
   "cell_type": "code",
   "execution_count": 22,
   "metadata": {},
   "outputs": [],
   "source": [
    "X_counts = count_vect.fit_transform(X)"
   ]
  },
  {
   "cell_type": "code",
   "execution_count": 23,
   "metadata": {},
   "outputs": [
    {
     "data": {
      "text/plain": [
       "(120975, 29967)"
      ]
     },
     "execution_count": 23,
     "metadata": {},
     "output_type": "execute_result"
    }
   ],
   "source": [
    "X_counts.shape"
   ]
  },
  {
   "cell_type": "code",
   "execution_count": 24,
   "metadata": {},
   "outputs": [],
   "source": [
    "X_train, X_test, y_train, y_test = train_test_split(X_counts, y, test_size=0.33, random_state=42)"
   ]
  },
  {
   "cell_type": "markdown",
   "metadata": {},
   "source": [
    "### Regression"
   ]
  },
  {
   "cell_type": "code",
   "execution_count": 13,
   "metadata": {},
   "outputs": [],
   "source": [
    "from sklearn.linear_model import LogisticRegression"
   ]
  },
  {
   "cell_type": "code",
   "execution_count": 31,
   "metadata": {},
   "outputs": [],
   "source": [
    "from sklearn.externals import joblib"
   ]
  },
  {
   "cell_type": "code",
   "execution_count": 26,
   "metadata": {},
   "outputs": [],
   "source": [
    "log_reg = LogisticRegression()"
   ]
  },
  {
   "cell_type": "code",
   "execution_count": 27,
   "metadata": {},
   "outputs": [
    {
     "data": {
      "text/plain": [
       "LogisticRegression(C=1.0, class_weight=None, dual=False, fit_intercept=True,\n",
       "          intercept_scaling=1, max_iter=100, multi_class='ovr', n_jobs=1,\n",
       "          penalty='l2', random_state=None, solver='liblinear', tol=0.0001,\n",
       "          verbose=0, warm_start=False)"
      ]
     },
     "execution_count": 27,
     "metadata": {},
     "output_type": "execute_result"
    }
   ],
   "source": [
    "log_reg.fit(X_train, y_train)"
   ]
  },
  {
   "cell_type": "code",
   "execution_count": 31,
   "metadata": {},
   "outputs": [
    {
     "data": {
      "text/plain": [
       "['logistic_regression.pkl']"
      ]
     },
     "execution_count": 31,
     "metadata": {},
     "output_type": "execute_result"
    }
   ],
   "source": [
    "joblib.dump(log_reg, 'logistic_regression.pkl')"
   ]
  },
  {
   "cell_type": "code",
   "execution_count": 32,
   "metadata": {},
   "outputs": [],
   "source": [
    "log_reg_y_pred = log_reg.predict(X_test)"
   ]
  },
  {
   "cell_type": "code",
   "execution_count": 23,
   "metadata": {},
   "outputs": [],
   "source": [
    "from sklearn.metrics import explained_variance_score, mean_absolute_error, median_absolute_error, mean_squared_error, r2_score"
   ]
  },
  {
   "cell_type": "code",
   "execution_count": 24,
   "metadata": {},
   "outputs": [],
   "source": [
    "def score_regression(y_pred, y_test=y_test):\n",
    "    print('Mean absolute error: ')\n",
    "    print(mean_absolute_error(y_test, y_pred))\n",
    "    \n",
    "    print('Median absolute error: ')\n",
    "    print(median_absolute_error(y_test, y_pred))\n",
    "    \n",
    "    print('Root mean squared error: ')\n",
    "    print(np.sqrt(mean_squared_error(y_test, y_pred)))\n",
    "    \n",
    "    print('r2 score: ')\n",
    "    print(r2_score(y_test, y_pred))"
   ]
  },
  {
   "cell_type": "code",
   "execution_count": 62,
   "metadata": {},
   "outputs": [
    {
     "name": "stdout",
     "output_type": "stream",
     "text": [
      "Mean absolute error: \n",
      "15.0354942137\n",
      "Median absolute error: \n",
      "7.0\n",
      "Root mean squared error: \n",
      "35.7895573486\n",
      "r2 score: \n",
      "0.133636890331\n"
     ]
    }
   ],
   "source": [
    "score_regression(log_reg_y_pred)"
   ]
  },
  {
   "cell_type": "markdown",
   "metadata": {},
   "source": [
    "So... not great. But not as awful when considering that the standard deviation of price is about 41 dollars. Remember that we have that outlier French wine at 3300 dollars. When I look at the median absolute error, it's definitely less, likely due to the outliers."
   ]
  },
  {
   "cell_type": "code",
   "execution_count": 29,
   "metadata": {},
   "outputs": [],
   "source": [
    "from sklearn.ensemble import RandomForestRegressor"
   ]
  },
  {
   "cell_type": "code",
   "execution_count": 38,
   "metadata": {},
   "outputs": [],
   "source": [
    "rf_reg = RandomForestRegressor()"
   ]
  },
  {
   "cell_type": "code",
   "execution_count": 63,
   "metadata": {},
   "outputs": [
    {
     "data": {
      "text/plain": [
       "RandomForestRegressor(bootstrap=True, criterion='mse', max_depth=None,\n",
       "           max_features='auto', max_leaf_nodes=None,\n",
       "           min_impurity_split=1e-07, min_samples_leaf=1,\n",
       "           min_samples_split=2, min_weight_fraction_leaf=0.0,\n",
       "           n_estimators=10, n_jobs=1, oob_score=False, random_state=None,\n",
       "           verbose=0, warm_start=False)"
      ]
     },
     "execution_count": 63,
     "metadata": {},
     "output_type": "execute_result"
    }
   ],
   "source": [
    "rf_reg.fit(X_train, y_train)"
   ]
  },
  {
   "cell_type": "code",
   "execution_count": 64,
   "metadata": {},
   "outputs": [
    {
     "data": {
      "text/plain": [
       "['random_forest_regression.pkl']"
      ]
     },
     "execution_count": 64,
     "metadata": {},
     "output_type": "execute_result"
    }
   ],
   "source": [
    "joblib.dump(rf_reg, 'random_forest_regression.pkl')"
   ]
  },
  {
   "cell_type": "code",
   "execution_count": 65,
   "metadata": {},
   "outputs": [],
   "source": [
    "rf_y_pred = rf_reg.predict(X_test)"
   ]
  },
  {
   "cell_type": "code",
   "execution_count": 67,
   "metadata": {},
   "outputs": [
    {
     "name": "stdout",
     "output_type": "stream",
     "text": [
      "Mean absolute error: \n",
      "15.028302732\n",
      "Median absolute error: \n",
      "7.9\n",
      "Root mean squared error: \n",
      "36.3866934184\n",
      "r2 score: \n",
      "0.104485792062\n"
     ]
    }
   ],
   "source": [
    "score_regression(rf_y_pred)"
   ]
  },
  {
   "cell_type": "markdown",
   "metadata": {},
   "source": [
    "Not significantly better or worse."
   ]
  },
  {
   "cell_type": "code",
   "execution_count": 30,
   "metadata": {},
   "outputs": [],
   "source": [
    "from sklearn.ensemble import GradientBoostingRegressor"
   ]
  },
  {
   "cell_type": "code",
   "execution_count": 70,
   "metadata": {},
   "outputs": [],
   "source": [
    "gb_reg = GradientBoostingRegressor()"
   ]
  },
  {
   "cell_type": "code",
   "execution_count": 71,
   "metadata": {},
   "outputs": [
    {
     "data": {
      "text/plain": [
       "GradientBoostingRegressor(alpha=0.9, criterion='friedman_mse', init=None,\n",
       "             learning_rate=0.1, loss='ls', max_depth=3, max_features=None,\n",
       "             max_leaf_nodes=None, min_impurity_split=1e-07,\n",
       "             min_samples_leaf=1, min_samples_split=2,\n",
       "             min_weight_fraction_leaf=0.0, n_estimators=100,\n",
       "             presort='auto', random_state=None, subsample=1.0, verbose=0,\n",
       "             warm_start=False)"
      ]
     },
     "execution_count": 71,
     "metadata": {},
     "output_type": "execute_result"
    }
   ],
   "source": [
    "gb_reg.fit(X_train, y_train)"
   ]
  },
  {
   "cell_type": "code",
   "execution_count": 72,
   "metadata": {},
   "outputs": [
    {
     "data": {
      "text/plain": [
       "['gradient_boosting_regression.pkl']"
      ]
     },
     "execution_count": 72,
     "metadata": {},
     "output_type": "execute_result"
    }
   ],
   "source": [
    "joblib.dump(gb_reg, 'gradient_boosting_regression.pkl')"
   ]
  },
  {
   "cell_type": "code",
   "execution_count": 74,
   "metadata": {},
   "outputs": [],
   "source": [
    "gb_y_pred = gb_reg.predict(X_test.toarray())"
   ]
  },
  {
   "cell_type": "code",
   "execution_count": 75,
   "metadata": {},
   "outputs": [
    {
     "name": "stdout",
     "output_type": "stream",
     "text": [
      "Mean absolute error: \n",
      "17.4237326213\n",
      "Median absolute error: \n",
      "12.8720900322\n",
      "Root mean squared error: \n",
      "35.5121429824\n",
      "r2 score: \n",
      "0.147015658608\n"
     ]
    }
   ],
   "source": [
    "score_regression(gb_y_pred)"
   ]
  },
  {
   "cell_type": "markdown",
   "metadata": {},
   "source": [
    "We might also be interest in comparing test data metrics with train data metrics, to see if the root mean squared error (RMSE) is significantly different."
   ]
  },
  {
   "cell_type": "code",
   "execution_count": 77,
   "metadata": {},
   "outputs": [],
   "source": [
    "rf_y_train_pred = rf_reg.predict(X_train)"
   ]
  },
  {
   "cell_type": "code",
   "execution_count": 81,
   "metadata": {},
   "outputs": [
    {
     "name": "stdout",
     "output_type": "stream",
     "text": [
      "Mean absolute error: \n",
      "5.88553257334\n",
      "Median absolute error: \n",
      "2.8\n",
      "Root mean squared error: \n",
      "15.4093221145\n",
      "r2 score: \n",
      "0.866859434711\n"
     ]
    }
   ],
   "source": [
    "score_regression(rf_y_train_pred, y_test=y_train)"
   ]
  },
  {
   "cell_type": "markdown",
   "metadata": {},
   "source": [
    "It looks like the models could probably be tuned more to better fit the training data."
   ]
  },
  {
   "cell_type": "markdown",
   "metadata": {},
   "source": [
    "Note: Given more time, we could add gridsearch to the regression models to find the best parameters, and cross-validation for more robust metric assessment. We could also try other vectorizers, such as the hashing vectorizer or tfidf, for comparison."
   ]
  },
  {
   "cell_type": "markdown",
   "metadata": {},
   "source": [
    "### Classification"
   ]
  },
  {
   "cell_type": "markdown",
   "metadata": {},
   "source": [
    "Classification: Predict whether a wine costs more than 42 dollars only using the “description column”."
   ]
  },
  {
   "cell_type": "code",
   "execution_count": 25,
   "metadata": {},
   "outputs": [],
   "source": [
    "from sklearn.metrics import roc_auc_score, roc_curve\n",
    "from sklearn.metrics import accuracy_score, classification_report"
   ]
  },
  {
   "cell_type": "code",
   "execution_count": 26,
   "metadata": {},
   "outputs": [],
   "source": [
    "# Plot AUC curve\n",
    "def plot_auc(y_pred, label='AUC: '):\n",
    "    fpr, tpr, _ = roc_curve(y_test, y_pred)\n",
    "    auc = roc_auc_score(y_test, y_pred)\n",
    "    plt.plot(fpr, tpr, label=label + auc)"
   ]
  },
  {
   "cell_type": "code",
   "execution_count": 26,
   "metadata": {},
   "outputs": [],
   "source": [
    "def score_classifier(y_pred):\n",
    "    print('Accuracy: ')\n",
    "    print(accuracy_score(y_test, y_pred))\n",
    "    \n",
    "    print('\\nAUC Score: ')\n",
    "    print(roc_auc_score(y_test, y_pred))\n",
    "    \n",
    "    print('\\nClassification report: ')\n",
    "    print(classification_report(y_test, y_pred))\n",
    "    "
   ]
  },
  {
   "cell_type": "markdown",
   "metadata": {},
   "source": [
    "For the sake of time, we'll just use 3 techniques, in order of complexity. "
   ]
  },
  {
   "cell_type": "code",
   "execution_count": 27,
   "metadata": {},
   "outputs": [],
   "source": [
    "y_clf = np.where(y > 42, 1, 0)"
   ]
  },
  {
   "cell_type": "code",
   "execution_count": 28,
   "metadata": {},
   "outputs": [
    {
     "data": {
      "text/plain": [
       "29703"
      ]
     },
     "execution_count": 28,
     "metadata": {},
     "output_type": "execute_result"
    }
   ],
   "source": [
    "sum(y_clf)"
   ]
  },
  {
   "cell_type": "code",
   "execution_count": 29,
   "metadata": {},
   "outputs": [],
   "source": [
    "X_train, X_test, y_train, y_test = train_test_split(X_counts, y_clf, test_size=0.33, random_state=42)"
   ]
  },
  {
   "cell_type": "code",
   "execution_count": 166,
   "metadata": {},
   "outputs": [],
   "source": [
    "from sklearn.naive_bayes import GaussianNB"
   ]
  },
  {
   "cell_type": "code",
   "execution_count": 167,
   "metadata": {},
   "outputs": [],
   "source": [
    "nb_clf = GaussianNB()"
   ]
  },
  {
   "cell_type": "code",
   "execution_count": 168,
   "metadata": {},
   "outputs": [
    {
     "data": {
      "text/plain": [
       "GaussianNB(priors=None)"
      ]
     },
     "execution_count": 168,
     "metadata": {},
     "output_type": "execute_result"
    }
   ],
   "source": [
    "nb_clf.fit(X_train.toarray(), y_train)"
   ]
  },
  {
   "cell_type": "code",
   "execution_count": 169,
   "metadata": {},
   "outputs": [
    {
     "data": {
      "text/plain": [
       "['naive_bayes_classifier.pkl']"
      ]
     },
     "execution_count": 169,
     "metadata": {},
     "output_type": "execute_result"
    }
   ],
   "source": [
    "joblib.dump(nb_clf, 'naive_bayes_classifier.pkl')"
   ]
  },
  {
   "cell_type": "code",
   "execution_count": 32,
   "metadata": {},
   "outputs": [],
   "source": [
    "nb_clf = joblib.load('naive_bayes_classifier.pkl')"
   ]
  },
  {
   "cell_type": "code",
   "execution_count": 33,
   "metadata": {},
   "outputs": [],
   "source": [
    "nb_y_pred = nb_clf.predict(X_test.toarray())"
   ]
  },
  {
   "cell_type": "code",
   "execution_count": 34,
   "metadata": {},
   "outputs": [
    {
     "name": "stdout",
     "output_type": "stream",
     "text": [
      "Accuracy: \n",
      "0.373102549972\n",
      "\n",
      "AUC Score: \n",
      "0.550811625686\n",
      "\n",
      "Classification report: \n",
      "             precision    recall  f1-score   support\n",
      "\n",
      "          0       0.86      0.20      0.33     30205\n",
      "          1       0.27      0.90      0.41      9717\n",
      "\n",
      "avg / total       0.72      0.37      0.35     39922\n",
      "\n"
     ]
    }
   ],
   "source": [
    "score_classifier(nb_y_pred)"
   ]
  },
  {
   "cell_type": "markdown",
   "metadata": {},
   "source": [
    "Honestly... pretty bad performance."
   ]
  },
  {
   "cell_type": "markdown",
   "metadata": {},
   "source": [
    "Note: \n",
    "- Precision: true positive / (true positive + false positive). Ability to not label a negative sample as positive. aka you want to feel good about predicted positives.\n",
    "- Recall: true positive / (true positive + false negative). Ability to find all positive samples. \n",
    "- F1 score: weighted average of precision and recall."
   ]
  },
  {
   "cell_type": "code",
   "execution_count": 47,
   "metadata": {},
   "outputs": [],
   "source": [
    "from sklearn.ensemble import RandomForestClassifier"
   ]
  },
  {
   "cell_type": "code",
   "execution_count": 48,
   "metadata": {},
   "outputs": [],
   "source": [
    "rf_clf = RandomForestClassifier()"
   ]
  },
  {
   "cell_type": "code",
   "execution_count": 55,
   "metadata": {},
   "outputs": [
    {
     "data": {
      "text/plain": [
       "RandomForestClassifier(bootstrap=True, class_weight=None, criterion='gini',\n",
       "            max_depth=None, max_features='auto', max_leaf_nodes=None,\n",
       "            min_impurity_split=1e-07, min_samples_leaf=1,\n",
       "            min_samples_split=2, min_weight_fraction_leaf=0.0,\n",
       "            n_estimators=10, n_jobs=1, oob_score=False, random_state=None,\n",
       "            verbose=0, warm_start=False)"
      ]
     },
     "execution_count": 55,
     "metadata": {},
     "output_type": "execute_result"
    }
   ],
   "source": [
    "rf_clf.fit(X_train, y_train)"
   ]
  },
  {
   "cell_type": "code",
   "execution_count": 56,
   "metadata": {},
   "outputs": [
    {
     "data": {
      "text/plain": [
       "['random_forest_classifier.pkl']"
      ]
     },
     "execution_count": 56,
     "metadata": {},
     "output_type": "execute_result"
    }
   ],
   "source": [
    "joblib.dump(rf_clf, 'random_forest_classifier.pkl')"
   ]
  },
  {
   "cell_type": "code",
   "execution_count": 57,
   "metadata": {},
   "outputs": [],
   "source": [
    "rf_y_pred = rf_clf.predict(X_test)"
   ]
  },
  {
   "cell_type": "code",
   "execution_count": 58,
   "metadata": {},
   "outputs": [
    {
     "name": "stdout",
     "output_type": "stream",
     "text": [
      "Accuracy: \n",
      "0.79968438455\n",
      "\n",
      "AUC Score: \n",
      "0.610947092913\n",
      "\n",
      "Classification report: \n",
      "             precision    recall  f1-score   support\n",
      "\n",
      "          0       0.80      0.98      0.88     30205\n",
      "          1       0.79      0.24      0.37      9717\n",
      "\n",
      "avg / total       0.80      0.80      0.76     39922\n",
      "\n"
     ]
    }
   ],
   "source": [
    "score_classifier(rf_y_pred)"
   ]
  },
  {
   "cell_type": "markdown",
   "metadata": {},
   "source": [
    "Definitely better! But not amazing. AUC of 61% is ... okay. Useable."
   ]
  },
  {
   "cell_type": "code",
   "execution_count": 31,
   "metadata": {},
   "outputs": [],
   "source": [
    "from sklearn.neural_network import MLPClassifier"
   ]
  },
  {
   "cell_type": "code",
   "execution_count": 32,
   "metadata": {},
   "outputs": [],
   "source": [
    "nn_clf = MLPClassifier()"
   ]
  },
  {
   "cell_type": "code",
   "execution_count": 33,
   "metadata": {},
   "outputs": [
    {
     "name": "stderr",
     "output_type": "stream",
     "text": [
      "/Users/nancywong/miniconda3/lib/python3.6/site-packages/sklearn/neural_network/multilayer_perceptron.py:565: UserWarning: Training interrupted by user.\n",
      "  warnings.warn(\"Training interrupted by user.\")\n"
     ]
    },
    {
     "data": {
      "text/plain": [
       "MLPClassifier(activation='relu', alpha=0.0001, batch_size='auto', beta_1=0.9,\n",
       "       beta_2=0.999, early_stopping=False, epsilon=1e-08,\n",
       "       hidden_layer_sizes=(100,), learning_rate='constant',\n",
       "       learning_rate_init=0.001, max_iter=200, momentum=0.9,\n",
       "       nesterovs_momentum=True, power_t=0.5, random_state=None,\n",
       "       shuffle=True, solver='adam', tol=0.0001, validation_fraction=0.1,\n",
       "       verbose=False, warm_start=False)"
      ]
     },
     "execution_count": 33,
     "metadata": {},
     "output_type": "execute_result"
    }
   ],
   "source": [
    "nn_clf.fit(X_train, y_train)"
   ]
  },
  {
   "cell_type": "code",
   "execution_count": 34,
   "metadata": {},
   "outputs": [
    {
     "data": {
      "text/plain": [
       "['multilayer_perceptron_classifier.pkl']"
      ]
     },
     "execution_count": 34,
     "metadata": {},
     "output_type": "execute_result"
    }
   ],
   "source": [
    "joblib.dump(nn_clf, 'multilayer_perceptron_classifier.pkl')"
   ]
  },
  {
   "cell_type": "code",
   "execution_count": 35,
   "metadata": {},
   "outputs": [],
   "source": [
    "nn_y_pred = nn_clf.predict(X_test)"
   ]
  },
  {
   "cell_type": "code",
   "execution_count": 36,
   "metadata": {},
   "outputs": [
    {
     "name": "stdout",
     "output_type": "stream",
     "text": [
      "Accuracy: \n",
      "0.835654526326\n",
      "\n",
      "AUC Score: \n",
      "0.751467389565\n",
      "\n",
      "Classification report: \n",
      "             precision    recall  f1-score   support\n",
      "\n",
      "          0       0.87      0.92      0.89     30205\n",
      "          1       0.69      0.59      0.64      9717\n",
      "\n",
      "avg / total       0.83      0.84      0.83     39922\n",
      "\n"
     ]
    }
   ],
   "source": [
    "score_classifier(nn_y_pred)"
   ]
  },
  {
   "cell_type": "markdown",
   "metadata": {},
   "source": [
    "I actually interrupted the kernel because this was taking a while, but really the problem might just be my computer... Anyway we get pretty good accuracy and AUC, most promising so far. More training for the neural network likely would get us even better results! May come back and retrain if I have time."
   ]
  },
  {
   "cell_type": "markdown",
   "metadata": {},
   "source": [
    "## Modeling without Description"
   ]
  },
  {
   "cell_type": "markdown",
   "metadata": {},
   "source": [
    "### Prepare data"
   ]
  },
  {
   "cell_type": "code",
   "execution_count": 51,
   "metadata": {},
   "outputs": [],
   "source": [
    "wines_nodesc = wines.dropna(inplace=False)"
   ]
  },
  {
   "cell_type": "code",
   "execution_count": 52,
   "metadata": {},
   "outputs": [],
   "source": [
    "wines_nodesc = wines_nodesc.drop(['description'], axis=1, inplace=False)"
   ]
  },
  {
   "cell_type": "code",
   "execution_count": 53,
   "metadata": {
    "scrolled": true
   },
   "outputs": [
    {
     "data": {
      "text/html": [
       "<div>\n",
       "<style>\n",
       "    .dataframe thead tr:only-child th {\n",
       "        text-align: right;\n",
       "    }\n",
       "\n",
       "    .dataframe thead th {\n",
       "        text-align: left;\n",
       "    }\n",
       "\n",
       "    .dataframe tbody tr th {\n",
       "        vertical-align: top;\n",
       "    }\n",
       "</style>\n",
       "<table border=\"1\" class=\"dataframe\">\n",
       "  <thead>\n",
       "    <tr style=\"text-align: right;\">\n",
       "      <th></th>\n",
       "      <th>country</th>\n",
       "      <th>designation</th>\n",
       "      <th>points</th>\n",
       "      <th>price</th>\n",
       "      <th>province</th>\n",
       "      <th>region_1</th>\n",
       "      <th>region_2</th>\n",
       "      <th>taster_name</th>\n",
       "      <th>title</th>\n",
       "      <th>variety</th>\n",
       "      <th>winery</th>\n",
       "      <th>contains_word_value</th>\n",
       "      <th>price_over_42</th>\n",
       "      <th>year</th>\n",
       "    </tr>\n",
       "  </thead>\n",
       "  <tbody>\n",
       "    <tr>\n",
       "      <th>4</th>\n",
       "      <td>US</td>\n",
       "      <td>Vintner's Reserve Wild Child Block</td>\n",
       "      <td>87</td>\n",
       "      <td>65.0</td>\n",
       "      <td>Oregon</td>\n",
       "      <td>Willamette Valley</td>\n",
       "      <td>Willamette Valley</td>\n",
       "      <td>Paul Gregutt</td>\n",
       "      <td>Sweet Cheeks 2012 Vintner's Reserve Wild Child...</td>\n",
       "      <td>Pinot Noir</td>\n",
       "      <td>Sweet Cheeks</td>\n",
       "      <td>False</td>\n",
       "      <td>1</td>\n",
       "      <td>2012</td>\n",
       "    </tr>\n",
       "    <tr>\n",
       "      <th>10</th>\n",
       "      <td>US</td>\n",
       "      <td>Mountain Cuvée</td>\n",
       "      <td>87</td>\n",
       "      <td>19.0</td>\n",
       "      <td>California</td>\n",
       "      <td>Napa Valley</td>\n",
       "      <td>Napa</td>\n",
       "      <td>Virginie Boone</td>\n",
       "      <td>Kirkland Signature 2011 Mountain Cuvée Caberne...</td>\n",
       "      <td>Cabernet Sauvignon</td>\n",
       "      <td>Kirkland Signature</td>\n",
       "      <td>True</td>\n",
       "      <td>0</td>\n",
       "      <td>2011</td>\n",
       "    </tr>\n",
       "    <tr>\n",
       "      <th>23</th>\n",
       "      <td>US</td>\n",
       "      <td>Signature Selection</td>\n",
       "      <td>87</td>\n",
       "      <td>22.0</td>\n",
       "      <td>California</td>\n",
       "      <td>Paso Robles</td>\n",
       "      <td>Central Coast</td>\n",
       "      <td>Matt Kettmann</td>\n",
       "      <td>Bianchi 2011 Signature Selection Merlot (Paso ...</td>\n",
       "      <td>Merlot</td>\n",
       "      <td>Bianchi</td>\n",
       "      <td>False</td>\n",
       "      <td>0</td>\n",
       "      <td>2011</td>\n",
       "    </tr>\n",
       "    <tr>\n",
       "      <th>25</th>\n",
       "      <td>US</td>\n",
       "      <td>King Ridge Vineyard</td>\n",
       "      <td>87</td>\n",
       "      <td>69.0</td>\n",
       "      <td>California</td>\n",
       "      <td>Sonoma Coast</td>\n",
       "      <td>Sonoma</td>\n",
       "      <td>Virginie Boone</td>\n",
       "      <td>Castello di Amorosa 2011 King Ridge Vineyard P...</td>\n",
       "      <td>Pinot Noir</td>\n",
       "      <td>Castello di Amorosa</td>\n",
       "      <td>False</td>\n",
       "      <td>1</td>\n",
       "      <td>2011</td>\n",
       "    </tr>\n",
       "    <tr>\n",
       "      <th>35</th>\n",
       "      <td>US</td>\n",
       "      <td>Hyland</td>\n",
       "      <td>86</td>\n",
       "      <td>50.0</td>\n",
       "      <td>Oregon</td>\n",
       "      <td>McMinnville</td>\n",
       "      <td>Willamette Valley</td>\n",
       "      <td>Paul Gregutt</td>\n",
       "      <td>Erath 2010 Hyland Pinot Noir (McMinnville)</td>\n",
       "      <td>Pinot Noir</td>\n",
       "      <td>Erath</td>\n",
       "      <td>False</td>\n",
       "      <td>1</td>\n",
       "      <td>2010</td>\n",
       "    </tr>\n",
       "  </tbody>\n",
       "</table>\n",
       "</div>"
      ],
      "text/plain": [
       "   country                         designation  points  price    province  \\\n",
       "4       US  Vintner's Reserve Wild Child Block      87   65.0      Oregon   \n",
       "10      US                      Mountain Cuvée      87   19.0  California   \n",
       "23      US                 Signature Selection      87   22.0  California   \n",
       "25      US                 King Ridge Vineyard      87   69.0  California   \n",
       "35      US                              Hyland      86   50.0      Oregon   \n",
       "\n",
       "             region_1           region_2     taster_name  \\\n",
       "4   Willamette Valley  Willamette Valley    Paul Gregutt   \n",
       "10        Napa Valley               Napa  Virginie Boone   \n",
       "23        Paso Robles      Central Coast   Matt Kettmann   \n",
       "25       Sonoma Coast             Sonoma  Virginie Boone   \n",
       "35        McMinnville  Willamette Valley    Paul Gregutt   \n",
       "\n",
       "                                                title             variety  \\\n",
       "4   Sweet Cheeks 2012 Vintner's Reserve Wild Child...          Pinot Noir   \n",
       "10  Kirkland Signature 2011 Mountain Cuvée Caberne...  Cabernet Sauvignon   \n",
       "23  Bianchi 2011 Signature Selection Merlot (Paso ...              Merlot   \n",
       "25  Castello di Amorosa 2011 King Ridge Vineyard P...          Pinot Noir   \n",
       "35         Erath 2010 Hyland Pinot Noir (McMinnville)          Pinot Noir   \n",
       "\n",
       "                 winery  contains_word_value  price_over_42  year  \n",
       "4          Sweet Cheeks                False              1  2012  \n",
       "10   Kirkland Signature                 True              0  2011  \n",
       "23              Bianchi                False              0  2011  \n",
       "25  Castello di Amorosa                False              1  2011  \n",
       "35                Erath                False              1  2010  "
      ]
     },
     "execution_count": 53,
     "metadata": {},
     "output_type": "execute_result"
    }
   ],
   "source": [
    "wines_nodesc.head()"
   ]
  },
  {
   "cell_type": "markdown",
   "metadata": {},
   "source": [
    "#### Categorical Encoding"
   ]
  },
  {
   "cell_type": "code",
   "execution_count": 54,
   "metadata": {
    "scrolled": true
   },
   "outputs": [
    {
     "data": {
      "text/plain": [
       "country                category\n",
       "designation            category\n",
       "points                    int64\n",
       "price                   float64\n",
       "province               category\n",
       "region_1               category\n",
       "region_2               category\n",
       "taster_name            category\n",
       "title                    object\n",
       "variety                category\n",
       "winery                 category\n",
       "contains_word_value        bool\n",
       "price_over_42             int64\n",
       "year                     object\n",
       "dtype: object"
      ]
     },
     "execution_count": 54,
     "metadata": {},
     "output_type": "execute_result"
    }
   ],
   "source": [
    "wines_nodesc.dtypes"
   ]
  },
  {
   "cell_type": "code",
   "execution_count": 60,
   "metadata": {},
   "outputs": [],
   "source": [
    "wines_nodesc['year'] = wines_nodesc['year'].astype('int')"
   ]
  },
  {
   "cell_type": "code",
   "execution_count": 61,
   "metadata": {},
   "outputs": [
    {
     "name": "stdout",
     "output_type": "stream",
     "text": [
      "['country', 'designation', 'province', 'region_1', 'region_2', 'taster_name', 'variety', 'winery']\n"
     ]
    }
   ],
   "source": [
    "print(categorical_cols)"
   ]
  },
  {
   "cell_type": "code",
   "execution_count": 62,
   "metadata": {},
   "outputs": [],
   "source": [
    "from sklearn.preprocessing import LabelEncoder"
   ]
  },
  {
   "cell_type": "code",
   "execution_count": 63,
   "metadata": {},
   "outputs": [],
   "source": [
    "label_encoder_map = {}"
   ]
  },
  {
   "cell_type": "code",
   "execution_count": 65,
   "metadata": {},
   "outputs": [],
   "source": [
    "for category in categorical_cols:\n",
    "    le = LabelEncoder()\n",
    "    le.fit(wines_nodesc[category])\n",
    "    \n",
    "    # Add to our dictionary so we can inverse transform if needed\n",
    "    label_encoder_map[category] = le\n",
    "    \n",
    "    # Encode categories\n",
    "    wines_nodesc[category] = le.transform(wines_nodesc[category])"
   ]
  },
  {
   "cell_type": "code",
   "execution_count": 66,
   "metadata": {},
   "outputs": [
    {
     "data": {
      "text/html": [
       "<div>\n",
       "<style>\n",
       "    .dataframe thead tr:only-child th {\n",
       "        text-align: right;\n",
       "    }\n",
       "\n",
       "    .dataframe thead th {\n",
       "        text-align: left;\n",
       "    }\n",
       "\n",
       "    .dataframe tbody tr th {\n",
       "        vertical-align: top;\n",
       "    }\n",
       "</style>\n",
       "<table border=\"1\" class=\"dataframe\">\n",
       "  <thead>\n",
       "    <tr style=\"text-align: right;\">\n",
       "      <th></th>\n",
       "      <th>country</th>\n",
       "      <th>designation</th>\n",
       "      <th>points</th>\n",
       "      <th>price</th>\n",
       "      <th>province</th>\n",
       "      <th>region_1</th>\n",
       "      <th>region_2</th>\n",
       "      <th>taster_name</th>\n",
       "      <th>title</th>\n",
       "      <th>variety</th>\n",
       "      <th>winery</th>\n",
       "      <th>contains_word_value</th>\n",
       "      <th>price_over_42</th>\n",
       "      <th>year</th>\n",
       "    </tr>\n",
       "  </thead>\n",
       "  <tbody>\n",
       "    <tr>\n",
       "      <th>4</th>\n",
       "      <td>0</td>\n",
       "      <td>9267</td>\n",
       "      <td>87</td>\n",
       "      <td>65.0</td>\n",
       "      <td>2</td>\n",
       "      <td>165</td>\n",
       "      <td>16</td>\n",
       "      <td>6</td>\n",
       "      <td>Sweet Cheeks 2012 Vintner's Reserve Wild Child...</td>\n",
       "      <td>119</td>\n",
       "      <td>2396</td>\n",
       "      <td>False</td>\n",
       "      <td>1</td>\n",
       "      <td>2012</td>\n",
       "    </tr>\n",
       "    <tr>\n",
       "      <th>10</th>\n",
       "      <td>0</td>\n",
       "      <td>5536</td>\n",
       "      <td>87</td>\n",
       "      <td>19.0</td>\n",
       "      <td>0</td>\n",
       "      <td>82</td>\n",
       "      <td>6</td>\n",
       "      <td>10</td>\n",
       "      <td>Kirkland Signature 2011 Mountain Cuvée Caberne...</td>\n",
       "      <td>21</td>\n",
       "      <td>1361</td>\n",
       "      <td>True</td>\n",
       "      <td>0</td>\n",
       "      <td>2011</td>\n",
       "    </tr>\n",
       "    <tr>\n",
       "      <th>23</th>\n",
       "      <td>0</td>\n",
       "      <td>7655</td>\n",
       "      <td>87</td>\n",
       "      <td>22.0</td>\n",
       "      <td>0</td>\n",
       "      <td>94</td>\n",
       "      <td>1</td>\n",
       "      <td>4</td>\n",
       "      <td>Bianchi 2011 Signature Selection Merlot (Paso ...</td>\n",
       "      <td>81</td>\n",
       "      <td>279</td>\n",
       "      <td>False</td>\n",
       "      <td>0</td>\n",
       "      <td>2011</td>\n",
       "    </tr>\n",
       "    <tr>\n",
       "      <th>25</th>\n",
       "      <td>0</td>\n",
       "      <td>4352</td>\n",
       "      <td>87</td>\n",
       "      <td>69.0</td>\n",
       "      <td>0</td>\n",
       "      <td>133</td>\n",
       "      <td>12</td>\n",
       "      <td>10</td>\n",
       "      <td>Castello di Amorosa 2011 King Ridge Vineyard P...</td>\n",
       "      <td>119</td>\n",
       "      <td>465</td>\n",
       "      <td>False</td>\n",
       "      <td>1</td>\n",
       "      <td>2011</td>\n",
       "    </tr>\n",
       "    <tr>\n",
       "      <th>35</th>\n",
       "      <td>0</td>\n",
       "      <td>3967</td>\n",
       "      <td>86</td>\n",
       "      <td>50.0</td>\n",
       "      <td>2</td>\n",
       "      <td>67</td>\n",
       "      <td>16</td>\n",
       "      <td>6</td>\n",
       "      <td>Erath 2010 Hyland Pinot Noir (McMinnville)</td>\n",
       "      <td>119</td>\n",
       "      <td>856</td>\n",
       "      <td>False</td>\n",
       "      <td>1</td>\n",
       "      <td>2010</td>\n",
       "    </tr>\n",
       "  </tbody>\n",
       "</table>\n",
       "</div>"
      ],
      "text/plain": [
       "    country  designation  points  price  province  region_1  region_2  \\\n",
       "4         0         9267      87   65.0         2       165        16   \n",
       "10        0         5536      87   19.0         0        82         6   \n",
       "23        0         7655      87   22.0         0        94         1   \n",
       "25        0         4352      87   69.0         0       133        12   \n",
       "35        0         3967      86   50.0         2        67        16   \n",
       "\n",
       "    taster_name                                              title  variety  \\\n",
       "4             6  Sweet Cheeks 2012 Vintner's Reserve Wild Child...      119   \n",
       "10           10  Kirkland Signature 2011 Mountain Cuvée Caberne...       21   \n",
       "23            4  Bianchi 2011 Signature Selection Merlot (Paso ...       81   \n",
       "25           10  Castello di Amorosa 2011 King Ridge Vineyard P...      119   \n",
       "35            6         Erath 2010 Hyland Pinot Noir (McMinnville)      119   \n",
       "\n",
       "    winery  contains_word_value  price_over_42  year  \n",
       "4     2396                False              1  2012  \n",
       "10    1361                 True              0  2011  \n",
       "23     279                False              0  2011  \n",
       "25     465                False              1  2011  \n",
       "35     856                False              1  2010  "
      ]
     },
     "execution_count": 66,
     "metadata": {},
     "output_type": "execute_result"
    }
   ],
   "source": [
    "wines_nodesc.head()"
   ]
  },
  {
   "cell_type": "markdown",
   "metadata": {},
   "source": [
    "## Regression"
   ]
  },
  {
   "cell_type": "code",
   "execution_count": 67,
   "metadata": {},
   "outputs": [],
   "source": [
    "y = wines_nodesc['price']"
   ]
  },
  {
   "cell_type": "code",
   "execution_count": 76,
   "metadata": {},
   "outputs": [],
   "source": [
    "X = wines_nodesc.drop(['price', 'price_over_42','title'], axis=1, inplace=False)"
   ]
  },
  {
   "cell_type": "code",
   "execution_count": 77,
   "metadata": {},
   "outputs": [],
   "source": [
    "X_train, X_test, y_train, y_test = train_test_split(X, y, test_size=0.33, random_state=42)"
   ]
  },
  {
   "cell_type": "code",
   "execution_count": 78,
   "metadata": {},
   "outputs": [],
   "source": [
    "from sklearn.linear_model import LogisticRegression"
   ]
  },
  {
   "cell_type": "code",
   "execution_count": 79,
   "metadata": {},
   "outputs": [],
   "source": [
    "from sklearn.externals import joblib"
   ]
  },
  {
   "cell_type": "code",
   "execution_count": 80,
   "metadata": {},
   "outputs": [],
   "source": [
    "log_reg = LogisticRegression()"
   ]
  },
  {
   "cell_type": "code",
   "execution_count": 81,
   "metadata": {},
   "outputs": [
    {
     "data": {
      "text/plain": [
       "LogisticRegression(C=1.0, class_weight=None, dual=False, fit_intercept=True,\n",
       "          intercept_scaling=1, max_iter=100, multi_class='ovr', n_jobs=1,\n",
       "          penalty='l2', random_state=None, solver='liblinear', tol=0.0001,\n",
       "          verbose=0, warm_start=False)"
      ]
     },
     "execution_count": 81,
     "metadata": {},
     "output_type": "execute_result"
    }
   ],
   "source": [
    "log_reg.fit(X_train, y_train)"
   ]
  },
  {
   "cell_type": "code",
   "execution_count": 82,
   "metadata": {},
   "outputs": [
    {
     "data": {
      "text/plain": [
       "['logistic_regression_nodesc.pkl']"
      ]
     },
     "execution_count": 82,
     "metadata": {},
     "output_type": "execute_result"
    }
   ],
   "source": [
    "joblib.dump(log_reg, 'logistic_regression_nodesc.pkl')"
   ]
  },
  {
   "cell_type": "code",
   "execution_count": 83,
   "metadata": {},
   "outputs": [],
   "source": [
    "log_reg_y_pred = log_reg.predict(X_test)"
   ]
  },
  {
   "cell_type": "code",
   "execution_count": 84,
   "metadata": {
    "scrolled": true
   },
   "outputs": [
    {
     "name": "stdout",
     "output_type": "stream",
     "text": [
      "Mean absolute error: \n",
      "15.8502050231\n",
      "Median absolute error: \n",
      "10.0\n",
      "Root mean squared error: \n",
      "45.8483798672\n",
      "r2 score: \n",
      "-2.39644083147\n"
     ]
    }
   ],
   "source": [
    "score_regression(log_reg_y_pred, y_test=y_test)"
   ]
  },
  {
   "cell_type": "code",
   "execution_count": 94,
   "metadata": {},
   "outputs": [],
   "source": [
    "from sklearn.ensemble import RandomForestRegressor"
   ]
  },
  {
   "cell_type": "code",
   "execution_count": 95,
   "metadata": {},
   "outputs": [],
   "source": [
    "rf_reg = RandomForestRegressor()"
   ]
  },
  {
   "cell_type": "code",
   "execution_count": 96,
   "metadata": {},
   "outputs": [
    {
     "data": {
      "text/plain": [
       "RandomForestRegressor(bootstrap=True, criterion='mse', max_depth=None,\n",
       "           max_features='auto', max_leaf_nodes=None,\n",
       "           min_impurity_split=1e-07, min_samples_leaf=1,\n",
       "           min_samples_split=2, min_weight_fraction_leaf=0.0,\n",
       "           n_estimators=10, n_jobs=1, oob_score=False, random_state=None,\n",
       "           verbose=0, warm_start=False)"
      ]
     },
     "execution_count": 96,
     "metadata": {},
     "output_type": "execute_result"
    }
   ],
   "source": [
    "rf_reg.fit(X_train, y_train)"
   ]
  },
  {
   "cell_type": "code",
   "execution_count": 97,
   "metadata": {},
   "outputs": [
    {
     "data": {
      "text/plain": [
       "['random_forest_regression_nodesc.pkl']"
      ]
     },
     "execution_count": 97,
     "metadata": {},
     "output_type": "execute_result"
    }
   ],
   "source": [
    "joblib.dump(rf_reg, 'random_forest_regression_nodesc.pkl')"
   ]
  },
  {
   "cell_type": "code",
   "execution_count": 98,
   "metadata": {},
   "outputs": [],
   "source": [
    "rf_y_pred = rf_reg.predict(X_test)"
   ]
  },
  {
   "cell_type": "code",
   "execution_count": 99,
   "metadata": {},
   "outputs": [
    {
     "name": "stdout",
     "output_type": "stream",
     "text": [
      "Mean absolute error: \n",
      "10.096326243\n",
      "Median absolute error: \n",
      "6.4\n",
      "Root mean squared error: \n",
      "17.7781188198\n",
      "r2 score: \n",
      "0.489321381595\n"
     ]
    }
   ],
   "source": [
    "score_regression(rf_y_pred, y_test=y_test)"
   ]
  },
  {
   "cell_type": "code",
   "execution_count": 100,
   "metadata": {},
   "outputs": [],
   "source": [
    "from sklearn.ensemble import GradientBoostingRegressor"
   ]
  },
  {
   "cell_type": "code",
   "execution_count": 101,
   "metadata": {},
   "outputs": [],
   "source": [
    "gb_reg = GradientBoostingRegressor()"
   ]
  },
  {
   "cell_type": "code",
   "execution_count": 102,
   "metadata": {},
   "outputs": [
    {
     "data": {
      "text/plain": [
       "GradientBoostingRegressor(alpha=0.9, criterion='friedman_mse', init=None,\n",
       "             learning_rate=0.1, loss='ls', max_depth=3, max_features=None,\n",
       "             max_leaf_nodes=None, min_impurity_split=1e-07,\n",
       "             min_samples_leaf=1, min_samples_split=2,\n",
       "             min_weight_fraction_leaf=0.0, n_estimators=100,\n",
       "             presort='auto', random_state=None, subsample=1.0, verbose=0,\n",
       "             warm_start=False)"
      ]
     },
     "execution_count": 102,
     "metadata": {},
     "output_type": "execute_result"
    }
   ],
   "source": [
    "gb_reg.fit(X_train, y_train)"
   ]
  },
  {
   "cell_type": "code",
   "execution_count": 103,
   "metadata": {},
   "outputs": [
    {
     "data": {
      "text/plain": [
       "['gradient_boosting_regression_nodesc.pkl']"
      ]
     },
     "execution_count": 103,
     "metadata": {},
     "output_type": "execute_result"
    }
   ],
   "source": [
    "joblib.dump(gb_reg, 'gradient_boosting_regression_nodesc.pkl')"
   ]
  },
  {
   "cell_type": "code",
   "execution_count": 104,
   "metadata": {},
   "outputs": [],
   "source": [
    "gb_y_pred = gb_reg.predict(X_test)"
   ]
  },
  {
   "cell_type": "code",
   "execution_count": 105,
   "metadata": {},
   "outputs": [
    {
     "name": "stdout",
     "output_type": "stream",
     "text": [
      "Mean absolute error: \n",
      "11.4060635317\n",
      "Median absolute error: \n",
      "8.36202552835\n",
      "Root mean squared error: \n",
      "17.2687702707\n",
      "r2 score: \n",
      "0.51816439378\n"
     ]
    }
   ],
   "source": [
    "score_regression(gb_y_pred, y_test=y_test)"
   ]
  },
  {
   "cell_type": "markdown",
   "metadata": {},
   "source": [
    "We might also be interest in comparing test data metrics with train data metrics, to see if the root mean squared error (RMSE) is significantly different."
   ]
  },
  {
   "cell_type": "code",
   "execution_count": 106,
   "metadata": {},
   "outputs": [],
   "source": [
    "rf_y_train_pred = rf_reg.predict(X_train)"
   ]
  },
  {
   "cell_type": "code",
   "execution_count": 107,
   "metadata": {},
   "outputs": [
    {
     "name": "stdout",
     "output_type": "stream",
     "text": [
      "Mean absolute error: \n",
      "4.16418475974\n",
      "Median absolute error: \n",
      "2.2\n",
      "Root mean squared error: \n",
      "12.0681696879\n",
      "r2 score: \n",
      "0.845916827115\n"
     ]
    }
   ],
   "source": [
    "score_regression(rf_y_train_pred, y_test=y_train)"
   ]
  },
  {
   "cell_type": "markdown",
   "metadata": {},
   "source": [
    "Definitely better performance than the description-only regression models! Trained and made predictions much faster, as well. Random forest regression performs the best, followed by the gradient boosted regression."
   ]
  },
  {
   "cell_type": "markdown",
   "metadata": {},
   "source": [
    "As mentioned above, cross-validation would make these metrics more robust."
   ]
  },
  {
   "cell_type": "markdown",
   "metadata": {},
   "source": [
    "## Classification"
   ]
  },
  {
   "cell_type": "code",
   "execution_count": 131,
   "metadata": {},
   "outputs": [],
   "source": [
    "y = wines_nodesc['price_over_42']"
   ]
  },
  {
   "cell_type": "code",
   "execution_count": 132,
   "metadata": {},
   "outputs": [],
   "source": [
    "X = wines_nodesc.drop(['price', 'price_over_42', 'title'], axis=1, inplace=False)"
   ]
  },
  {
   "cell_type": "code",
   "execution_count": 133,
   "metadata": {},
   "outputs": [
    {
     "data": {
      "text/html": [
       "<div>\n",
       "<style>\n",
       "    .dataframe thead tr:only-child th {\n",
       "        text-align: right;\n",
       "    }\n",
       "\n",
       "    .dataframe thead th {\n",
       "        text-align: left;\n",
       "    }\n",
       "\n",
       "    .dataframe tbody tr th {\n",
       "        vertical-align: top;\n",
       "    }\n",
       "</style>\n",
       "<table border=\"1\" class=\"dataframe\">\n",
       "  <thead>\n",
       "    <tr style=\"text-align: right;\">\n",
       "      <th></th>\n",
       "      <th>country</th>\n",
       "      <th>designation</th>\n",
       "      <th>points</th>\n",
       "      <th>province</th>\n",
       "      <th>region_1</th>\n",
       "      <th>region_2</th>\n",
       "      <th>taster_name</th>\n",
       "      <th>variety</th>\n",
       "      <th>winery</th>\n",
       "      <th>contains_word_value</th>\n",
       "      <th>year</th>\n",
       "    </tr>\n",
       "  </thead>\n",
       "  <tbody>\n",
       "    <tr>\n",
       "      <th>4</th>\n",
       "      <td>0</td>\n",
       "      <td>9267</td>\n",
       "      <td>87</td>\n",
       "      <td>2</td>\n",
       "      <td>165</td>\n",
       "      <td>16</td>\n",
       "      <td>6</td>\n",
       "      <td>119</td>\n",
       "      <td>2396</td>\n",
       "      <td>False</td>\n",
       "      <td>2012</td>\n",
       "    </tr>\n",
       "    <tr>\n",
       "      <th>10</th>\n",
       "      <td>0</td>\n",
       "      <td>5536</td>\n",
       "      <td>87</td>\n",
       "      <td>0</td>\n",
       "      <td>82</td>\n",
       "      <td>6</td>\n",
       "      <td>10</td>\n",
       "      <td>21</td>\n",
       "      <td>1361</td>\n",
       "      <td>True</td>\n",
       "      <td>2011</td>\n",
       "    </tr>\n",
       "    <tr>\n",
       "      <th>23</th>\n",
       "      <td>0</td>\n",
       "      <td>7655</td>\n",
       "      <td>87</td>\n",
       "      <td>0</td>\n",
       "      <td>94</td>\n",
       "      <td>1</td>\n",
       "      <td>4</td>\n",
       "      <td>81</td>\n",
       "      <td>279</td>\n",
       "      <td>False</td>\n",
       "      <td>2011</td>\n",
       "    </tr>\n",
       "    <tr>\n",
       "      <th>25</th>\n",
       "      <td>0</td>\n",
       "      <td>4352</td>\n",
       "      <td>87</td>\n",
       "      <td>0</td>\n",
       "      <td>133</td>\n",
       "      <td>12</td>\n",
       "      <td>10</td>\n",
       "      <td>119</td>\n",
       "      <td>465</td>\n",
       "      <td>False</td>\n",
       "      <td>2011</td>\n",
       "    </tr>\n",
       "    <tr>\n",
       "      <th>35</th>\n",
       "      <td>0</td>\n",
       "      <td>3967</td>\n",
       "      <td>86</td>\n",
       "      <td>2</td>\n",
       "      <td>67</td>\n",
       "      <td>16</td>\n",
       "      <td>6</td>\n",
       "      <td>119</td>\n",
       "      <td>856</td>\n",
       "      <td>False</td>\n",
       "      <td>2010</td>\n",
       "    </tr>\n",
       "  </tbody>\n",
       "</table>\n",
       "</div>"
      ],
      "text/plain": [
       "    country  designation  points  province  region_1  region_2  taster_name  \\\n",
       "4         0         9267      87         2       165        16            6   \n",
       "10        0         5536      87         0        82         6           10   \n",
       "23        0         7655      87         0        94         1            4   \n",
       "25        0         4352      87         0       133        12           10   \n",
       "35        0         3967      86         2        67        16            6   \n",
       "\n",
       "    variety  winery  contains_word_value  year  \n",
       "4       119    2396                False  2012  \n",
       "10       21    1361                 True  2011  \n",
       "23       81     279                False  2011  \n",
       "25      119     465                False  2011  \n",
       "35      119     856                False  2010  "
      ]
     },
     "execution_count": 133,
     "metadata": {},
     "output_type": "execute_result"
    }
   ],
   "source": [
    "X.head()"
   ]
  },
  {
   "cell_type": "code",
   "execution_count": 134,
   "metadata": {},
   "outputs": [],
   "source": [
    "X_train, X_test, y_train, y_test = train_test_split(X, y, test_size=0.33, random_state=42)"
   ]
  },
  {
   "cell_type": "code",
   "execution_count": 135,
   "metadata": {},
   "outputs": [],
   "source": [
    "from sklearn.naive_bayes import GaussianNB"
   ]
  },
  {
   "cell_type": "code",
   "execution_count": 136,
   "metadata": {},
   "outputs": [],
   "source": [
    "nb_clf = GaussianNB()"
   ]
  },
  {
   "cell_type": "code",
   "execution_count": 137,
   "metadata": {},
   "outputs": [
    {
     "data": {
      "text/plain": [
       "GaussianNB(priors=None)"
      ]
     },
     "execution_count": 137,
     "metadata": {},
     "output_type": "execute_result"
    }
   ],
   "source": [
    "nb_clf.fit(X_train, y_train)"
   ]
  },
  {
   "cell_type": "code",
   "execution_count": 138,
   "metadata": {},
   "outputs": [
    {
     "data": {
      "text/plain": [
       "['naive_bayes_classifier_nodesc.pkl']"
      ]
     },
     "execution_count": 138,
     "metadata": {},
     "output_type": "execute_result"
    }
   ],
   "source": [
    "joblib.dump(nb_clf, 'naive_bayes_classifier_nodesc.pkl')"
   ]
  },
  {
   "cell_type": "code",
   "execution_count": 139,
   "metadata": {},
   "outputs": [],
   "source": [
    "nb_y_pred = nb_clf.predict(X_test)"
   ]
  },
  {
   "cell_type": "code",
   "execution_count": 140,
   "metadata": {
    "scrolled": true
   },
   "outputs": [
    {
     "name": "stdout",
     "output_type": "stream",
     "text": [
      "Accuracy: \n",
      "0.735904664275\n",
      "\n",
      "AUC Score: \n",
      "0.722132508421\n",
      "\n",
      "Classification report: \n",
      "             precision    recall  f1-score   support\n",
      "\n",
      "          0       0.80      0.77      0.79      4968\n",
      "          1       0.63      0.67      0.65      2836\n",
      "\n",
      "avg / total       0.74      0.74      0.74      7804\n",
      "\n"
     ]
    }
   ],
   "source": [
    "score_classifier(nb_y_pred)"
   ]
  },
  {
   "cell_type": "markdown",
   "metadata": {},
   "source": [
    "Pretty decent accuracy and AUC."
   ]
  },
  {
   "cell_type": "markdown",
   "metadata": {},
   "source": [
    "Note: \n",
    "- Precision: true positive / (true positive + false positive). Ability to not label a negative sample as positive. aka you want to feel good about predicted positives.\n",
    "- Recall: true positive / (true positive + false negative). Ability to find all positive samples. \n",
    "- F1 score: weighted average of precision and recall."
   ]
  },
  {
   "cell_type": "code",
   "execution_count": 141,
   "metadata": {},
   "outputs": [],
   "source": [
    "from sklearn.ensemble import RandomForestClassifier"
   ]
  },
  {
   "cell_type": "code",
   "execution_count": 142,
   "metadata": {},
   "outputs": [],
   "source": [
    "rf_clf = RandomForestClassifier()"
   ]
  },
  {
   "cell_type": "code",
   "execution_count": 143,
   "metadata": {},
   "outputs": [
    {
     "data": {
      "text/plain": [
       "RandomForestClassifier(bootstrap=True, class_weight=None, criterion='gini',\n",
       "            max_depth=None, max_features='auto', max_leaf_nodes=None,\n",
       "            min_impurity_split=1e-07, min_samples_leaf=1,\n",
       "            min_samples_split=2, min_weight_fraction_leaf=0.0,\n",
       "            n_estimators=10, n_jobs=1, oob_score=False, random_state=None,\n",
       "            verbose=0, warm_start=False)"
      ]
     },
     "execution_count": 143,
     "metadata": {},
     "output_type": "execute_result"
    }
   ],
   "source": [
    "rf_clf.fit(X_train, y_train)"
   ]
  },
  {
   "cell_type": "code",
   "execution_count": 144,
   "metadata": {},
   "outputs": [
    {
     "data": {
      "text/plain": [
       "['random_forest_classifier_nodesc.pkl']"
      ]
     },
     "execution_count": 144,
     "metadata": {},
     "output_type": "execute_result"
    }
   ],
   "source": [
    "joblib.dump(rf_clf, 'random_forest_classifier_nodesc.pkl')"
   ]
  },
  {
   "cell_type": "code",
   "execution_count": 145,
   "metadata": {},
   "outputs": [],
   "source": [
    "rf_y_pred = rf_clf.predict(X_test)"
   ]
  },
  {
   "cell_type": "code",
   "execution_count": 146,
   "metadata": {},
   "outputs": [
    {
     "name": "stdout",
     "output_type": "stream",
     "text": [
      "Accuracy: \n",
      "0.833034341363\n",
      "\n",
      "AUC Score: \n",
      "0.809315869804\n",
      "\n",
      "Classification report: \n",
      "             precision    recall  f1-score   support\n",
      "\n",
      "          0       0.85      0.90      0.87      4968\n",
      "          1       0.80      0.72      0.76      2836\n",
      "\n",
      "avg / total       0.83      0.83      0.83      7804\n",
      "\n"
     ]
    }
   ],
   "source": [
    "score_classifier(rf_y_pred)"
   ]
  },
  {
   "cell_type": "markdown",
   "metadata": {},
   "source": [
    "Even better accuracy and AUC."
   ]
  },
  {
   "cell_type": "code",
   "execution_count": 147,
   "metadata": {},
   "outputs": [],
   "source": [
    "from sklearn.neural_network import MLPClassifier"
   ]
  },
  {
   "cell_type": "code",
   "execution_count": 148,
   "metadata": {},
   "outputs": [],
   "source": [
    "nn_clf = MLPClassifier()"
   ]
  },
  {
   "cell_type": "code",
   "execution_count": 149,
   "metadata": {},
   "outputs": [
    {
     "data": {
      "text/plain": [
       "MLPClassifier(activation='relu', alpha=0.0001, batch_size='auto', beta_1=0.9,\n",
       "       beta_2=0.999, early_stopping=False, epsilon=1e-08,\n",
       "       hidden_layer_sizes=(100,), learning_rate='constant',\n",
       "       learning_rate_init=0.001, max_iter=200, momentum=0.9,\n",
       "       nesterovs_momentum=True, power_t=0.5, random_state=None,\n",
       "       shuffle=True, solver='adam', tol=0.0001, validation_fraction=0.1,\n",
       "       verbose=False, warm_start=False)"
      ]
     },
     "execution_count": 149,
     "metadata": {},
     "output_type": "execute_result"
    }
   ],
   "source": [
    "nn_clf.fit(X_train, y_train)"
   ]
  },
  {
   "cell_type": "code",
   "execution_count": 150,
   "metadata": {},
   "outputs": [
    {
     "data": {
      "text/plain": [
       "['multilayer_perceptron_classifier_nodesc.pkl']"
      ]
     },
     "execution_count": 150,
     "metadata": {},
     "output_type": "execute_result"
    }
   ],
   "source": [
    "joblib.dump(nn_clf, 'multilayer_perceptron_classifier_nodesc.pkl')"
   ]
  },
  {
   "cell_type": "code",
   "execution_count": 151,
   "metadata": {},
   "outputs": [],
   "source": [
    "nn_y_pred = nn_clf.predict(X_test)"
   ]
  },
  {
   "cell_type": "code",
   "execution_count": 152,
   "metadata": {},
   "outputs": [
    {
     "name": "stdout",
     "output_type": "stream",
     "text": [
      "Accuracy: \n",
      "0.648641722194\n",
      "\n",
      "AUC Score: \n",
      "0.532688330846\n",
      "\n",
      "Classification report: \n",
      "             precision    recall  f1-score   support\n",
      "\n",
      "          0       0.65      0.96      0.78      4968\n",
      "          1       0.59      0.11      0.18      2836\n",
      "\n",
      "avg / total       0.63      0.65      0.56      7804\n",
      "\n"
     ]
    }
   ],
   "source": [
    "score_classifier(nn_y_pred)"
   ]
  },
  {
   "cell_type": "markdown",
   "metadata": {},
   "source": [
    "Interestingly, worse accuracy and AUC. "
   ]
  },
  {
   "cell_type": "markdown",
   "metadata": {},
   "source": [
    "# Summary"
   ]
  },
  {
   "cell_type": "markdown",
   "metadata": {},
   "source": [
    "The regression methods we used are: logistic regression, random forest regression, and gradient boosting regression.\n",
    "\n",
    "The classification methods we used are: naive bayes, random forest, and multi-layer perceptron (neural network).\n",
    "\n",
    "Overall, the results are:\n",
    "\n",
    "For regression:\n",
    "- The regression methods that used non-description fields performed much better than the description-only regression methods. \n",
    "- The description-only regression methods didn't differ too greatly in performance.\n",
    "- Of the non-description regression methods, logistic regression performed the worst, yielding a negative r2 score. :( \n",
    "- The best regression method of those tried is the description-only random forest regression, with a mean absolute error of 10.1, median absolute error of 6.4, root mean squared error of 17.8, and moderate r2 score of 0.49. For comparison, the standard deviation of the actual prices is about 41 dollars.\n",
    "\n",
    "For classification:\n",
    "- Overall, the classification methods for non-description fields performed a bit better than the description-only regression methods. \n",
    "- For the description-only classifiers, naive bayes performed pretty poorly, with low accuracy (37.3%) and AUC (55.1%). Random forest performed a bit better, with an 80% accuray and 61.1% AUC score. \n",
    "- The description-only multi-layer perceptron performed surprisingly pretty well, with an accuracy of 83.6% and AUC of 75.1% -- but perhaps this is not as surprising because neural networks tend to handle unstructured data a bit better than the other two methods.\n",
    "- The non-description classification methods had the best performance overall out of the methods tried in this analysis. Naive bayes had decent accuracy (73.6%) and AUC (72.2%). Random forest also had pretty good accuracy (83.3%) and AUC (80.9%), outperforming the description-only neural network. \n",
    "- The non-description multi-layer perceptron did not perform as well, with accuracy of 64.9% and AUC of 53.3%.\n",
    "\n",
    "Out of all the methods tried, the non-description random forest classifier appears to have the best performance."
   ]
  },
  {
   "cell_type": "markdown",
   "metadata": {},
   "source": [
    "It's also worth noting that all of these methods were used out-of-the-box, with no parameter tuning. With grid search, it's possible we would yield even better performance."
   ]
  },
  {
   "cell_type": "markdown",
   "metadata": {},
   "source": [
    "## Discussion"
   ]
  },
  {
   "cell_type": "markdown",
   "metadata": {},
   "source": [
    "Based on the models and methods used in this analysis, it appears that the description provides less predictive information than the non-description fields, such as where it's from, etc. This is considering that, generally speaking, the models using non-description fields performed better than the description-field-only models.\n",
    "\n",
    "However, we should consider that we didn't perform a lot of NLP or text pre-processing; we only tried one method for encoding the free-form text for modeling. For a more robust analysis, we could try tokenizing or stemming before vectorizing. We could also try other vectorizers like a hash vectorizer or tfidf vectorizer and compare performance. We also limited the number of models we used for the sake of time.\n",
    "\n",
    "Given more time and/or computing power, we could use cross-validation for more robust metrics, as well as try out other models for regression and classification.\n"
   ]
  },
  {
   "cell_type": "markdown",
   "metadata": {},
   "source": [
    "Furthermore, also given more time, we can open up these models and either graph the feature importances for the model, or perform feature selection. This can give us better insights toward which non-description features specifically were useful, and whether or not they could have been captured in the text description."
   ]
  }
 ],
 "metadata": {
  "kernelspec": {
   "display_name": "Python 3",
   "language": "python",
   "name": "python3"
  },
  "language_info": {
   "codemirror_mode": {
    "name": "ipython",
    "version": 3
   },
   "file_extension": ".py",
   "mimetype": "text/x-python",
   "name": "python",
   "nbconvert_exporter": "python",
   "pygments_lexer": "ipython3",
   "version": "3.6.2"
  }
 },
 "nbformat": 4,
 "nbformat_minor": 2
}
